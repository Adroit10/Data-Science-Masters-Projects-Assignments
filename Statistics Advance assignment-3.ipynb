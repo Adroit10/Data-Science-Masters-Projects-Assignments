{
 "cells": [
  {
   "cell_type": "markdown",
   "id": "197e81ae",
   "metadata": {},
   "source": [
    "## Question 1"
   ]
  },
  {
   "cell_type": "markdown",
   "id": "72fde122",
   "metadata": {},
   "source": [
    "Estimation statistics involves using sample data to make inferences or estimates about population parameters. These estimates help researchers and analysts draw conclusions about a population based on limited information from a sample. There are two main types of estimates: point estimates and interval estimates.\n",
    "\n",
    "\n",
    "Point estimate:\n",
    "\n",
    "A point estimate is a single numerical value that is used to approximate a population parameter. It is derived from sample data and serves as the best guess or single value that is assumed to be close to the true, unknown population parameter. For example, if you want to estimate the average height of a population based on a sample, the sample mean would be the point estimate for the population mean.\n",
    "\n",
    "\n",
    "Interval Estimate:\n",
    "\n",
    "An interval estimate, on the other hand, provides a range of values within which the true population parameter is likely to lie. It recognizes the uncertainty inherent in making estimates based on a sample and provides a measure of the precision or confidence associated with the estimate. The most common form of interval estimate is the confidence interval, which specifies a range of values and an associated level of confidence that the true parameter falls within that range. For example, a 95% confidence interval for the average height might be from 65 inches to 75 inches."
   ]
  },
  {
   "cell_type": "markdown",
   "id": "eef7cdae",
   "metadata": {},
   "source": [
    "## Question 2"
   ]
  },
  {
   "cell_type": "code",
   "execution_count": 1,
   "id": "ea1db50c",
   "metadata": {},
   "outputs": [
    {
     "name": "stdout",
     "output_type": "stream",
     "text": [
      "estimated population mean :  70.98\n"
     ]
    }
   ],
   "source": [
    "import math\n",
    "\n",
    "def estimate_population_mean(sample_mean,sample_std_dev,sample_size):\n",
    "    standard_error=sample_std_dev/math.sqrt(sample_size)\n",
    "    margin_error=1.96*standard_error # 1.96 corresponds to 95% CI (Z-score val)\n",
    "    population_mean_estimate=sample_mean+margin_error\n",
    "    return population_mean_estimate\n",
    "\n",
    "sample_mean=70\n",
    "sample_std_dev=5\n",
    "sample_size=100\n",
    "\n",
    "estimated_population_mean=estimate_population_mean(sample_mean,sample_std_dev,sample_size)\n",
    "\n",
    "print(\"estimated population mean : \",estimated_population_mean)\n",
    "    "
   ]
  },
  {
   "cell_type": "markdown",
   "id": "aa982693",
   "metadata": {},
   "source": [
    "## Question 3"
   ]
  },
  {
   "cell_type": "markdown",
   "id": "528b6c42",
   "metadata": {},
   "source": [
    "Hypothesis testing is a statistical method used to make inferences about a population based on a sample of data. The process involves formulating a hypothesis about a population parameter, collecting data, and then using statistical techniques to determine whether the observed data provides enough evidence to reject or fail to reject the null hypothesis.\n",
    "\n",
    "Null Hypothesis (H0): This is a statement that there is no significant difference, effect, or relationship. It often represents the status quo or a default assumption.\n",
    "\n",
    "Alternative Hypothesis (H1): This is a statement that contradicts the null hypothesis, suggesting a significant difference, effect, or relationship.\n",
    "\n",
    "Hypothesis testing allows researchers and analysts to make informed decisions about population parameters based on sample data. It provides a systematic approach to evaluating evidence and drawing conclusions. In fields such as manufacturing, hypothesis testing is used to ensure product quality. By testing samples, manufacturers can make inferences about the quality of the entire production batch."
   ]
  },
  {
   "cell_type": "markdown",
   "id": "c83e3ca3",
   "metadata": {},
   "source": [
    "## Question 4"
   ]
  },
  {
   "cell_type": "markdown",
   "id": "d6dc455b",
   "metadata": {},
   "source": [
    "Let's formulate a hypothesis test to whether the average weight of male college students is greater than the averae weight of feemale coleege students.\n",
    "\n",
    "Null Hypothesis (HO) :\n",
    "\n",
    "The average height of male college students is equal to or less than the average weight of female college students.\n",
    "\n",
    "Alternate Hypothesis (H1) : \n",
    "\n",
    "The average weight of male college students is greater than the average weight of female college students."
   ]
  },
  {
   "cell_type": "markdown",
   "id": "a808d13e",
   "metadata": {},
   "source": [
    "## Question 5"
   ]
  },
  {
   "cell_type": "code",
   "execution_count": 2,
   "id": "10100b91",
   "metadata": {},
   "outputs": [
    {
     "name": "stdout",
     "output_type": "stream",
     "text": [
      "two sample T-test result\n",
      "T-statistics: 4.2606586660578865\n",
      "P-value: 7.871665679251151e-05\n",
      "significance level(alpha): 0.05\n",
      "Reject Null hypothesis: True\n"
     ]
    },
    {
     "name": "stderr",
     "output_type": "stream",
     "text": [
      "C:\\Users\\HP\\AppData\\Local\\Temp\\ipykernel_26272\\3709167432.py:5: DeprecationWarning: Please use `ttest_ind` from the `scipy.stats` namespace, the `scipy.stats.stats` namespace is deprecated.\n",
      "  t_stats,p_val=stats.ttest_ind(sample_1,sample_2,equal_var=False)\n"
     ]
    }
   ],
   "source": [
    "import numpy as np\n",
    "from scipy.stats import stats\n",
    "\n",
    "def Hypothesis__test(sample_1,sample_2,alpha=0.05):\n",
    "    t_stats,p_val=stats.ttest_ind(sample_1,sample_2,equal_var=False)\n",
    "    \n",
    "    reject_null=p_val<alpha\n",
    "    \n",
    "    result={\n",
    "        't-statistics':t_stats,\n",
    "        'p_value':p_val,\n",
    "        'alpha':alpha,\n",
    "        'reject null':reject_null\n",
    "        \n",
    "    }\n",
    "    return result\n",
    "\n",
    "np.random.seed(42)\n",
    "sample_1=np.random.normal(loc=150,scale=10,size=30)\n",
    "sample_2=np.random.normal(loc=140,scale=8,size=30)\n",
    "result=Hypothesis__test(sample_1,sample_2)\n",
    "\n",
    "print(\"two sample T-test result\")\n",
    "print(f\"T-statistics: {result['t-statistics']}\")\n",
    "print(f\"P-value: {result['p_value']}\")\n",
    "print(f\"significance level(alpha): {result['alpha']}\")\n",
    "print(f\"Reject Null hypothesis: {result['reject null']}\")"
   ]
  },
  {
   "cell_type": "markdown",
   "id": "93a9361a",
   "metadata": {},
   "source": [
    "## Question 6"
   ]
  },
  {
   "cell_type": "markdown",
   "id": "2de8b1ef",
   "metadata": {},
   "source": [
    "Null Hypothesis (H0): This is a statement that there is no significant difference, effect, or relationship. It often represents the status quo or a default assumption.\n",
    "\n",
    "Alternative Hypothesis (H1): This is a statement that contradicts the null hypothesis, suggesting a significant difference, effect, or relationship.\n",
    "\n",
    "For example:\n",
    "\n",
    "Null Hypothesis (HO) :\n",
    "\n",
    "The average height of male college students is equal to or less than the average weight of female college students.\n",
    "\n",
    "Alternate Hypothesis (H1) :\n",
    "\n",
    "The average weight of male college students is greater than the average weight of female college students."
   ]
  },
  {
   "cell_type": "markdown",
   "id": "37f0e1e8",
   "metadata": {},
   "source": [
    "## Question 7"
   ]
  },
  {
   "cell_type": "markdown",
   "id": "0f26141e",
   "metadata": {},
   "source": [
    "The steps involved in hypothesis testing are :\n",
    "\n",
    "1. Stating the Null Hypothesis (H0) :\n",
    "\n",
    "This is a statement that there is no significant difference, effect, or relationship. It often represents the status quo or a default assumption.\n",
    "\n",
    "2. Stating the Alternate hypothesis (H1) :\n",
    "\n",
    "This is a statement that contradicts the null hypothesis, suggesting a significant difference, effect, or relationship.\n",
    "\n",
    "3. Significance level (alpha) :\n",
    "\n",
    "This is the threshold for determining statistical significance. Common choices include 0.05 or 0.01, representing a 5% or 1% chance, respectively, of rejecting the null hypothesis when it is true.\n",
    "\n",
    "4. Test statistics and P-value calculation :\n",
    "\n",
    " A test statistic is calculated from the sample data, and a p-value is associated with it. The p-value represents the probability of obtaining results as extreme as the observed results if the null hypothesis is true.\n",
    " \n",
    "5. Decision Rule :\n",
    " \n",
    " Based on the p-value and the chosen significance level, a decision is made to either reject or fail to reject the null hypothesis.\n",
    "\n",
    "6. Drawing conclusions :\n",
    "\n",
    "The results of the hypothesis test lead to a conclusion about the validity of the null hypothesis and, indirectly, the support for the alternative hypothesis."
   ]
  },
  {
   "cell_type": "markdown",
   "id": "b5b1ff55",
   "metadata": {},
   "source": [
    "## Question 8"
   ]
  },
  {
   "cell_type": "markdown",
   "id": "9b289438",
   "metadata": {},
   "source": [
    "In hypothesis testing, the p-value is a measure that helps assess the evidence against a null hypothesis. It quantifies the probability of observing a test statistic as extreme as, or more extreme than, the one computed from the sample data, assuming that the null hypothesis is true.\n",
    "\n",
    "The p-value is a probability that ranges between 0 and 1. A low p-value (typically below a chosen significance level, such as 0.05) indicates that the observed data is unlikely under the assumption of the null hypothesis. A high p-value suggests that the observed data is consistent with the null hypothesis. The p-value is not the probability of the null hypothesis being true or false. It is the probability of observing the data or more extreme data, assuming the null hypothesis is true."
   ]
  },
  {
   "cell_type": "markdown",
   "id": "09cb340e",
   "metadata": {},
   "source": [
    "## Question 9"
   ]
  },
  {
   "cell_type": "code",
   "execution_count": 3,
   "id": "9577aff5",
   "metadata": {},
   "outputs": [
    {
     "data": {
      "image/png": "[encoded data removed]",
      "text/plain": [
       "<Figure size 640x480 with 1 Axes>"
      ]
     },
     "metadata": {},
     "output_type": "display_data"
    }
   ],
   "source": [
    "import numpy as np\n",
    "import matplotlib.pyplot as plt\n",
    "from scipy.stats import t\n",
    "\n",
    "deg_of_freedom=10\n",
    "\n",
    "x=np.linspace(-5,5,1000)\n",
    "pdf_vals=t.pdf(x,df=deg_of_freedom)\n",
    "\n",
    "plt.plot(x,pdf_vals,label=\"Students t-distribution dof=10\")\n",
    "plt.xlabel('x')\n",
    "plt.ylabel('Probability density')\n",
    "plt.legend()\n",
    "plt.grid(True)\n",
    "plt.show()"
   ]
  },
  {
   "cell_type": "markdown",
   "id": "9312c2a8",
   "metadata": {},
   "source": [
    "## Question 10"
   ]
  },
  {
   "cell_type": "code",
   "execution_count": 4,
   "id": "304facc6",
   "metadata": {},
   "outputs": [
    {
     "name": "stdout",
     "output_type": "stream",
     "text": [
      "Two-Sample T-test Results\n",
      "T-statistic result: -0.8843149802954811\n",
      "P-value: 0.3792444088732104\n",
      "Significance Value: 0.05\n",
      "Reject Null Hypothesis: False\n"
     ]
    },
    {
     "name": "stderr",
     "output_type": "stream",
     "text": [
      "C:\\Users\\HP\\AppData\\Local\\Temp\\ipykernel_26272\\381670512.py:6: DeprecationWarning: Please use `ttest_ind` from the `scipy.stats` namespace, the `scipy.stats.stats` namespace is deprecated.\n",
      "  t_statistics,P_value=stats.ttest_ind(sample_1,sample_2,equal_var=False)\n"
     ]
    }
   ],
   "source": [
    "import numpy as np\n",
    "from scipy.stats import stats\n",
    "\n",
    "def Hypothesis_testing(sample_1,sample_2,alpha=0.05):\n",
    "    \n",
    "    t_statistics,P_value=stats.ttest_ind(sample_1,sample_2,equal_var=False)\n",
    "    reject_null=P_value<alpha\n",
    "    \n",
    "    results={\n",
    "        'T_statistics':t_statistics,\n",
    "        'alpha':alpha,\n",
    "        'P_value':P_value,\n",
    "        'reject null':reject_null\n",
    "    }\n",
    "    return results\n",
    "np.random.seed(42)\n",
    "sample1=np.random.normal(loc=10,scale=2,size=40)\n",
    "sample2=np.random.normal(loc=10,scale=2,size=40)\n",
    "ttest_res=Hypothesis_testing(sample1,sample2)\n",
    "\n",
    "print(\"Two-Sample T-test Results\")\n",
    "print(f\"T-statistic result: {ttest_res['T_statistics']}\")\n",
    "print(f\"P-value: {ttest_res['P_value']}\")\n",
    "print(f\"Significance Value: {ttest_res['alpha']}\")\n",
    "print(f\"Reject Null Hypothesis: {ttest_res['reject null']}\")\n"
   ]
  },
  {
   "cell_type": "markdown",
   "id": "41b1a0d8",
   "metadata": {},
   "source": [
    "## Question 11"
   ]
  },
  {
   "cell_type": "markdown",
   "id": "5b7a1b52",
   "metadata": {},
   "source": [
    "Student's t-distribution, often simply referred to as the t-distribution, is a probability distribution that arises in the context of estimating the population mean of a normally distributed population when the sample size is small and the population standard deviation is unknown. It is named after William Sealy Gosset, who published under the pseudonym \"Student.\"\n",
    "\n",
    "The t-distribution is similar in shape to the normal distribution but has heavier tails. As the sample size increases, the t-distribution approaches the normal distribution. The key parameter that defines the shape of the t-distribution is the degrees of freedom (df).\n",
    "\n",
    "\n",
    "The t-distribution is commonly used in the following scenarios:\n",
    "\n",
    "1. When dealing with small sample sizes (typically less than 30) and the population standard deviation is unknown. It is used in situations where the sample size is too small for the normal distribution to be a good approximation\n",
    "\n",
    "2. In applications involving confidence intervals and hypothesis testing for the population mean.\n",
    "\n",
    "3. When comparing the means of two independent groups, especially when the sample sizes are small and the assumption of equal variances may not be valid.\n",
    "\n",
    "4. The t-distribution is less sensitive to outliers compared to the normal distribution, making it more robust in certain situations."
   ]
  },
  {
   "cell_type": "markdown",
   "id": "d16c0692",
   "metadata": {},
   "source": [
    "## Question 12"
   ]
  },
  {
   "cell_type": "markdown",
   "id": "5a15ab1b",
   "metadata": {},
   "source": [
    "The t-statistic is a measure that quantifies how far a sample estimate (such as the sample mean) is from the hypothesized population parameter, expressed in terms of the standard error of the estimate. It is commonly used in hypothesis testing and confidence interval construction when dealing with small sample sizes and unknown population standard deviations.\n",
    "\n",
    "The formula for the t-statistic is given by:\n",
    "\n",
    "t= (X - mu)/(s/sqrt(n))\n",
    "\n",
    "Where:\n",
    "\n",
    "1. t is the statistics value\n",
    "2. X: is the sample mean\n",
    "3. mu is the population mean under null hypothesis\n",
    "4. s is the sample standard deviation\n",
    "5. n is the sample size\n"
   ]
  },
  {
   "cell_type": "markdown",
   "id": "66c4896f",
   "metadata": {},
   "source": [
    "## Question 13"
   ]
  },
  {
   "cell_type": "markdown",
   "id": "c215fffb",
   "metadata": {},
   "source": [
    "The sample mean(X) revenue given to us is $500\n",
    "\n",
    "The sample standard deviation(s) value is $50\n",
    "\n",
    "given sample size(n)=50\n",
    "\n",
    "desired confidence level=95%\n",
    "\n",
    "The formula for calculation of confidence interval is :\n",
    "\n",
    "confidence interval=(X- z* s/sqrt(n) , X+ z* s/sqrt(n))\n",
    "\n",
    "for 95% confidence interval the equivalent z-value is 1.96 Therefore the confidence interval is :\n",
    "\n",
    "(500 - 1.96 * 50/sqrt(50) , 500 + 1.96 * 50/sqrt(50))\n",
    "\n",
    "This results to the range (486.14 , 513.859)"
   ]
  },
  {
   "cell_type": "code",
   "execution_count": 5,
   "id": "5af3edb7",
   "metadata": {},
   "outputs": [
    {
     "name": "stdout",
     "output_type": "stream",
     "text": [
      "(486.1407070887437, 513.8592929112564)\n"
     ]
    }
   ],
   "source": [
    "import math \n",
    "\n",
    "sample_size=50\n",
    "std_sample=50\n",
    "\n",
    "alpha=0.05\n",
    "sample_mean=500\n",
    "\n",
    "\n",
    "def Confidence_Interval(sample_mean,sample_std,sample_size,alpha):\n",
    "    return ( sample_mean-1.96*sample_std/math.sqrt(sample_size), sample_mean+1.96*sample_std/math.sqrt(sample_size) )\n",
    "\n",
    "\n",
    "Confidence_range=Confidence_Interval(sample_mean,std_sample,sample_size,alpha)\n",
    "\n",
    "print(Confidence_range)"
   ]
  },
  {
   "cell_type": "markdown",
   "id": "38910567",
   "metadata": {},
   "source": [
    "## Question 14"
   ]
  },
  {
   "cell_type": "markdown",
   "id": "b7273e4f",
   "metadata": {},
   "source": [
    "H0:  The null hypothesis is that the mean decrease in blood pressure is equal to 10 mmHg.\n",
    "\n",
    "H1:  The alternative hypothesis is that the mean decrease in blood pressure is not equal to 10 mmHg.\n",
    "\n",
    "It's a two tail test as the blood pressure could be greater or less than 10 mm hg.\n",
    "\n",
    "As the value of the population standard deviation is missing we make use of the t-test.\n",
    "\n",
    "Given :\n",
    "\n",
    "Sample Mean(X)=8\n",
    "\n",
    "hypothetical mean(mu) =10\n",
    "\n",
    "sample standard deviation (s)= 3\n",
    "\n",
    "sample size(n)=100\n",
    "\n",
    "degree of freedom = n-1 =99\n",
    "\n",
    "\n",
    "The formula for t-test is given as:\n",
    "\n",
    "t= (X - mu)/(s/sqrt(n))\n",
    "\n",
    "therefore , t= 8-10/(3/sqrt(100))\n",
    "t= -6.67\n",
    "\n",
    "We look for the t-stats value in the table for finding out the critical value corresponding to the confidence interval and degree of freedom : The value is (+-)1.984 (approximate). \n",
    " Our calculated value is far from the critical value therefore we reject the null hypothesis and conclude that there is enough evidence to suggest that the new drug has a significant effect on decreasing blood pressure, as the mean decrease is not equal to the hypothesized value of 10 mmHg.."
   ]
  },
  {
   "cell_type": "code",
   "execution_count": 6,
   "id": "0e16d1f2",
   "metadata": {},
   "outputs": [
    {
     "name": "stdout",
     "output_type": "stream",
     "text": [
      "reject the null hypothesis\n"
     ]
    }
   ],
   "source": [
    "from scipy.stats import t \n",
    "import numpy as np\n",
    "\n",
    "sample_mean=8\n",
    "hypo_mean=10\n",
    "sample_std=3\n",
    "sample_size=100\n",
    "significance_level=0.05\n",
    "t_stats=(sample_mean-hypo_mean)/(sample_std/np.sqrt(sample_size))\n",
    "\n",
    "dof=sample_size-1\n",
    "\n",
    "critical_value=t.ppf(1-significance_level/2,df=dof)\n",
    "\n",
    "if np.abs(t_stats)>critical_value:\n",
    "    print(\"reject the null hypothesis\")\n",
    "else:\n",
    "    print(\"Failed to reject the null hypothesis\")"
   ]
  },
  {
   "cell_type": "markdown",
   "id": "7d311a44",
   "metadata": {},
   "source": [
    "## Question 15"
   ]
  },
  {
   "cell_type": "markdown",
   "id": "0bd290da",
   "metadata": {},
   "source": [
    "Population mean (mu): 5 pounds\n",
    "\n",
    "Sample mean (X): 4.8 pounds\n",
    "\n",
    "Population standard deviation (std): 0.5 pounds\n",
    "\n",
    "Sample size (n): 25\n",
    "\n",
    "Significance level (alpha): 0.01\n",
    "\n",
    "The null hypothesis is that the true mean weight is equal to 5 pounds.\n",
    "\n",
    "The alternative hypothesis is that the true mean weight is less than 5 pounds.\n",
    "\n",
    "Z= X-mu /(std/sqrt(n))\n",
    "\n",
    "z=4.8-5/(0.5/sqrt(25))\n",
    "\n",
    "z=-2\n",
    "\n",
    "The z-criticalvalue corresponding to 0.01 significance level is -2.3 (aproximate) Therefore as it is a one tail test and z-stats value(-2) is less than the critical value (-2.3) we fail to reject the null hypothesis and conclude that the evidence is not sufficient to suggest the true mean weight is less than 5 pounds."
   ]
  },
  {
   "cell_type": "code",
   "execution_count": 7,
   "id": "3e251480",
   "metadata": {},
   "outputs": [
    {
     "name": "stdout",
     "output_type": "stream",
     "text": [
      "z-statistic: -2.0000000000000018\n",
      "Critical value: -2.3263478740408408\n",
      "Fail to reject the null hypothesis.\n"
     ]
    }
   ],
   "source": [
    "import numpy as np\n",
    "from scipy.stats import norm\n",
    "\n",
    "population_mean = 5  \n",
    "sample_mean = 4.8  \n",
    "population_std_dev = 0.5\n",
    "sample_size = 25 \n",
    "significance_level = 0.01 \n",
    "\n",
    "\n",
    "z_statistic = (sample_mean - population_mean)/(population_std_dev / np.sqrt(sample_size))\n",
    "critical_value = norm.ppf(significance_level)\n",
    "\n",
    "\n",
    "print(f\"z-statistic: {z_statistic}\")\n",
    "print(f\"Critical value: {critical_value}\")\n",
    "\n",
    "# Test the hypothesis\n",
    "if z_statistic < critical_value:\n",
    "    print(\"Reject the null hypothesis. \")\n",
    "else:\n",
    "    print(\"Fail to reject the null hypothesis.\")\n"
   ]
  },
  {
   "cell_type": "markdown",
   "id": "6f269d95",
   "metadata": {},
   "source": [
    "## Question 16"
   ]
  },
  {
   "cell_type": "markdown",
   "id": "528a6080",
   "metadata": {},
   "source": [
    "To test the hypothesis that the population means for the two groups are equal, we can use a two-sample t-test for independent samples. The null hypothesis (H0) is that the population means are equal (u1 = u2), and the alternative hypothesis (H1) is that the population means are not equal (u1!=u2).\n",
    "\n",
    "X1=80 and X2=75 are the sample means of two groups. s1=10 and s2=8 are the sample standard deviations for the two groups and n1=30 and n2=40 are the sample sizes."
   ]
  },
  {
   "cell_type": "code",
   "execution_count": 8,
   "id": "068f456d",
   "metadata": {},
   "outputs": [
    {
     "name": "stdout",
     "output_type": "stream",
     "text": [
      "t-statistic: 2.2511258444537408\n",
      "Critical value: 177.31126638450982\n",
      "Fail to reject the null hypothesis. The evidence is not sufficient to suggest a significant difference in means.\n"
     ]
    }
   ],
   "source": [
    "import numpy as np\n",
    "from scipy.stats import t\n",
    "\n",
    "# 1st group\n",
    "mean_1 = 80\n",
    "std_dev_1 = 10\n",
    "sample_size_1 = 30\n",
    "\n",
    "# 2nd group\n",
    "mean_2 = 75\n",
    "std_dev_2 = 8\n",
    "sample_size_2 = 40\n",
    "\n",
    "significance_level = 0.01\n",
    "\n",
    "t_statistic = (mean_1 - mean_2) / np.sqrt((std_dev_1**2 / sample_size_1) + (std_dev_2**2 / sample_size_2))\n",
    "\n",
    "df = ((std_dev_1**2 / sample_size_1) + (std_dev_2**2 / sample_size_2))**2 / \\\n",
    "     (((std_dev_1**2 / sample_size_1)**2 / (sample_size_1 - 1)) + ((std_dev_2**2 / sample_size_2)**2 / (sample_size_2 - 1))) / \\\n",
    "     (sample_size_1 + sample_size_2 - 2)\n",
    "\n",
    "critical_value = t.ppf(1 - significance_level / 2, df=df)\n",
    "\n",
    "print(f\"t-statistic: {t_statistic}\")\n",
    "print(f\"Critical value: {critical_value}\")\n",
    "\n",
    "if np.abs(t_statistic) > critical_value:\n",
    "    print(\"Reject the null hypothesis. There is enough evidence to suggest a significant difference in means.\")\n",
    "else:\n",
    "    print(\"Fail to reject the null hypothesis. The evidence is not sufficient to suggest a significant difference in means.\")\n"
   ]
  },
  {
   "cell_type": "markdown",
   "id": "c8355be0",
   "metadata": {},
   "source": [
    "## Question 17"
   ]
  },
  {
   "cell_type": "markdown",
   "id": "9505d79f",
   "metadata": {},
   "source": [
    "The sample mean(X) revenue given to us is 4\n",
    "\n",
    "The sample standard deviation(s) value is 1.5\n",
    "\n",
    "given sample size(n)=50\n",
    "\n",
    "desired confidence level=99%\n",
    "\n",
    "The formula for calculation of confidence interval is :\n",
    "\n",
    "confidence interval=(X- z* s/sqrt(n) , X+ z* s/sqrt(n))\n",
    "\n",
    "for 95% confidence interval the equivalent z-value is 2.576 Therefore the confidence interval is :\n",
    "\n",
    "(4 - 2.576 * 50/sqrt(1.5) , 4 + 2.576 * 50/sqrt(1.5))\n",
    "\n",
    "This results to the range (3.453, 4.546)"
   ]
  },
  {
   "cell_type": "code",
   "execution_count": 9,
   "id": "fd3fe4a8",
   "metadata": {},
   "outputs": [
    {
     "name": "stdout",
     "output_type": "stream",
     "text": [
      "(3.453547879499036, 4.546452120500964)\n"
     ]
    }
   ],
   "source": [
    "import math \n",
    "\n",
    "sample_size=50\n",
    "std_sample=1.5\n",
    "\n",
    "alpha=0.01\n",
    "sample_mean=4\n",
    "\n",
    "\n",
    "def Confidence_Interval(sample_mean,sample_std,sample_size,alpha):\n",
    "    return ( sample_mean-2.576*sample_std/math.sqrt(sample_size), sample_mean+2.576*sample_std/math.sqrt(sample_size) )\n",
    "\n",
    "\n",
    "Confidence_range=Confidence_Interval(sample_mean,std_sample,sample_size,alpha)\n",
    "\n",
    "print(Confidence_range)"
   ]
  },
  {
   "cell_type": "code",
   "execution_count": null,
   "id": "40e268b1",
   "metadata": {},
   "outputs": [],
   "source": []
  }
 ],
 "metadata": {
  "kernelspec": {
   "display_name": "Python 3 (ipykernel)",
   "language": "python",
   "name": "python3"
  },
  "language_info": {
   "codemirror_mode": {
    "name": "ipython",
    "version": 3
   },
   "file_extension": ".py",
   "mimetype": "text/x-python",
   "name": "python",
   "nbconvert_exporter": "python",
   "pygments_lexer": "ipython3",
   "version": "3.11.4"
  }
 },
 "nbformat": 4,
 "nbformat_minor": 5
}
