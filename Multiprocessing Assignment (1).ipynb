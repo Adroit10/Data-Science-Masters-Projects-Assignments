{
 "cells": [
  {
   "cell_type": "markdown",
   "id": "13062f41",
   "metadata": {},
   "source": [
    "## Question 1"
   ]
  },
  {
   "cell_type": "markdown",
   "id": "d566a10a",
   "metadata": {},
   "source": [
    "Multiprocessing is as package that supports spawning processes using an API similar to the threading module. Multiprocessing refers to the ability of a system to support more than one processor at the same time. Applications in a multiprocessing system are broken to smaller routines that run independantly. The operating system allocates these threads to the processors improving performance of the system.\n",
    "\n",
    "If we have a single processor and it is assigned several processes at the same time it will have to interrupt each task and switch briefly to another to keep the processes going. It becomes difficult to keep track of all the processes thus multiprocessing is used. Here the CPU can easily execute several tasks at once with each task using its own processor."
   ]
  },
  {
   "cell_type": "markdown",
   "id": "1a377775",
   "metadata": {},
   "source": [
    "## Question 2"
   ]
  },
  {
   "cell_type": "markdown",
   "id": "b2b976fa",
   "metadata": {},
   "source": [
    "The main differences between Multiprocessing and Multithreading are:\n",
    "\n",
    "#### Multiprocessing\n",
    "    1. In multiprocessing the CPUs are added for increasing computing power.\n",
    "    2. In multiprocessing many processes are executed simultaneously\n",
    "    3. multiprocessing can be classified into symmetric and assymetric\n",
    "    4. Process creation is a time consuming process\n",
    "    5.every process owned asseperate address space\n",
    "    \n",
    "#### Multithreading\n",
    "    1. Many threads are created of a single process for increasing the      computational power\n",
    "    2. many threads of a process are created simultaneously\n",
    "    3. Multithreading is not classified in any categories\n",
    "    4. process creation is economical\n",
    "    5. a common address space is shared by all the threads."
   ]
  },
  {
   "cell_type": "markdown",
   "id": "9ea9be79",
   "metadata": {},
   "source": [
    "## Question 3 "
   ]
  },
  {
   "cell_type": "code",
   "execution_count": 1,
   "id": "67961a6b",
   "metadata": {},
   "outputs": [
    {
     "name": "stdout",
     "output_type": "stream",
     "text": [
      "this is my multiprocessing program\n",
      "this is my main function\n"
     ]
    }
   ],
   "source": [
    "import multiprocessing \n",
    "def fun():\n",
    "    print(\"this is my multiprocessing program\")\n",
    "if __name__==\"__main__\":\n",
    "    m=multiprocessing.Process(target=fun)\n",
    "   \n",
    "    m.start()\n",
    "    m.join()\n",
    "    print(\"this is my main function\")"
   ]
  },
  {
   "cell_type": "markdown",
   "id": "d1b81f44",
   "metadata": {},
   "source": [
    "## Question 4"
   ]
  },
  {
   "cell_type": "markdown",
   "id": "0878a8e7",
   "metadata": {},
   "source": [
    "A pool object offers a convinient means of parallelizing the execution of a function across multiple input values distributing the data across processes. This is known as data parellelism.\n",
    "This pool object allows a set of processes to be executed concurrently to perform a specific task."
   ]
  },
  {
   "cell_type": "markdown",
   "id": "6c923c2c",
   "metadata": {},
   "source": [
    "## Question 5"
   ]
  },
  {
   "cell_type": "markdown",
   "id": "442125d0",
   "metadata": {},
   "source": [
    "The Python Multiprocessing Pool class allows you to create and manage process pools in Python. We can create the pool of processes using the multiprocessing.Pool class which provides us with the tools for pooling creating pools."
   ]
  },
  {
   "cell_type": "markdown",
   "id": "dc7d161d",
   "metadata": {},
   "source": [
    "## Question 6"
   ]
  },
  {
   "cell_type": "code",
   "execution_count": 2,
   "id": "517bd3c8",
   "metadata": {},
   "outputs": [
    {
     "name": "stdout",
     "output_type": "stream",
     "text": [
      "square of num: 81\n",
      "cube of num: 729\n",
      "square root of num: 3.0\n",
      "cube root of num: 2.080083823051904\n"
     ]
    }
   ],
   "source": [
    "import multiprocessing\n",
    "def square(n):\n",
    "    print(\"square of num: {}\".format(n**2))\n",
    "def cube(n):\n",
    "    print(\"cube of num: {}\".format(n**3))\n",
    "def square_root(n):\n",
    "    print(\"square root of num: {}\".format(n**0.5))\n",
    "def cube_root(n):\n",
    "    print(\"cube root of num: {}\".format(n**(1/3)))\n",
    "if __name__==\"__main__\":\n",
    "    m1=multiprocessing.Process(target=square,args=(9,))\n",
    "    m2=multiprocessing.Process(target=cube,args=(9,))\n",
    "    m3=multiprocessing.Process(target=square_root,args=(9,))\n",
    "    m4=multiprocessing.Process(target=cube_root,args=(9,))\n",
    "    \n",
    "    m1.start()\n",
    "    m2.start()\n",
    "    m3.start()\n",
    "    m4.start()\n",
    "    \n",
    "    m1.join()\n",
    "    m2.join()\n",
    "    m3.join()\n",
    "    m4.join()"
   ]
  },
  {
   "cell_type": "code",
   "execution_count": null,
   "id": "385ab4d5",
   "metadata": {},
   "outputs": [],
   "source": []
  }
 ],
 "metadata": {
  "kernelspec": {
   "display_name": "Python 3 (ipykernel)",
   "language": "python",
   "name": "python3"
  },
  "language_info": {
   "codemirror_mode": {
    "name": "ipython",
    "version": 3
   },
   "file_extension": ".py",
   "mimetype": "text/x-python",
   "name": "python",
   "nbconvert_exporter": "python",
   "pygments_lexer": "ipython3",
   "version": "3.10.8"
  }
 },
 "nbformat": 4,
 "nbformat_minor": 5
}
