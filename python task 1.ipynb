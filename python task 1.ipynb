{
 "cells": [
  {
   "cell_type": "markdown",
   "id": "3ff7bbbc",
   "metadata": {},
   "source": [
    "# Question 1"
   ]
  },
  {
   "cell_type": "code",
   "execution_count": 1,
   "id": "2b9bcb7d",
   "metadata": {},
   "outputs": [],
   "source": [
    "list1 = [1,2,3,4, [44,55,66, True], False, (34,56,78,89,34), {1,2,3,3,2,1}, {1:34, \"key2\": [55, 67, 78, 89], 4: (45,22, 61, 34)}, [56, 'data science'], 'Machine Learning']\n",
    "def product(lis):\n",
    "    flat_list=[]\n",
    "    prod=1\n",
    "    for i in lis:\n",
    "        if type(i)==(int) or type(i)==(float):\n",
    "            flat_list.append(i)\n",
    "        if type(i)==(list):\n",
    "            for j in i:\n",
    "                if type(j)==(int) or type(j)==(float):\n",
    "                    flat_list.append(j)\n",
    "        if type(i)==(tuple):\n",
    "            for j in i:\n",
    "                if type(j)==(int) or type(j)==(float):\n",
    "                    flat_list.append(j)\n",
    "        if type(i)==(set):\n",
    "            for j in i:\n",
    "                if type(j)==(int) or type(j)==(float):\n",
    "                    flat_list.append(j)\n",
    "        if type(i)==(dict):\n",
    "            for j in i:\n",
    "                if type(j)==(int) or type(j)==(float):\n",
    "                    flat_list.append(j)\n",
    "            flat_list.extend(i['key2'])\n",
    "            flat_list.extend(i[4])\n",
    "    for i in flat_list:\n",
    "        prod=prod*i\n",
    "    return prod\n",
    "            "
   ]
  },
  {
   "cell_type": "code",
   "execution_count": 2,
   "id": "678589fa",
   "metadata": {},
   "outputs": [
    {
     "data": {
      "text/plain": [
       "121609171734914278789230624768000"
      ]
     },
     "execution_count": 2,
     "metadata": {},
     "output_type": "execute_result"
    }
   ],
   "source": [
    "product(list1)"
   ]
  },
  {
   "cell_type": "markdown",
   "id": "a6b11945",
   "metadata": {},
   "source": [
    "# Question 2"
   ]
  },
  {
   "cell_type": "code",
   "execution_count": 3,
   "id": "fedf735a",
   "metadata": {},
   "outputs": [],
   "source": [
    "# sample input- 'I want to become a Data Scientist'"
   ]
  },
  {
   "cell_type": "code",
   "execution_count": 4,
   "id": "47f92acd",
   "metadata": {},
   "outputs": [],
   "source": [
    "def encryption(sentence):\n",
    "    encrypted_sen=\"\"\n",
    "    alpha=\"abcdefghijklmnopqrstuvwxyz\"\n",
    "    revalpha=alpha[::-1]\n",
    "    sentence=sentence.lower()\n",
    "    for i in range(0,len(sentence)):\n",
    "        if sentence[i]==\" \":\n",
    "            encrypted_sen+=\"$\"\n",
    "        if sentence[i] in alpha:\n",
    "            encrypted_sen+=revalpha[alpha.index(sentence[i])]\n",
    "    return encrypted_sen\n",
    "        \n",
    "        "
   ]
  },
  {
   "cell_type": "code",
   "execution_count": 5,
   "id": "e4112868",
   "metadata": {},
   "outputs": [
    {
     "data": {
      "text/plain": [
       "'r$dzmg$gl$yvxlnv$z$wzgz$hxrvmgrhg'"
      ]
     },
     "execution_count": 5,
     "metadata": {},
     "output_type": "execute_result"
    }
   ],
   "source": [
    "encryption(\"I want to become a Data Scientist\")"
   ]
  },
  {
   "cell_type": "code",
   "execution_count": null,
   "id": "24f03886",
   "metadata": {},
   "outputs": [],
   "source": []
  },
  {
   "cell_type": "code",
   "execution_count": null,
   "id": "130e91ee",
   "metadata": {},
   "outputs": [],
   "source": []
  }
 ],
 "metadata": {
  "kernelspec": {
   "display_name": "Python 3 (ipykernel)",
   "language": "python",
   "name": "python3"
  },
  "language_info": {
   "codemirror_mode": {
    "name": "ipython",
    "version": 3
   },
   "file_extension": ".py",
   "mimetype": "text/x-python",
   "name": "python",
   "nbconvert_exporter": "python",
   "pygments_lexer": "ipython3",
   "version": "3.9.7"
  }
 },
 "nbformat": 4,
 "nbformat_minor": 5
}
