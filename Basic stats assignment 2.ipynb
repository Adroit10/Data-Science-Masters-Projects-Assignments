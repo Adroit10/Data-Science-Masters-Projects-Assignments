{
 "cells": [
  {
   "cell_type": "markdown",
   "id": "a84a9362",
   "metadata": {},
   "source": [
    "## Question 1"
   ]
  },
  {
   "cell_type": "markdown",
   "id": "d77d8525",
   "metadata": {},
   "source": [
    "The 3 measures of central tendancy are:\n",
    "\n",
    "    1. Mean\n",
    "    2. Median\n",
    "    3. Mode"
   ]
  },
  {
   "cell_type": "markdown",
   "id": "0b1d349a",
   "metadata": {},
   "source": [
    "## Question 2"
   ]
  },
  {
   "cell_type": "markdown",
   "id": "7a675898",
   "metadata": {},
   "source": [
    "Mean: It is the measure of the average of all the values of the dataset it  is found by adding all numbers in the data set and then dividing by the number of values in the set. \n",
    "\n",
    "Median: The median is the middle value when a data set is ordered from least to greatest. It is the value about which our data is centered.\n",
    "\n",
    "Mode: The mode is the number that occurs most often in a data set."
   ]
  },
  {
   "cell_type": "markdown",
   "id": "481a9027",
   "metadata": {},
   "source": [
    "## Question 3"
   ]
  },
  {
   "cell_type": "markdown",
   "id": "239bd85b",
   "metadata": {},
   "source": [
    "given height data:\n",
    "[178,177,176,177,178.2,178,175,179,180,175,178.9,176.2,177,172.5,178,176.5]\n",
    "\n",
    "Mean: sum of the values/ total number of values == 177.01875\n",
    "\n",
    "Median: middle value of the dataset (16/2=8 so median is average of 8th and 7th value afetr sorting the list) == 177\n",
    "\n",
    "mode: max frequency value in dataset ==178"
   ]
  },
  {
   "cell_type": "markdown",
   "id": "87bce964",
   "metadata": {},
   "source": [
    "## Question 4"
   ]
  },
  {
   "cell_type": "markdown",
   "id": "20413cc9",
   "metadata": {},
   "source": [
    "Given data: [178,177,176,177,178.2,178,175,179,180,175,178.9,176.2,177,172.5,178,176.5]\n",
    "\n",
    "for the given data first we find the mean value which is : 177.02\n",
    "The standard deviation of the given data is 1.7885"
   ]
  },
  {
   "cell_type": "markdown",
   "id": "4dea7547",
   "metadata": {},
   "source": [
    "## Question 5"
   ]
  },
  {
   "cell_type": "markdown",
   "id": "a6c86684",
   "metadata": {},
   "source": [
    "Range : gives us the difference between the highest and the lowest values. Tells us the spread of your data from the lowest to the highest value.\n",
    "\n",
    "Standard Deviation: standard deviation is used to define the average distance from the mean value of the dataset. The arger the value of standard deviation the larger the variability.\n",
    "\n",
    "variance: variance is defined as the average of the squared distances from the mean A deviation from the mean is how far a score lies from the mean."
   ]
  },
  {
   "cell_type": "markdown",
   "id": "2b1cad20",
   "metadata": {},
   "source": [
    "## Question 6"
   ]
  },
  {
   "cell_type": "markdown",
   "id": "99777eb7",
   "metadata": {},
   "source": [
    "A Venn diagram is an illustration that uses circles to show the relationships among things or finite groups of things. Circles that overlap have a commonality while circles that do not overlap do not share those traits.\n",
    "\n",
    "Venn diagrams help to visually represent the similarities and differences between two concepts."
   ]
  },
  {
   "cell_type": "markdown",
   "id": "4bcb4427",
   "metadata": {},
   "source": [
    "## Question 7"
   ]
  },
  {
   "cell_type": "markdown",
   "id": "906976bb",
   "metadata": {},
   "source": [
    "A = (2,3,4,5,6,7) & B = (0,2,6,8,10).\n",
    "\n",
    "(i) A intersection B : (2,6)\n",
    "\n",
    "(ii) A ⋃ B : (0,2,3,4,5,6,7,8,10)"
   ]
  },
  {
   "cell_type": "markdown",
   "id": "c009f4c1",
   "metadata": {},
   "source": [
    "## Question 8"
   ]
  },
  {
   "cell_type": "markdown",
   "id": "794e7ca9",
   "metadata": {},
   "source": [
    "Skewness is the measure of the asymmetry of an ideally symmetric probability distribution and is given by the third standardized moment. Or skewness is the measure of how much the probability distribution of a random variable deviates from the normal distribution.  "
   ]
  },
  {
   "cell_type": "markdown",
   "id": "8856b9f5",
   "metadata": {},
   "source": [
    "## Question 9"
   ]
  },
  {
   "cell_type": "markdown",
   "id": "99e875be",
   "metadata": {},
   "source": [
    "If a data is right skewed then our mean is greater than the median or mean is towards the right of the median value"
   ]
  },
  {
   "cell_type": "markdown",
   "id": "f27c8e54",
   "metadata": {},
   "source": [
    "## Question 10"
   ]
  },
  {
   "cell_type": "markdown",
   "id": "e973e525",
   "metadata": {},
   "source": [
    "Covariance is an indicator of the extent to which 2 random variables are dependent on each other. A higher number denotes higher dependency. The value of covariance lies in the range of -∞ and +∞. And changing the scale affects our covariance value.\n",
    "\n",
    "While, Correlation is a statistical measure that indicates how strongly two variables are related. Correlation is limited to values between the range -1 and +1. A number close to 1 or -1 depicts that the two variables are highly correlated to each other. Changing the scale of our data does not affect the value of correlation between the two variables.\n",
    "\n"
   ]
  },
  {
   "cell_type": "markdown",
   "id": "0af2b39b",
   "metadata": {},
   "source": [
    "## Question 11"
   ]
  },
  {
   "cell_type": "markdown",
   "id": "8847c0a6",
   "metadata": {},
   "source": [
    "Sample mean is calculated by using the formula   sum(Xi)[i from 1 to n]/n  \n",
    "\n",
    "Where n is the size of the sample data.\n",
    "Lets say we have a sample data {1,2,3,4,5}\n",
    "Our sample size is 5 and our sample mean is (1+2+3+4+5)/5 ==3"
   ]
  },
  {
   "cell_type": "markdown",
   "id": "918df0b4",
   "metadata": {},
   "source": [
    "## Question 12"
   ]
  },
  {
   "cell_type": "markdown",
   "id": "4e3ca2b6",
   "metadata": {},
   "source": [
    "For a normally distributed data the values of mean, median and mode are all equal and it is equal to 0 while the value of the standard deviation for the data is 1 and so is the value of variance."
   ]
  },
  {
   "cell_type": "markdown",
   "id": "a6e968b3",
   "metadata": {},
   "source": [
    "## Question 13"
   ]
  },
  {
   "cell_type": "markdown",
   "id": "431ae447",
   "metadata": {},
   "source": [
    "Covariance is an indicator of the extent to which 2 random variables are dependent on each other adn its value ranges from -∞ and +∞ whereas correlation is the measure that indicated how strongly two variables are related to each other and its value ranges from -1 to 1."
   ]
  },
  {
   "cell_type": "markdown",
   "id": "2f70a372",
   "metadata": {},
   "source": [
    "## Question 14"
   ]
  },
  {
   "cell_type": "markdown",
   "id": "ee03bbba",
   "metadata": {},
   "source": [
    "Outliers are the data points that are abnormally larger or smaller than the other values in our dataset. Mean is the measure of central tendancy that is largly affected by the presence of an outlier, there is no significant change in the value of the median. Outliers also affect the variance of the data or the dispersion of the data, the presence of the outliers makes our data skewed either positively or negatively.\n",
    "\n",
    "\n",
    "example: {1,2,3,4,5}\n",
    "\n",
    "mean: 3\n",
    "\n",
    "median: 3\n",
    "\n",
    "variance: 2\n",
    "\n",
    "if an outlier is present in our dataset  {1,2,3,4,5,50}\n",
    "\n",
    "\n",
    "mean: 10.833\n",
    "\n",
    "median: 3.5  (not changed significantly)\n",
    "\n",
    "variance: 308.472  ( more spread)\n"
   ]
  },
  {
   "cell_type": "code",
   "execution_count": null,
   "id": "4e18f247",
   "metadata": {},
   "outputs": [],
   "source": []
  },
  {
   "cell_type": "code",
   "execution_count": null,
   "id": "67b3e851",
   "metadata": {},
   "outputs": [],
   "source": []
  }
 ],
 "metadata": {
  "kernelspec": {
   "display_name": "Python 3 (ipykernel)",
   "language": "python",
   "name": "python3"
  },
  "language_info": {
   "codemirror_mode": {
    "name": "ipython",
    "version": 3
   },
   "file_extension": ".py",
   "mimetype": "text/x-python",
   "name": "python",
   "nbconvert_exporter": "python",
   "pygments_lexer": "ipython3",
   "version": "3.9.7"
  }
 },
 "nbformat": 4,
 "nbformat_minor": 5
}
