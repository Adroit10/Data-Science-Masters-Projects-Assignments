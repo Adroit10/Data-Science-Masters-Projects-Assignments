{
 "cells": [
  {
   "cell_type": "markdown",
   "id": "854a7f15",
   "metadata": {},
   "source": [
    "## Question 1"
   ]
  },
  {
   "cell_type": "markdown",
   "id": "cb300301",
   "metadata": {},
   "source": [
    "Data encoding refers to the process of converting data from one format to another. In the context of data science, encoding is often used to represent data in a specific format that is suitable for analysis, storage, or transmission. There are various types of data encoding, each serving different purposes.\n",
    "\n",
    "Many machine learning algorithms and statistical models require numerical input. Therefore, categorical encoding is crucial when dealing with categorical features. Common techniques include one-hot encoding, label encoding, and binary encoding. These methods allow algorithms to work with categorical data effectively.\n",
    "\n",
    "Data encoding ensures that data can be properly interpreted and processed across different systems, platforms, and programming languages.\n"
   ]
  },
  {
   "cell_type": "markdown",
   "id": "4281fb75",
   "metadata": {},
   "source": [
    "## Question 2"
   ]
  },
  {
   "cell_type": "markdown",
   "id": "9f594a02",
   "metadata": {},
   "source": [
    "Nominal encoding is a type of categorical encoding where categories are assigned unique numerical identifiers without imposing any specific order or ranking among them. In other words, it is used for categorical variables with no inherent order or hierarchy. Each category is simply assigned a unique numerical code, allowing algorithms to work with the categorical data effectively.\n",
    "\n",
    "For example if we have data of fruits and we have a colour section with colours Red, Green and Blue the Nominal encoded or One-hot encoded values for the following categories can be represented as :\n",
    "\n",
    "1. Red : [1,0,0]\n",
    "2. Green : [0,1,0]\n",
    "3. Blue : [0,0,1]\n",
    "\n",
    "Each unique color is assigned a unique binary vector. This encoding allows machine learning algorithms to work with the \"Color\" feature, which is a categorical variable."
   ]
  },
  {
   "cell_type": "markdown",
   "id": "54043819",
   "metadata": {},
   "source": [
    "## Question 3"
   ]
  },
  {
   "cell_type": "markdown",
   "id": "66825760",
   "metadata": {},
   "source": [
    "Nominal encoding is preferred over one-hot encoding in situations where the categorical variable doesn't have a meaningful ordinal relationship, and there is no inherent order or ranking among its categories. One-hot encoding is more suitable for ordinal or nominal variables where the order matters.\n",
    "\n",
    "Consider a dataset with a categorical variable like \"Country,\" where each sample belongs to one of several countries. If you have a large number of countries, using one-hot encoding would create a binary feature for each country, resulting in a high-dimensional dataset. In such cases, nominal encoding provides a more compact representation with a single numerical column.\n",
    "\n",
    "In sentiment analysis, you might have a categorical variable for the sentiment of a text, such as \"Positive,\" \"Negative,\" and \"Neutral.\" One-hot encoding would create three binary columns, while nominal encoding would represent them with a single numerical column (e.g., 1 for Positive, 2 for Negative, 3 for Neutral). This can make the dataset more interpretable and simpler for certain models."
   ]
  },
  {
   "cell_type": "markdown",
   "id": "acf24f02",
   "metadata": {},
   "source": [
    "## Question 4"
   ]
  },
  {
   "cell_type": "markdown",
   "id": "36a3139c",
   "metadata": {},
   "source": [
    "The choice of encoding technique depends on the nature of the categorical data and whether there is any meaningful ordinal relationship among the categories. In general, if the categorical variable has no inherent order or ranking, and there is no ordinal relationship among the categories, nominal encoding is a suitable choice. This involves assigning a unique numerical identifier to each category.  Nominal encoding provides a simple and compact representation of the categorical variable with a single numerical column. This can be advantageous in terms of both computational efficiency and model interpretability. If the dataset has a relatively small number of unique values (in this case, 5), using one-hot encoding would result in five binary columns. While this might be manageable if we do not have many columns in our dataset, it could lead to a slight increase in dimensionality. Nominal encoding, on the other hand, keeps the data in a single column, preventing dimensionality explosion."
   ]
  },
  {
   "cell_type": "markdown",
   "id": "c6e7b5c0",
   "metadata": {},
   "source": [
    "## Question 5"
   ]
  },
  {
   "cell_type": "markdown",
   "id": "fcb7d27d",
   "metadata": {},
   "source": [
    "In nominal encoding, each unique category in a categorical variable is assigned a unique numerical vector. Therefore, for each categorical column you encode, the number of new columns created is equal to the number of unique categories. Let's say in a machine learning project, we have a dataset with 1000 rows and 5 columns. Two of the columns are categorical, and the remaining three columns are numerical. The 2 categorical columns will be encoded , if we use nominal encoding technique then the number of columns will remain the same as it'll just place a numerical value to each unique category in that column but if one-hot form of nominal encoding is used then it'll create the new columns depending upon the number of unique categories. \n",
    "\n",
    "Let's assume column1 has k1 unique categories and column2 has k2 unique categories then the number of new columns formed will be \n",
    "\n",
    "(k1-1) + (k2-1)\n",
    "The subtraction of one shows the replacement of the original column by the unique categories."
   ]
  },
  {
   "cell_type": "markdown",
   "id": "d05f7a2d",
   "metadata": {},
   "source": [
    "## Question 6"
   ]
  },
  {
   "cell_type": "markdown",
   "id": "68c24c0d",
   "metadata": {},
   "source": [
    "The choice of encoding technique for transforming categorical data into a format suitable for machine learning algorithms depends on the nature of the categorical variables and the specific characteristics of the dataset. In the context of a dataset containing information about different types of animals, including species, habitat, and diet, the appropriate encoding technique may vary for each categorical variable.\n",
    "\n",
    "1. Species : If the species variable represents different species of animals with no inherent order or hierarchy, nominal encoding would be appropriate. Each species would be assigned a unique numerical identifier.\n",
    "\n",
    "2. Habitat : Similar to species, if the habitat categories e.g. Forest, Desert, Aquatic have no inherent order or ranking, nominal encoding would be suitable. Each habitat type would be assigned a unique numerical code.\n",
    "\n",
    "3. Diet : Depending on the nature of the diet variable, you might need to consider whether there is an ordinal relationship among the categories. For example, if the diet categories are Carnivore, Herbivore, and Omnivore, there might be an ordinal relationship based on the trophic levels. In such a case, ordinal encoding could be considered."
   ]
  },
  {
   "cell_type": "markdown",
   "id": "648e5f59",
   "metadata": {},
   "source": [
    "## Question 7"
   ]
  },
  {
   "cell_type": "markdown",
   "id": "8b063f23",
   "metadata": {},
   "source": [
    "To transform categorical data into numerical data for predicting customer churn in a telecommunications company, you would typically use encoding techniques suitable for each type of categorical variable. In our dataset we have 2 categorical columns gender and contract-type. \n",
    "\n",
    "1. Gender : Assuming gender has two categories Male and Female we can use binary encoding by assigning 1 to one category for e.g, Male and 0 to the other category e.g, Female\n",
    "\n",
    "2. Contract Type: For the contract type we can use ordinal encoding technique by assigning unique numerical code to each unique category e.g, 0 for Month-Month, 1 for One year. 2 for Two year and so on. "
   ]
  },
  {
   "cell_type": "code",
   "execution_count": null,
   "id": "4623b25d",
   "metadata": {},
   "outputs": [],
   "source": []
  }
 ],
 "metadata": {
  "kernelspec": {
   "display_name": "Python 3 (ipykernel)",
   "language": "python",
   "name": "python3"
  },
  "language_info": {
   "codemirror_mode": {
    "name": "ipython",
    "version": 3
   },
   "file_extension": ".py",
   "mimetype": "text/x-python",
   "name": "python",
   "nbconvert_exporter": "python",
   "pygments_lexer": "ipython3",
   "version": "3.11.4"
  }
 },
 "nbformat": 4,
 "nbformat_minor": 5
}
