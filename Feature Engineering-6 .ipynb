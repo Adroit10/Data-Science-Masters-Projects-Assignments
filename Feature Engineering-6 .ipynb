{
 "cells": [
  {
   "cell_type": "markdown",
   "id": "c9ccfa2d",
   "metadata": {},
   "source": [
    "## Question 1"
   ]
  },
  {
   "cell_type": "markdown",
   "id": "174128c4",
   "metadata": {},
   "source": [
    "To calculate the Pearson correlation coefficient between the amount of time students spend studying for an exam and their final exam scores, we can follow these steps:\n",
    "\n",
    "1. Organize our data into pairs for each student, time spent studying and exam score.\n",
    "\n",
    "2. Calculate the mean of the time spent studying and the mean of the exam scores.\n",
    "\n",
    "3. For each pair calculate the difference between the time spent studying and mean of it and the difference between the exam score and its mean.\n",
    "\n",
    "4. Square each of the difference and sum it up.\n",
    "\n",
    "5. Calculate the product of the differences and sum the products.\n",
    "\n",
    "Pearson correlation coefficient is calculated using the formula::\n",
    "\n",
    "r= Cov(X,Y)/(std(X)*std(Y))\n",
    "\n",
    "1. if r>0 : There is a positive correlation, meaning that as the amount of time spent studying increases, final exam scores tend to increase as well.\n",
    "\n",
    "2. if r<0 : There is a negative correlation, meaning that as the amount of time spent studying increases, final exam scores tend to decrease.\n",
    "\n",
    "3. if r=0 : There is no linear correlation between the two variables.\n",
    "\n",
    "\n",
    "The magnitude of r indicates the strength of the correlation. If |r| is close to 1 it indicates a strong linear relation while closer to 0represents weaker correlation."
   ]
  },
  {
   "cell_type": "markdown",
   "id": "eebf97df",
   "metadata": {},
   "source": [
    "## Question 2"
   ]
  },
  {
   "cell_type": "markdown",
   "id": "21f60b05",
   "metadata": {},
   "source": [
    "To calculate Spearman's rank correlation coefficient between the amount of sleep individuals get each night and their overall job satisfaction level, we can follow these steps:\n",
    "\n",
    "1. Firstly rank the values seperately from smallest to largest.\n",
    "\n",
    "2. Assign ranks the values. If the values are tied we assign the average rank to those values.\n",
    "\n",
    "3. Calculate the difference between the ranks of the corresponding pairs.\n",
    "\n",
    "4. Square up the difference and then sum it up.\n",
    "\n",
    "5. We use the spearman rank formula which is given as:\n",
    "\n",
    "P = Cov(R(x) , R(y))/(std(R(x))*std(R(y)))\n",
    "\n",
    "\n",
    "1. If p=1 :  Perfectly increasing monotonic relationship. As the amount of sleep increases, job satisfaction always increases.\n",
    "\n",
    "2. If p=-1 : Perfectly decreasing monotonic relationship. As the amount of sleep increases, job satisfaction always decreases.\n",
    "\n",
    "3. If p=0 : No monotonic relationship. The variables are independent of each other in terms of monotonic trends.\n",
    "\n",
    "\n",
    "The closer the p value is to 1 the stronger the monotonic relation is."
   ]
  },
  {
   "cell_type": "markdown",
   "id": "1c36de2b",
   "metadata": {},
   "source": [
    "## Question 3"
   ]
  },
  {
   "cell_type": "markdown",
   "id": "19dc4372",
   "metadata": {},
   "source": [
    "Let's calculate the spearmen rank and pearson correlation coefficient for the number of hours of exercise per week and body mass index (BMI) in our sample of adults. \n",
    "\n",
    "Pearson correlation coefficient is calculated as :\n",
    "\n",
    "r= Cov(X,Y)/(std(X) * std(Y))\n",
    "\n",
    "r>0 for the Pearson correlation coefficient, it indicates a positive linear relationship.\n",
    "\n",
    "r<0, it indicates a negative linear relationship.\n",
    "\n",
    "The spearmen Rank is given as :\n",
    "\n",
    "p = Cov(R(X) , R(Y))/(std(R(X) * std(R(Y))\n",
    "\n",
    "p>0, for Spearman's rank correlation, it indicates a positive monotonic relationship.\n",
    "\n",
    "p<0, it indicates a negative monotonic relationship.\n",
    "\n",
    "If both are similar in magnitude and sign, it suggests a linear relationship.\n",
    "\n",
    "if p is notably larger than |r| it suggests a stronger monotonic (non-linear) relationship.\n",
    "\n",
    "If |r| is notably larger than p it suggests a stronger linear relationship.\n",
    "\n"
   ]
  },
  {
   "cell_type": "markdown",
   "id": "f91a1272",
   "metadata": {},
   "source": [
    "## Question 4"
   ]
  },
  {
   "cell_type": "markdown",
   "id": "50565e30",
   "metadata": {},
   "source": [
    "To calculate the Pearson correlation coefficient between the number of hours individuals spend watching television per day and their level of physical activity, we can follow the following steps:\n",
    "\n",
    "Assuming you have data for each participant in pairs (hours of TV watching, level of physical activity), let's denote TV hours as\n",
    "X and physical activity level as Y.\n",
    "\n",
    "1. Calculate the means for X and Y\n",
    "\n",
    "2. Square the differences (Xi - X(mean))**2 and (Yi - Y(mean))**2\n",
    "\n",
    "3. Sum up the squared differences.\n",
    "\n",
    "4. Calculate the product of the differences and sum it up.\n",
    "\n",
    "This can be denoted using the formula:\n",
    "\n",
    "Cov( X , Y)/(std(X) * std(Y))\n",
    "\n",
    "If r>0: There is a positive correlation, suggesting that as the number of hours of TV watching increases, the level of physical activity tends to increase.\n",
    "\n",
    "If r<0: There is a negative correlation, suggesting that as the number of hours of TV watching increases, the level of physical activity tends to decrease.\n",
    "\n",
    "If r=0: There is no linear correlation between the two variables."
   ]
  },
  {
   "cell_type": "markdown",
   "id": "ed1a5e14",
   "metadata": {},
   "source": [
    "## Question 5 \n",
    "\n",
    "\n",
    "The question is not complete only the data has been provided "
   ]
  },
  {
   "cell_type": "markdown",
   "id": "8f75632d",
   "metadata": {},
   "source": [
    "## Question 6"
   ]
  },
  {
   "cell_type": "markdown",
   "id": "46c895b2",
   "metadata": {},
   "source": [
    "Let's calculate the pearson correlation coefficient for examining the relationship between the number of sales calls made per day (Let's denote it by X)\n",
    "and the number of sales made per week (Denoting it by Y) for the sample of 30 sales representatives:\n",
    "\n",
    "\n",
    "1. Calculate the means for X and Y\n",
    "\n",
    "2. Square the differences (Xi - X(mean))**2 and (Yi - Y(mean))**2\n",
    "\n",
    "3. Sum up the squared differences.\n",
    "\n",
    "4. Calculate the product of the differences and sum it up.\n",
    "\n",
    "This can be denoted using the formula:\n",
    "\n",
    "Cov( X , Y)/(std(X) * std(Y))\n",
    "\n",
    "If r>0: There is a positive correlation, suggesting that as the number of sales calls made per day increases, the number of sales made per week tends to increase.\n",
    "\n",
    "If r<0: There is a negative correlation, suggesting that as the number of sales calls made per day increases, the number of sales made per week tends to decrease.\n",
    "\n",
    "If r=0: There is no linear correlation between the two variables."
   ]
  },
  {
   "cell_type": "code",
   "execution_count": null,
   "id": "fbaed007",
   "metadata": {},
   "outputs": [],
   "source": []
  }
 ],
 "metadata": {
  "kernelspec": {
   "display_name": "Python 3 (ipykernel)",
   "language": "python",
   "name": "python3"
  },
  "language_info": {
   "codemirror_mode": {
    "name": "ipython",
    "version": 3
   },
   "file_extension": ".py",
   "mimetype": "text/x-python",
   "name": "python",
   "nbconvert_exporter": "python",
   "pygments_lexer": "ipython3",
   "version": "3.11.4"
  }
 },
 "nbformat": 4,
 "nbformat_minor": 5
}
