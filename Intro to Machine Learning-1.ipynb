{
 "cells": [
  {
   "cell_type": "markdown",
   "id": "6dfd51f7",
   "metadata": {},
   "source": [
    "## Question 1"
   ]
  },
  {
   "cell_type": "markdown",
   "id": "44daaa52",
   "metadata": {},
   "source": [
    "#### Artificial Inteligence\n",
    "\n",
    "Artificial Intelligence refers to the development of computer systems that can perform tasks that typically require human intelligence. These tasks include learning, reasoning, problem-solving, perception, speech recognition, and language understanding.\n",
    "\n",
    "For example: virtual personal assistant like Siri or Google Assistant. These systems use natural language processing and machine learning to understand and respond to user queries, making them seem more intelligent.\n",
    "\n",
    "\n",
    "#### Machine Learning\n",
    "\n",
    "Machine Learning is a subset of AI that focuses on the development of algorithms and statistical models that enable computers to improve their performance on a specific task through learning from data, without being explicitly programmed. Email filtering is a common application of machine learning. Spam filters, for instance, can be trained on a dataset of emails labeled as spam or not spam. The algorithm learns patterns from this data and can then classify new, unseen emails as either spam or not spam based on what it learned during training.\n",
    "\n",
    "\n",
    "#### Deep Learning\n",
    "\n",
    "Deep Learning is a subfield of machine learning that involves artificial neural networks, particularly deep neural networks with multiple layers (deep architectures). These networks are capable of learning complex hierarchical representations of data. Image recognition is a domain where deep learning excels. For instance, consider a deep neural network trained to recognize cats in images. The network learns to automatically extract features at different levels of abstraction, recognizing patterns like edges, textures, and eventually, complex combinations of these features that represent a cat. Deep learning has been particularly successful in image and speech recognition tasks."
   ]
  },
  {
   "cell_type": "markdown",
   "id": "aa902d0e",
   "metadata": {},
   "source": [
    "## Question 2"
   ]
  },
  {
   "cell_type": "markdown",
   "id": "f3868e3d",
   "metadata": {},
   "source": [
    "Supervised learning is a type of machine learning where the algorithm is trained on a labeled dataset, meaning that each input in the training set is paired with the corresponding correct output. The algorithm learns to map the input data to the correct output by generalizing patterns from the labeled examples.\n",
    "\n",
    "A few examples of supervised leaning can be:\n",
    "\n",
    "1. Image Classification: Suppose we have a dataset of 1000 images where wach image is labelled as \"cat\" or \"dog\". Then this labeled data helps train a supervised learning algorithm for classification purpose.\n",
    "\n",
    "2. Spam Email Detection: You have a dataset of 10,000 emails, where each email is labeled as either \"spam\" or \"not spam.\" The algorithm learns to identify patterns and characteristics associated with spam emails, and it can then be used to predict whether new, unseen emails are likely to be spam.\n",
    "\n",
    "3. Predicting Housing Prices: You have a dataset of 500 houses with labeled prices. The supervised learning algorithm learns to recognize patterns in the features of houses and their corresponding prices, enabling it to make accurate predictions for new houses not seen during training."
   ]
  },
  {
   "cell_type": "markdown",
   "id": "fcb31f36",
   "metadata": {},
   "source": [
    "## Question 3"
   ]
  },
  {
   "cell_type": "markdown",
   "id": "4c55a9b7",
   "metadata": {},
   "source": [
    "Unsupervised learning is a type of machine learning where the algorithm is given data without explicit instructions on what to do with it. The system tries to learn the patterns and the structure from the data without any labeled responses to guide the learning process.\n",
    "\n",
    "A few examples of unsupervised learning are:\n",
    "\n",
    "1. Clustering: Group similar data points together based on certain features, without knowing the specific categories in advance.  K-means clustering can be applied to group customers based on their purchasing behavior. The algorithm identifies natural groupings in the data, allowing businesses to target specific customer segments more effectively.\n",
    "\n",
    "\n",
    "2. Principle component Analysis (PCA) :  Reduce the dimensionality of the data while retaining as much of its original variability as possible. In image processing, PCA can be used to reduce the dimensionality of image data while retaining the most important features. This is beneficial for tasks like facial recognition, where the focus is on the essential characteristics rather than every pixel.\n",
    "\n",
    "\n",
    "3. Anamoly detection : Identify instances that deviate significantly from the norm in a dataset. Anomaly detection can be applied in cybersecurity to detect unusual patterns of behavior in network traffic, signaling a potential security threat. \n",
    "\n",
    "\n",
    "4. Generative Models : GAN's or Generative Adversarial Networks can be used to create realistic images comparing them to the real ones and make them indistinguishable."
   ]
  },
  {
   "cell_type": "markdown",
   "id": "ddfdaa45",
   "metadata": {},
   "source": [
    "## Question 4"
   ]
  },
  {
   "cell_type": "markdown",
   "id": "ee9f2346",
   "metadata": {},
   "source": [
    "AI refers to the development of computer systems that can perform tasks that need human intelligence to solve.  It encompasses a wide range of techniques and approaches to simulate human cognitive function.\n",
    "\n",
    "ML or Machine learning is a subset of AI that focuses on the development okf algorithms and models that enable computers to learn from data without being explicitly programmed. \n",
    "\n",
    "DL or Deep Learning is a subfield of machine learning that involves artificial neural networks particularly deep neural networks with multiple layers to automatically learn representations of data. \n",
    "\n",
    "\n",
    "DS (Data Science) is a multidisciplinary field that involves extracting insights and knowledge from structured or unstructured data. It encompasses various techniques that involve statistical analysis, machine learning, data engineering and visualization. "
   ]
  },
  {
   "cell_type": "markdown",
   "id": "dbe3ce73",
   "metadata": {},
   "source": [
    "## Question 5"
   ]
  },
  {
   "cell_type": "markdown",
   "id": "83b3b973",
   "metadata": {},
   "source": [
    "The main difference between supervised, unsupervised and semi-supervised learning lies in the type of data used for training and leaning purpose. \n",
    " \n",
    "In supervised learning the algorithm is trained on a labled dataset, where each input is paired with the corresponding correct output. Examples: spam classification, image classification etc.\n",
    "\n",
    "In unsupervised learning the training of the algorithm is done on an unlabeled dataset, where the input data is not paired with corresponding output labels.The goal is to discover patterns, structures, or relationships within the data without explicit guidance on what to look for. Examples: Clustering, dimensionality reduction, generative modelling etc.\n",
    "\n",
    "Semi-supervised learning uses a combination of both labled and unlabled data for training purpose. The objective is typically similar to supervised learning, aiming to make predictions or classifications. However, semi-supervised learning leverages the additional unlabeled data to improve the model's performance. Examples: Consider a dataset of images with only a subset of images labeled with categories. Semi-supervised learning could involve using the labeled images to train the model initially and then leveraging the unlabeled images to further refine and improve the model."
   ]
  },
  {
   "cell_type": "markdown",
   "id": "cda4d04e",
   "metadata": {},
   "source": [
    "## Question 6"
   ]
  },
  {
   "cell_type": "markdown",
   "id": "25dde4a1",
   "metadata": {},
   "source": [
    "#### Training set\n",
    "\n",
    "The training set is a subset of the dataset used to train the machine learning model. It consists of input-output pairs, where the model learns the relationships and patterns between the input features and the corresponding target outputs. The training set is essential for the model to learn from the data. The algorithm adjusts its parameters based on the patterns and information present in the training set. The quality and representativeness of the training set significantly impact the model's performance.\n",
    "\n",
    "#### Test set\n",
    "\n",
    "The test set is a separate subset of the dataset that the model has not seen during training. It is used to assess the model's performance and generalization to new, unseen data. The test set helps evaluate how well the model has learned and whether it can make accurate predictions on data it hasn't encountered before.\n",
    "\n",
    "#### Validation set\n",
    "\n",
    "The validation set is a subset of the data that is not used for training but is employed during the model development process for hyperparameter tuning and model selection.  The validation set is crucial for preventing overfitting. While the training set guides the model's parameter adjustments, the validation set helps in selecting the best model and tuning hyperparameters e.g., learning rate, regularization strength,  to optimize performance. It provides a more realistic evaluation than the training set alone."
   ]
  },
  {
   "cell_type": "markdown",
   "id": "7351380d",
   "metadata": {},
   "source": [
    "## Question 7"
   ]
  },
  {
   "cell_type": "markdown",
   "id": "0b5b65df",
   "metadata": {},
   "source": [
    "In anomaly detection the goal is to identify instances that deviate significantly from the norm or exibit unusual behaviour within a dataset. \n",
    "\n",
    "Unsupervised learning techniques like Clustering can help cluster the data into groups, assuming that normal instances will form tight, well-defined clusters, while anomalies will be isolated or form their own clusters. Algorithms like K-means clustering or hierarchical clustering can be used. Anomalies may be instances that do not belong to any cluster or belong to small, sparse clusters.\n",
    "\n",
    "Density-Based methods help identify anomalies based on the density of the data points. Anomalies are often in less dense regions, while normal instances are in denser areas. Density-based clustering algorithms like DBSCAN (Density-Based Spatial Clustering of Applications with Noise) can be used.\n",
    "\n",
    "Isolation Forests construct decision trees and isolate anomalies by creating short paths to them. The fewer splits needed to isolate an instance, the more likely it is to be an anomaly.\n",
    "\n",
    "Anomalies may be detected by identifying instances that deviate significantly from the principal components of the normal data. We can apply PCA to reduce dimensionality and identify the principal components. Anomalies may be instances with large reconstruction errors in the original feature space."
   ]
  },
  {
   "cell_type": "markdown",
   "id": "8a42609e",
   "metadata": {},
   "source": [
    "## Question 8"
   ]
  },
  {
   "cell_type": "markdown",
   "id": "cc7aff52",
   "metadata": {},
   "source": [
    "#### Supervised Learning algorithms\n",
    "\n",
    "1. Linear regression : A regression algorithm used to predict continous variable based on the input features.\n",
    "\n",
    "2. Logistic Regression : A classification algorithm for binary and multiclass classification.\n",
    "\n",
    "3. Decision Trees : Classification and Regression (CART) Tree based models\n",
    "\n",
    "4. Random Forrest : An ensemble technique(Combination of decision trees) which can be used for regrssion, classification and features importance analysis.\n",
    "\n",
    "5. Support Vector Machines (SVM) : A regression and classification algorithm that is highly effective for higher dimensional data \n",
    "\n",
    "6. K-Nearest Neighbour (KNN) : It is an instance based learning algorithm for both regression and classification.\n",
    "\n",
    "7. Naive Bayes : It is a probabilistic classifier.\n",
    "\n",
    "8. Gradient Boosting : An ensemble technique with boosted decision trees for improved accuracy in regression and classification.\n",
    "\n",
    "9. Neural Networks: Neuron based deep architectures for the learning information from data.\n",
    "\n",
    "#### Unsupervised Learning algorithms\n",
    "\n",
    "1. K-Means Clustering : Partitioning data into k clusters.\n",
    "\n",
    "2. Heirarichal clustering : Building a tree of clusters to represent the heirarchy of relationships.\n",
    "\n",
    "3. DBSCAN : Identifying clusters of arbitrary shapes based on data density,\n",
    "\n",
    "4. PCA (Principle component Analysis) : Transforming data into a lower-dimensional space while retaining important features.\n",
    "\n",
    "5. Isolation Forest : Identifying anomalies based on the isolation of instances in a feature space.\n",
    "\n"
   ]
  },
  {
   "cell_type": "code",
   "execution_count": null,
   "id": "92021308",
   "metadata": {},
   "outputs": [],
   "source": []
  }
 ],
 "metadata": {
  "kernelspec": {
   "display_name": "Python 3 (ipykernel)",
   "language": "python",
   "name": "python3"
  },
  "language_info": {
   "codemirror_mode": {
    "name": "ipython",
    "version": 3
   },
   "file_extension": ".py",
   "mimetype": "text/x-python",
   "name": "python",
   "nbconvert_exporter": "python",
   "pygments_lexer": "ipython3",
   "version": "3.11.4"
  }
 },
 "nbformat": 4,
 "nbformat_minor": 5
}
