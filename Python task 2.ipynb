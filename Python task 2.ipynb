{
 "cells": [
  {
   "cell_type": "markdown",
   "id": "7633bb38",
   "metadata": {},
   "source": [
    "## Question 1"
   ]
  },
  {
   "cell_type": "code",
   "execution_count": 1,
   "id": "3c6a8076",
   "metadata": {},
   "outputs": [],
   "source": [
    "def pass_validity(password):\n",
    "    lcase,ucase,dig,special=0,0,0,0\n",
    "    if (len(password) == 10):\n",
    "        for i in password:\n",
    "\n",
    "            if (i.islower()):\n",
    "                lcase+=1\n",
    "            \n",
    "            if (i.isupper()):\n",
    "                    ucase+=1\n",
    "            \n",
    "            if (i.isdigit()):\n",
    "                dig+=1\n",
    "                \n",
    "            if(i=='@'or i=='$' or i=='_'):\n",
    "                special+=1\n",
    "    if (lcase>=1 and ucase>=1 and special>=1 and dig>=1 and lcase+ucase+dig+special==len(password)):\n",
    "        print(\"Valid Password\")\n",
    "    else:\n",
    "        print(\"Invalid Password\")\n"
   ]
  },
  {
   "cell_type": "code",
   "execution_count": 2,
   "id": "1ded5a0c",
   "metadata": {},
   "outputs": [
    {
     "name": "stdout",
     "output_type": "stream",
     "text": [
      "Valid Password\n"
     ]
    }
   ],
   "source": [
    "pswd=\"_7DEvans@$\"\n",
    "pass_validity(pswd)"
   ]
  },
  {
   "cell_type": "markdown",
   "id": "9aef026f",
   "metadata": {},
   "source": [
    "## Question 2\n"
   ]
  },
  {
   "cell_type": "markdown",
   "id": "3cbb87a2",
   "metadata": {},
   "source": [
    "### check if the string starts with a particular letter"
   ]
  },
  {
   "cell_type": "code",
   "execution_count": 3,
   "id": "aa7d8a65",
   "metadata": {},
   "outputs": [
    {
     "name": "stdout",
     "output_type": "stream",
     "text": [
      "True\n"
     ]
    }
   ],
   "source": [
    "start=lambda x: True if x.startswith('I') else False\n",
    "print(start('Indonesia'))"
   ]
  },
  {
   "cell_type": "markdown",
   "id": "ec1264b8",
   "metadata": {},
   "source": [
    "### Check if the string is numeric"
   ]
  },
  {
   "cell_type": "code",
   "execution_count": 4,
   "id": "0a69975e",
   "metadata": {},
   "outputs": [
    {
     "name": "stdout",
     "output_type": "stream",
     "text": [
      "True\n"
     ]
    }
   ],
   "source": [
    "numeric=lambda s: True if s.isnumeric() else False\n",
    "print(numeric('1213'))"
   ]
  },
  {
   "cell_type": "markdown",
   "id": "70410926",
   "metadata": {},
   "source": [
    "### Sort a list of tuples having fruit names and their quantity. [(\"mango\",99),(\"orange\",80), (\"grapes\", 1000)]"
   ]
  },
  {
   "cell_type": "code",
   "execution_count": 5,
   "id": "d8757ef2",
   "metadata": {},
   "outputs": [],
   "source": [
    "lst=[(\"mango\",99),(\"orange\",80), (\"grapes\", 1000)]\n"
   ]
  },
  {
   "cell_type": "markdown",
   "id": "cc70e7a8",
   "metadata": {},
   "source": [
    "### Find the squares of numbers from 1 to 10"
   ]
  },
  {
   "cell_type": "code",
   "execution_count": 6,
   "id": "59ec5638",
   "metadata": {},
   "outputs": [
    {
     "name": "stdout",
     "output_type": "stream",
     "text": [
      "[1, 4, 9, 16, 25, 36, 49, 64, 81, 100, 121, 144, 169, 196, 225, 256, 289, 324, 361, 400, 441, 484, 529, 576, 625, 676, 729, 784, 841, 900, 961, 1024, 1089, 1156, 1225, 1296, 1369, 1444, 1521, 1600, 1681, 1764, 1849, 1936, 2025, 2116, 2209, 2304, 2401, 2500, 2601, 2704, 2809, 2916, 3025, 3136, 3249, 3364, 3481, 3600, 3721, 3844, 3969, 4096, 4225, 4356, 4489, 4624, 4761, 4900, 5041, 5184, 5329, 5476, 5625, 5776, 5929, 6084, 6241, 6400, 6561, 6724, 6889, 7056, 7225, 7396, 7569, 7744, 7921, 8100, 8281, 8464, 8649, 8836, 9025, 9216, 9409, 9604, 9801, 10000]\n"
     ]
    }
   ],
   "source": [
    "def square(n):\n",
    "    return n**2\n",
    "squares=map(square,range(1,101))\n",
    "print(list(squares))"
   ]
  },
  {
   "cell_type": "markdown",
   "id": "842b1199",
   "metadata": {},
   "source": [
    "### Find the cube root of numbers from 1 to 10"
   ]
  },
  {
   "cell_type": "code",
   "execution_count": 7,
   "id": "1190f6d6",
   "metadata": {},
   "outputs": [
    {
     "name": "stdout",
     "output_type": "stream",
     "text": [
      "[1.0, 1.2599210498948732, 1.4422495703074083, 1.5874010519681994, 1.7099759466766968, 1.8171205928321397, 1.912931182772389, 2.0, 2.080083823051904, 2.154434690031884]\n"
     ]
    }
   ],
   "source": [
    "def cube(n):\n",
    "    return n**(1/3)\n",
    "cuberoot=map(cube,range(1,11))\n",
    "print(list(cuberoot))    "
   ]
  },
  {
   "cell_type": "markdown",
   "id": "9d7625d7",
   "metadata": {},
   "source": [
    "### Check if a given number is even"
   ]
  },
  {
   "cell_type": "code",
   "execution_count": 8,
   "id": "92738a0b",
   "metadata": {},
   "outputs": [
    {
     "data": {
      "text/plain": [
       "[2, 4, 6, 8]"
      ]
     },
     "execution_count": 8,
     "metadata": {},
     "output_type": "execute_result"
    }
   ],
   "source": [
    "even_list=[x for x in range(1,10) if x%2==0]\n",
    "even_list"
   ]
  },
  {
   "cell_type": "markdown",
   "id": "75f9943b",
   "metadata": {},
   "source": [
    "### Filter odd numbers from the given list.\n",
    "[1,2,3,4,5,6,7,8,9,10]"
   ]
  },
  {
   "cell_type": "code",
   "execution_count": 9,
   "id": "e0bb83e2",
   "metadata": {},
   "outputs": [
    {
     "name": "stdout",
     "output_type": "stream",
     "text": [
      "[1, 3, 5, 7, 9]\n"
     ]
    }
   ],
   "source": [
    "numlis=[1,2,3,4,5,6,7,8,9,10]\n",
    "odd_num=filter(lambda x: x%2!=0 , numlis)\n",
    "print(list(odd_num))"
   ]
  },
  {
   "cell_type": "markdown",
   "id": "11033abb",
   "metadata": {},
   "source": [
    "### Sort a list of integers into positive and negative integers lists.\n",
    "[1,2,3,4,5,6,-1,-2,-3,-4,-5,0]"
   ]
  },
  {
   "cell_type": "code",
   "execution_count": 10,
   "id": "5e4884e3",
   "metadata": {},
   "outputs": [
    {
     "name": "stdout",
     "output_type": "stream",
     "text": [
      "[1, 2, 3, 4, 5, 6, 0]\n",
      "[-1, -2, -3, -4, -5]\n"
     ]
    }
   ],
   "source": [
    "numlis=[1,2,3,4,5,6,-1,-2,-3,-4,-5,0]\n",
    "pos_lis=filter(lambda x:x>=0,numlis)\n",
    "neg_lis=filter(lambda x:x<0,numlis)\n",
    "print(list(pos_lis))\n",
    "print(list(neg_lis))"
   ]
  },
  {
   "cell_type": "code",
   "execution_count": null,
   "id": "21cd3c44",
   "metadata": {},
   "outputs": [],
   "source": []
  },
  {
   "cell_type": "code",
   "execution_count": null,
   "id": "0a3f0395",
   "metadata": {},
   "outputs": [],
   "source": []
  },
  {
   "cell_type": "code",
   "execution_count": null,
   "id": "8d0df312",
   "metadata": {},
   "outputs": [],
   "source": []
  },
  {
   "cell_type": "code",
   "execution_count": null,
   "id": "1b42df56",
   "metadata": {},
   "outputs": [],
   "source": []
  }
 ],
 "metadata": {
  "kernelspec": {
   "display_name": "Python 3 (ipykernel)",
   "language": "python",
   "name": "python3"
  },
  "language_info": {
   "codemirror_mode": {
    "name": "ipython",
    "version": 3
   },
   "file_extension": ".py",
   "mimetype": "text/x-python",
   "name": "python",
   "nbconvert_exporter": "python",
   "pygments_lexer": "ipython3",
   "version": "3.9.7"
  }
 },
 "nbformat": 4,
 "nbformat_minor": 5
}
