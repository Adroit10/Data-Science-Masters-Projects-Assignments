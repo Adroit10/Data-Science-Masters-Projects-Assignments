{
 "cells": [
  {
   "cell_type": "markdown",
   "id": "c9d4f7dd",
   "metadata": {},
   "source": [
    "## Question 1"
   ]
  },
  {
   "cell_type": "code",
   "execution_count": 1,
   "id": "354b8ba5",
   "metadata": {},
   "outputs": [
    {
     "name": "stdout",
     "output_type": "stream",
     "text": [
      "0     4\n",
      "1     8\n",
      "2    15\n",
      "3    16\n",
      "4    23\n",
      "5    42\n",
      "dtype: int64\n"
     ]
    }
   ],
   "source": [
    "import pandas as pd\n",
    "series=pd.Series([4,8,15,16,23,42])\n",
    "print(series)"
   ]
  },
  {
   "cell_type": "markdown",
   "id": "2b7cf550",
   "metadata": {},
   "source": [
    "## Question 2"
   ]
  },
  {
   "cell_type": "code",
   "execution_count": 2,
   "id": "c837f4b1",
   "metadata": {},
   "outputs": [
    {
     "name": "stdout",
     "output_type": "stream",
     "text": [
      "0     1\n",
      "1     2\n",
      "2     3\n",
      "3     4\n",
      "4     5\n",
      "5     6\n",
      "6     7\n",
      "7     8\n",
      "8     9\n",
      "9    10\n",
      "dtype: int64\n"
     ]
    }
   ],
   "source": [
    "import pandas as pd\n",
    "data=[i for i in range(1,11)]\n",
    "range_series=pd.Series(data)\n",
    "print(range_series)"
   ]
  },
  {
   "cell_type": "markdown",
   "id": "91b0b539",
   "metadata": {},
   "source": [
    "## Question 3"
   ]
  },
  {
   "cell_type": "code",
   "execution_count": 3,
   "id": "716d71b6",
   "metadata": {},
   "outputs": [
    {
     "name": "stdout",
     "output_type": "stream",
     "text": [
      "     Name  Age  Gender\n",
      "0   Alice   25  Female\n",
      "1     Bob   30    Male\n",
      "2  Claire   27  Female\n"
     ]
    }
   ],
   "source": [
    "import pandas as pd\n",
    "data={'Name':['Alice','Bob','Claire'],'Age':[25,30,27],'Gender':['Female','Male','Female']}\n",
    "df=pd.DataFrame(data)\n",
    "print(df)"
   ]
  },
  {
   "cell_type": "markdown",
   "id": "29caf5cf",
   "metadata": {},
   "source": [
    "## Question 4"
   ]
  },
  {
   "cell_type": "markdown",
   "id": "b4771cbe",
   "metadata": {},
   "source": [
    "A dataframe is a two-dimensional, tabular data structure which is similar to  a spreadsheet or SQL table, where the data is organized into rows and columns. Each column in a dataframe is a pandas Series. A dataframe can be created using the pandas.DataFrame() constructor. \n",
    "\n",
    "\n",
    "On the other hand a pandas Series is essentially a one-dimensional array that can hold any data type. It is labeled, meaning each item in the series can have an index label. We can think of seroes as a column in a spreadsheet or a column in a table. It is created using the pd.Series() constructor."
   ]
  },
  {
   "cell_type": "code",
   "execution_count": 4,
   "id": "c3a1036f",
   "metadata": {},
   "outputs": [
    {
     "name": "stdout",
     "output_type": "stream",
     "text": [
      "0     4\n",
      "1     8\n",
      "2    15\n",
      "3    16\n",
      "4    23\n",
      "5    42\n",
      "dtype: int64\n"
     ]
    }
   ],
   "source": [
    "## Series in pandas\n",
    "\n",
    "import pandas as pd\n",
    "\n",
    "data=[4,8,15,16,23,42]\n",
    "series=pd.Series(data)\n",
    "print(series)"
   ]
  },
  {
   "cell_type": "code",
   "execution_count": 5,
   "id": "0013bfc3",
   "metadata": {},
   "outputs": [
    {
     "name": "stdout",
     "output_type": "stream",
     "text": [
      "   col1\n",
      "0     4\n",
      "1     8\n",
      "2    15\n",
      "3    16\n",
      "4    23\n",
      "5    42\n"
     ]
    }
   ],
   "source": [
    "## dataframes in pandas \n",
    "data={'col1':[4,8,15,16,23,42]}\n",
    "df=pd.DataFrame(data)\n",
    "print(df)"
   ]
  },
  {
   "cell_type": "markdown",
   "id": "452baf2d",
   "metadata": {},
   "source": [
    "## Question 5"
   ]
  },
  {
   "cell_type": "markdown",
   "id": "c1052771",
   "metadata": {},
   "source": [
    "Pandas provides a rich set of functions to manipulate and analyze data in DataFrames.\n",
    "\n",
    "1. selection or indexing:\n",
    "\n",
    "df['column_name'] or df.column can be used for selection of a column from our dataframe. For selecting multiple columns we can pass them in the list. df.loc or df.iloc are used for row indexing. \n",
    "\n",
    "2. Sorting\n",
    "\n",
    "we can sort the dataframe by values in a specified column df.sort_values('column_name'), df.sort_index() sorts DataFrame by index.\n",
    "\n",
    "3. Grouping and aggregation\n",
    "\n",
    "df.groupby('col').mean() Groups by the specified col name and then computes its mean. \n",
    "\n",
    "4. Joining and Merging\n",
    "\n",
    "pd.concat([df1,df2],axis=0 or 1) if the value of axis is kept 0 then the dataframes are concatenated vertically else horizontally. \n",
    "\n",
    "pd.merge(df1,df2,on='column') Merge the dataframes on common column\n",
    "\n",
    "\n",
    "5. Handling missing data\n",
    "\n",
    "df.isnull() or df.isna() is used to check for null values. df.dropna() removes the rows with missing values on the other hand df.fillna(value) is used to fill the missing values with a specified value.\n",
    "\n",
    "6. Applying functions\n",
    "df.apply(func) is used to apply a function to each element or row/column\\\n",
    "\n",
    "df.applymap(func) is used to apply a func to every element \n",
    "\n",
    "\n",
    "\n",
    "7. Statistics and summary\n",
    "\n",
    "df.describe() Generates descreptive statistics \n",
    "\n",
    "df.corr() computes the paiwise correlation of the columns \n",
    "\n",
    "df.value_counts() it cunts the unique values in a column."
   ]
  },
  {
   "cell_type": "markdown",
   "id": "e562f014",
   "metadata": {},
   "source": [
    "## Question 6"
   ]
  },
  {
   "cell_type": "markdown",
   "id": "386e6a52",
   "metadata": {},
   "source": [
    "In Pandas, Series and DataFrame are mutable, meaning you can modify their contents after creation. Panel is considered deprecated in recent versions of Pandas, and it's recommended to use MultiIndex DataFrames or Panel-like structures using the pd.Panel class.\n",
    "\n",
    "You can modify the values in a Series after it's created. For example, you can change the value of a specific element or update the entire Series with new values.\n",
    "DataFrames are mutable as well. You can add, remove, or modify columns, and you can also update the values in specific cells."
   ]
  },
  {
   "cell_type": "markdown",
   "id": "20d94985",
   "metadata": {},
   "source": [
    "## Question 7"
   ]
  },
  {
   "cell_type": "code",
   "execution_count": 6,
   "id": "2765d67c",
   "metadata": {},
   "outputs": [
    {
     "name": "stdout",
     "output_type": "stream",
     "text": [
      "   column1 column2  column3\n",
      "0        1       A     10.5\n",
      "1        2       B     20.5\n",
      "2        3       C     30.5\n"
     ]
    }
   ],
   "source": [
    "import pandas as pd\n",
    "\n",
    "## lets first create multiple series\n",
    "series1=pd.Series([1,2,3])\n",
    "series2=pd.Series(['A','B','C'])\n",
    "series3=pd.Series([10.5,20.5,30.5])\n",
    "\n",
    "## creating a dataframe with multiple series\n",
    "\n",
    "my_df=pd.DataFrame({'column1':series1,'column2':series2,'column3':series3})\n",
    "\n",
    "print(my_df)"
   ]
  },
  {
   "cell_type": "code",
   "execution_count": null,
   "id": "95601ece",
   "metadata": {},
   "outputs": [],
   "source": []
  }
 ],
 "metadata": {
  "kernelspec": {
   "display_name": "Python 3 (ipykernel)",
   "language": "python",
   "name": "python3"
  },
  "language_info": {
   "codemirror_mode": {
    "name": "ipython",
    "version": 3
   },
   "file_extension": ".py",
   "mimetype": "text/x-python",
   "name": "python",
   "nbconvert_exporter": "python",
   "pygments_lexer": "ipython3",
   "version": "3.11.4"
  }
 },
 "nbformat": 4,
 "nbformat_minor": 5
}
