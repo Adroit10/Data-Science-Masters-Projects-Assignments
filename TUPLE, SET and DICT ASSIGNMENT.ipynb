{
 "cells": [
  {
   "cell_type": "markdown",
   "id": "ba411f61",
   "metadata": {},
   "source": [
    "## Question 1\n",
    "\n",
    "'''A tuple is one of the data types of Python. Tuples are ordered, indexed collections of data. Tuples can store duplicate values but once a data is assigned to a tuple the values cannot be changed, as tuples are immutable.\n",
    "\n",
    "'''\n"
   ]
  },
  {
   "cell_type": "markdown",
   "id": "a3de3381",
   "metadata": {},
   "source": [
    "## Question 2\n",
    "'''There are two methods that supply additional functionality when using tuples. The two methods are index and count.\n",
    "\n",
    "There are only 2 methods for tuples unlike lists as tuples are immutable and the data stored cannot be altered once assigned.\n",
    "'''"
   ]
  },
  {
   "cell_type": "code",
   "execution_count": 2,
   "id": "539b1ee9",
   "metadata": {},
   "outputs": [
    {
     "data": {
      "text/plain": [
       "2"
      ]
     },
     "execution_count": 2,
     "metadata": {},
     "output_type": "execute_result"
    }
   ],
   "source": [
    "# Example\n",
    "tup=(1,2,3,4,5,2,5,7,8)\n",
    "#count method\n",
    "tup.count(2)"
   ]
  },
  {
   "cell_type": "code",
   "execution_count": 3,
   "id": "daf07f88",
   "metadata": {},
   "outputs": [
    {
     "data": {
      "text/plain": [
       "1"
      ]
     },
     "execution_count": 3,
     "metadata": {},
     "output_type": "execute_result"
    }
   ],
   "source": [
    "# index method\n",
    "tup.index(2)"
   ]
  },
  {
   "cell_type": "markdown",
   "id": "afeef80d",
   "metadata": {},
   "source": [
    "## Question 3\n",
    "'''\n",
    "Set is a collection data type in python that does not allow duplicate values to be stored inside it.\n",
    "'''"
   ]
  },
  {
   "cell_type": "code",
   "execution_count": 4,
   "id": "4e93e7fa",
   "metadata": {},
   "outputs": [
    {
     "data": {
      "text/plain": [
       "{1, 2, 3, 4}"
      ]
     },
     "execution_count": 4,
     "metadata": {},
     "output_type": "execute_result"
    }
   ],
   "source": [
    "\n",
    "List=[1,1,1,2,1,3,1,4,2,1,2,2,2,3,2,4,3,1,2,3,3,3,4,4,1,4,2,4,3,4,4]\n",
    "no_dup=set(List)\n",
    "no_dup\n"
   ]
  },
  {
   "cell_type": "markdown",
   "id": "0d202149",
   "metadata": {},
   "source": [
    "## Question 4\n",
    "'''\n",
    "The union() prints the elements that are common in the two sets while the update() returns a set with the elements of both the sets .\n",
    "'''"
   ]
  },
  {
   "cell_type": "code",
   "execution_count": 5,
   "id": "b891440f",
   "metadata": {},
   "outputs": [
    {
     "data": {
      "text/plain": [
       "{'Black', 'Blue', 'Orange', 'Pink', 'Yellow'}"
      ]
     },
     "execution_count": 5,
     "metadata": {},
     "output_type": "execute_result"
    }
   ],
   "source": [
    "set1 = {\"Yellow\", \"Orange\", \"Black\"}\n",
    "set2 = {\"Orange\", \"Blue\", \"Pink\"}\n",
    "set1.update(set2)\n",
    "set1\n"
   ]
  },
  {
   "cell_type": "code",
   "execution_count": 6,
   "id": "e52386be",
   "metadata": {},
   "outputs": [
    {
     "data": {
      "text/plain": [
       "{'Black', 'Orange', 'Yellow'}"
      ]
     },
     "execution_count": 6,
     "metadata": {},
     "output_type": "execute_result"
    }
   ],
   "source": [
    "set1 = {\"Yellow\", \"Orange\", \"Black\"}\n",
    "set2 = {\"Orange\", \"Blue\", \"Pink\"}\n",
    "set1.union(set2)\n",
    "set1\n"
   ]
  },
  {
   "cell_type": "markdown",
   "id": "cd9d5064",
   "metadata": {},
   "source": [
    "## Question 5\n",
    "'''\n",
    " Dictionaries are used to store data in key:value pairs. A dictionary is a collection that is ordered( items have a defined order and we cannot change that order), mutable and does not allow duplicates. '''"
   ]
  },
  {
   "cell_type": "code",
   "execution_count": 8,
   "id": "1f49126e",
   "metadata": {},
   "outputs": [
    {
     "data": {
      "text/plain": [
       "{'a': 1, 'b': 2, 'c': 3}"
      ]
     },
     "execution_count": 8,
     "metadata": {},
     "output_type": "execute_result"
    }
   ],
   "source": [
    "my_dict = {\"a\": 1, \"b\": 2, \"c\": 3}\n",
    "my_dict"
   ]
  },
  {
   "cell_type": "markdown",
   "id": "df878b96",
   "metadata": {},
   "source": [
    "## Question 6\n",
    "'''\n",
    " Yes, we can create nested dictionaries in Python.\n",
    "'''"
   ]
  },
  {
   "cell_type": "code",
   "execution_count": 11,
   "id": "efd108e6",
   "metadata": {},
   "outputs": [
    {
     "data": {
      "text/plain": [
       "{'Stud1': {'name': 'Devansh', 'year': 2000},\n",
       " 'child2': {'name': 'Sparsh', 'year': 2000},\n",
       " 'child3': {'name': 'Jai', 'year': 2002}}"
      ]
     },
     "execution_count": 11,
     "metadata": {},
     "output_type": "execute_result"
    }
   ],
   "source": [
    "School_rec = { \"Stud1\" : {\"name\" : \"Devansh\", \"year\" : 2000},\n",
    "  \"child2\" : {  \"name\" : \"Sparsh\", \"year\" : 2000},\n",
    "  \"child3\" : { \"name\" : \"Jai\", \"year\" :2002}}\n",
    "School_rec"
   ]
  },
  {
   "cell_type": "markdown",
   "id": "82ea398e",
   "metadata": {},
   "source": [
    "## Question 7"
   ]
  },
  {
   "cell_type": "code",
   "execution_count": 12,
   "id": "6d78313d",
   "metadata": {},
   "outputs": [
    {
     "data": {
      "text/plain": [
       "{'language': 'Python',\n",
       " 'course': 'Data Science Masters',\n",
       " 'topics': ['Pyhton', 'Machine Learning', 'Deep Learning']}"
      ]
     },
     "execution_count": 12,
     "metadata": {},
     "output_type": "execute_result"
    }
   ],
   "source": [
    "dict1={'language':'Python','course':'Data Science Masters'}\n",
    "dict1.setdefault('topics',['Pyhton','Machine Learning','Deep Learning'])\n",
    "dict1"
   ]
  },
  {
   "cell_type": "markdown",
   "id": "80ba8d7f",
   "metadata": {},
   "source": [
    "## Question 8\n",
    "''' The 3 view objects in dictionaries are keys, values and items.'''"
   ]
  },
  {
   "cell_type": "code",
   "execution_count": 13,
   "id": "9ac037ad",
   "metadata": {},
   "outputs": [
    {
     "data": {
      "text/plain": [
       "dict_items([('Sports', 'Cricket'), ('Teams', ['India', 'Australia', 'England', 'South Africa', 'Sri Lanka', 'New Zealand'])])"
      ]
     },
     "execution_count": 13,
     "metadata": {},
     "output_type": "execute_result"
    }
   ],
   "source": [
    "dict1={'Sports':'Cricket','Teams':['India','Australia','England','South Africa','Sri Lanka','New Zealand']}\n",
    "dict1.items()"
   ]
  },
  {
   "cell_type": "code",
   "execution_count": 14,
   "id": "674630ae",
   "metadata": {},
   "outputs": [
    {
     "data": {
      "text/plain": [
       "dict_keys(['Sports', 'Teams'])"
      ]
     },
     "execution_count": 14,
     "metadata": {},
     "output_type": "execute_result"
    }
   ],
   "source": [
    "dict1.keys()"
   ]
  },
  {
   "cell_type": "code",
   "execution_count": 15,
   "id": "d765236b",
   "metadata": {},
   "outputs": [
    {
     "data": {
      "text/plain": [
       "dict_values(['Cricket', ['India', 'Australia', 'England', 'South Africa', 'Sri Lanka', 'New Zealand']])"
      ]
     },
     "execution_count": 15,
     "metadata": {},
     "output_type": "execute_result"
    }
   ],
   "source": [
    "dict1.values()"
   ]
  },
  {
   "cell_type": "code",
   "execution_count": null,
   "id": "d3a5132c",
   "metadata": {},
   "outputs": [],
   "source": []
  }
 ],
 "metadata": {
  "kernelspec": {
   "display_name": "Python 3 (ipykernel)",
   "language": "python",
   "name": "python3"
  },
  "language_info": {
   "codemirror_mode": {
    "name": "ipython",
    "version": 3
   },
   "file_extension": ".py",
   "mimetype": "text/x-python",
   "name": "python",
   "nbconvert_exporter": "python",
   "pygments_lexer": "ipython3",
   "version": "3.9.7"
  }
 },
 "nbformat": 4,
 "nbformat_minor": 5
}
