{
 "cells": [
  {
   "cell_type": "markdown",
   "id": "e81aca0b",
   "metadata": {},
   "source": [
    "## Question 1"
   ]
  },
  {
   "cell_type": "markdown",
   "id": "a60e7b64",
   "metadata": {},
   "source": [
    "Support Vector Machines (SVMs) are a class of supervised machine learning algorithms used for classification and regression tasks. In the case of linear SVMs, the decision boundary is a hyperplane that separates the data into different classes. The mathematical formula for a linear SVM can be expressed as follows:\n",
    "\n",
    "f(x) = w.x + b\n",
    "\n",
    "f(x) is the decision function \n",
    "\n",
    "w is the weight vector\n",
    "\n",
    "x is the input feature vector\n",
    "\n",
    ". denotes the dot product\n",
    "\n",
    "b is the bias term\n",
    "\n",
    "The classification rule is based on the sign of the decision function:\n",
    "\n",
    "{  +1 if f(x) >=0\n",
    "   -1 if f(x) < 0\n",
    "  }\n",
    "  \n"
   ]
  },
  {
   "cell_type": "markdown",
   "id": "d5fde9b5",
   "metadata": {},
   "source": [
    "## Question 2"
   ]
  },
  {
   "cell_type": "markdown",
   "id": "aa687efa",
   "metadata": {},
   "source": [
    "The objective function of a linear Support Vector Machine (SVM) involves finding the parameters (weight vector and bias) that define a hyperplane with the maximum margin between the classes. The SVM aims to minimize a specific objective function, which includes a regularization term to balance achieving a wide margin and avoiding misclassifications. The optimization problem for a linear SVM is typically formulated as follows:\n",
    "\n",
    "Minimise ||w|| / 2\n",
    "\n",
    "subject to the constraints:\n",
    "\n",
    "yi * (w.xi + b) >= 1 for all training samples (xi, yi)\n",
    "\n",
    "The regularization term, which encourages finding a hyperplane with a larger margin. The objective is to minimize the Euclidean norm of the weight vector w, effectively maximizing the margin.\n",
    "\n",
    "yi * (w.xi + b) >= 1 constraints ensure that each data point is correctly classified and lies on the correct side of the decision boundary with a margin of at least 1. The class labels yi are either +1 or -1, and xi represents the feature vector of the i-th training sample."
   ]
  },
  {
   "cell_type": "markdown",
   "id": "330e1751",
   "metadata": {},
   "source": [
    "## Question 3"
   ]
  },
  {
   "cell_type": "markdown",
   "id": "1a1f3f21",
   "metadata": {},
   "source": [
    "The kernel trick is a technique used in Support Vector Machines (SVMs) to handle non-linear decision boundaries by implicitly mapping input data into a higher-dimensional space. It allows SVMs to operate in a space where a linear decision boundary corresponds to a non-linear decision boundary in the original feature space. The kernel trick is particularly useful when dealing with datasets that are not linearly separable.\n",
    "\n",
    "The kernel trick involves replacing the dot product w⋅x with a non-linear function K(x,z) that computes the similarity between two data points x and z in a higher-dimensional space. The decision function then becomes:\n",
    "\n",
    "f(x) = ∑ (i=1 to N) αi * yi * K(xi,x) +b\n",
    "\n",
    "N is the number of support vectors,\n",
    "αi are the Lagrange multipliers obtained during the optimization process,\n",
    "yi is the class label of the i-th support vector,\n",
    "xi is the i-th support vector.\n",
    "\n",
    "\n",
    "A few popular kernels used are :\n",
    "\n",
    "1. Linear Kernel : K(x,z) =x.z\n",
    "Equivalent to the standard linear SVM useful for linearly seperable data points.\n",
    "\n",
    "2. Polynomial Kernel : K(x,z) = (x.z + c)^d\n",
    "Itroduces polynomial features and allows for decision boundaries of higher degrees.\n",
    "\n",
    "3. Radial Basis Function(RBF) or Guassian Kernel : K(x,z) = exp( -||x-z||^2 / 2 * std^2)\n",
    "\n",
    "Captures local patterns and is effective for non-linearly seperable data.\n",
    "\n",
    "4. Sigmoid kernel : K(x,z) = tanh( αx .z + c)"
   ]
  },
  {
   "cell_type": "markdown",
   "id": "25a6f719",
   "metadata": {},
   "source": [
    "## Question 4"
   ]
  },
  {
   "cell_type": "markdown",
   "id": "ead95fda",
   "metadata": {},
   "source": [
    "Support vectors play a crucial role in Support Vector Machines (SVMs), influencing the construction of the decision boundary and defining the margin. In SVM, the decision boundary is determined by a subset of training instances called support vectors. These are the data points that lie closest to the decision boundary and have the most influence on the positioning and orientation of the boundary.\n",
    "\n",
    "The decision boundary (hyperplane) of an SVM is determined by the support vectors. These vectors lie at the margins, and the hyperplane is positioned to maximize the margin, i.e., the distance between the hyperplane and the nearest support vectors. The margin is the distance between the decision boundary and the nearest data points from each class. The support vectors define this margin, and the SVM aims to maximize it during training.\n",
    "\n",
    "In the case of non-linear decision boundaries (using the kernel trick), the support vectors are crucial for defining the decision boundary in the higher-dimensional feature space. They represent the key data points around which the non-linear decision surface is shaped."
   ]
  },
  {
   "cell_type": "markdown",
   "id": "f8bd3ea3",
   "metadata": {},
   "source": [
    "## Question 5"
   ]
  },
  {
   "cell_type": "markdown",
   "id": "024abff3",
   "metadata": {},
   "source": [
    "Hyperplane:  The hyperplane is the decision boundary that separates the data points of different classes. In a two-dimensional space, it is a line, and in higher dimensions, it becomes a hyperplane.\n",
    "\n",
    "Marginal Plane: The marginal plane refers to the planes parallel to the hyperplane but at a specified distance, known as the margin. Support vectors lie on these marginal planes.\n",
    "\n",
    "<img src=\"https://editor.analyticsvidhya.com/uploads/567891.png\">\n",
    "\n",
    "In the above image presented the black line represents the hyperplane and the dotted lines represent the positive nad negative hyperplane. The distance between the twomarginal planes is known as the margin and our objective is to maximise this margin so that two classes of data points are classified properly.\n",
    "\n",
    "\n",
    "<img src=\"https://miro.medium.com/v2/resize:fit:552/1*CD08yESKvYgyM7pJhCnQeQ.png\">\n",
    "\n",
    "Hard Margin: A hard-margin SVM aims to find a hyperplane that perfectly separates the two classes, with no data points allowed in the margin. This can be challenging when the data is not linearly separable.\n",
    "\n",
    "Soft Margin: A soft-margin SVM allows for some margin violations, introducing a trade-off between maximizing the margin and allowing for misclassifications. This is particularly useful when the data is not perfectly separable.\n"
   ]
  },
  {
   "cell_type": "code",
   "execution_count": 1,
   "id": "ef3e3347",
   "metadata": {},
   "outputs": [
    {
     "data": {
      "text/html": [
       "<div>\n",
       "<style scoped>\n",
       "    .dataframe tbody tr th:only-of-type {\n",
       "        vertical-align: middle;\n",
       "    }\n",
       "\n",
       "    .dataframe tbody tr th {\n",
       "        vertical-align: top;\n",
       "    }\n",
       "\n",
       "    .dataframe thead th {\n",
       "        text-align: right;\n",
       "    }\n",
       "</style>\n",
       "<table border=\"1\" class=\"dataframe\">\n",
       "  <thead>\n",
       "    <tr style=\"text-align: right;\">\n",
       "      <th></th>\n",
       "      <th>sepal length (cm)</th>\n",
       "      <th>sepal width (cm)</th>\n",
       "      <th>petal length (cm)</th>\n",
       "      <th>petal width (cm)</th>\n",
       "      <th>target</th>\n",
       "    </tr>\n",
       "  </thead>\n",
       "  <tbody>\n",
       "    <tr>\n",
       "      <th>0</th>\n",
       "      <td>5.1</td>\n",
       "      <td>3.5</td>\n",
       "      <td>1.4</td>\n",
       "      <td>0.2</td>\n",
       "      <td>0</td>\n",
       "    </tr>\n",
       "    <tr>\n",
       "      <th>1</th>\n",
       "      <td>4.9</td>\n",
       "      <td>3.0</td>\n",
       "      <td>1.4</td>\n",
       "      <td>0.2</td>\n",
       "      <td>0</td>\n",
       "    </tr>\n",
       "    <tr>\n",
       "      <th>2</th>\n",
       "      <td>4.7</td>\n",
       "      <td>3.2</td>\n",
       "      <td>1.3</td>\n",
       "      <td>0.2</td>\n",
       "      <td>0</td>\n",
       "    </tr>\n",
       "    <tr>\n",
       "      <th>3</th>\n",
       "      <td>4.6</td>\n",
       "      <td>3.1</td>\n",
       "      <td>1.5</td>\n",
       "      <td>0.2</td>\n",
       "      <td>0</td>\n",
       "    </tr>\n",
       "    <tr>\n",
       "      <th>4</th>\n",
       "      <td>5.0</td>\n",
       "      <td>3.6</td>\n",
       "      <td>1.4</td>\n",
       "      <td>0.2</td>\n",
       "      <td>0</td>\n",
       "    </tr>\n",
       "  </tbody>\n",
       "</table>\n",
       "</div>"
      ],
      "text/plain": [
       "   sepal length (cm)  sepal width (cm)  petal length (cm)  petal width (cm)  \\\n",
       "0                5.1               3.5                1.4               0.2   \n",
       "1                4.9               3.0                1.4               0.2   \n",
       "2                4.7               3.2                1.3               0.2   \n",
       "3                4.6               3.1                1.5               0.2   \n",
       "4                5.0               3.6                1.4               0.2   \n",
       "\n",
       "   target  \n",
       "0       0  \n",
       "1       0  \n",
       "2       0  \n",
       "3       0  \n",
       "4       0  "
      ]
     },
     "execution_count": 1,
     "metadata": {},
     "output_type": "execute_result"
    }
   ],
   "source": [
    "from sklearn.datasets import load_iris\n",
    "from sklearn.model_selection import train_test_split\n",
    "from sklearn.svm import SVC\n",
    "from sklearn.preprocessing import StandardScaler\n",
    "from sklearn.metrics import accuracy_score,f1_score,classification_report,confusion_matrix\n",
    "import pandas as pd\n",
    "import matplotlib.pyplot as plt \n",
    "%matplotlib inline\n",
    "import numpy as np\n",
    "\n",
    "dataset=load_iris()\n",
    "df=pd.DataFrame(data=dataset.data,columns=dataset.feature_names)\n",
    "df['target']=dataset.target\n",
    "df.head()"
   ]
  },
  {
   "cell_type": "code",
   "execution_count": 2,
   "id": "a140d9b1",
   "metadata": {},
   "outputs": [
    {
     "data": {
      "text/plain": [
       "array([0, 1, 2])"
      ]
     },
     "execution_count": 2,
     "metadata": {},
     "output_type": "execute_result"
    }
   ],
   "source": [
    "df['target'].unique()"
   ]
  },
  {
   "cell_type": "code",
   "execution_count": 3,
   "id": "9bd49b88",
   "metadata": {
    "scrolled": true
   },
   "outputs": [
    {
     "name": "stdout",
     "output_type": "stream",
     "text": [
      "[[12  0]\n",
      " [ 0 10]]\n",
      "accuracy score:  1.0\n",
      "F1 score:  1.0\n",
      "              precision    recall  f1-score   support\n",
      "\n",
      "           0       1.00      1.00      1.00        12\n",
      "           1       1.00      1.00      1.00        10\n",
      "\n",
      "    accuracy                           1.00        22\n",
      "   macro avg       1.00      1.00      1.00        22\n",
      "weighted avg       1.00      1.00      1.00        22\n",
      "\n"
     ]
    }
   ],
   "source": [
    "new_df=df[df['target']!=2]\n",
    "X=new_df.iloc[:,:-1]\n",
    "y=new_df.iloc[:,-1]\n",
    "\n",
    "X_train,X_test,y_train,y_test=train_test_split(X,y,test_size=0.22,random_state=42)\n",
    "scaler=StandardScaler()\n",
    "X_train_scaled=scaler.fit_transform(X_train)\n",
    "X_test_scaled=scaler.transform(X_test)\n",
    "svc=SVC(kernel='linear')\n",
    "svc.fit(X_train_scaled,y_train)\n",
    "y_pred=svc.predict(X_test_scaled)\n",
    "print(confusion_matrix(y_test,y_pred))\n",
    "print(\"accuracy score: \",accuracy_score(y_test,y_pred))\n",
    "print(\"F1 score: \",f1_score(y_test,y_pred))\n",
    "print(classification_report(y_test,y_pred))"
   ]
  },
  {
   "cell_type": "code",
   "execution_count": 4,
   "id": "3ec78acb",
   "metadata": {},
   "outputs": [
    {
     "data": {
      "image/png": "[encoded data removed]",
      "text/plain": [
       "<Figure size 640x480 with 1 Axes>"
      ]
     },
     "metadata": {},
     "output_type": "display_data"
    }
   ],
   "source": [
    "iris = load_iris()\n",
    "X = iris.data[:, :2]  # Using only the first two features for visualization\n",
    "y = iris.target\n",
    "x_min, x_max = X[:, 0].min() - 1, X[:, 0].max() + 1\n",
    "y_min, y_max = X[:, 1].min() - 1, X[:, 1].max() + 1\n",
    "\n",
    "xx, yy = np.meshgrid(np.arange(x_min, x_max, 0.01), np.arange(y_min, y_max, 0.01))\n",
    "X_train, X_test, y_train, y_test = train_test_split(X, y, test_size=0.2, random_state=42)\n",
    "scaler = StandardScaler()\n",
    "X_train_scaled = scaler.fit_transform(X_train)\n",
    "X_test_scaled = scaler.transform(X_test)\n",
    "svm_model = SVC(kernel='linear')\n",
    "svm_model.fit(X_train_scaled, y_train)\n",
    "Z = svm_model.predict(np.c_[xx.ravel(), yy.ravel()])\n",
    "Z = Z.reshape(xx.shape)\n",
    "\n",
    "plt.contourf(xx, yy, Z, cmap=plt.cm.coolwarm, alpha=0.3)\n",
    "\n",
    "plt.scatter(X[:, 0], X[:, 1], c=y, cmap=plt.cm.coolwarm, edgecolors='k')\n",
    "plt.xlabel('Sepal Length (cm)')\n",
    "plt.ylabel('Sepal Width (cm)')\n",
    "plt.title('SVM Decision Boundaries with Two Features')\n",
    "plt.show()"
   ]
  },
  {
   "cell_type": "code",
   "execution_count": 5,
   "id": "d9cc2edc",
   "metadata": {},
   "outputs": [
    {
     "name": "stdout",
     "output_type": "stream",
     "text": [
      "Fitting 5 folds for each of 5 candidates, totalling 25 fits\n",
      "[CV 1/5] END ..............C=0.1, kernel=linear;, score=0.708 total time=   0.0s\n",
      "[CV 2/5] END ..............C=0.1, kernel=linear;, score=0.750 total time=   0.0s\n",
      "[CV 3/5] END ..............C=0.1, kernel=linear;, score=0.875 total time=   0.0s\n",
      "[CV 4/5] END ..............C=0.1, kernel=linear;, score=0.833 total time=   0.0s\n",
      "[CV 5/5] END ..............C=0.1, kernel=linear;, score=0.708 total time=   0.0s\n",
      "[CV 1/5] END ................C=1, kernel=linear;, score=0.667 total time=   0.0s\n",
      "[CV 2/5] END ................C=1, kernel=linear;, score=0.750 total time=   0.0s\n",
      "[CV 3/5] END ................C=1, kernel=linear;, score=0.875 total time=   0.0s\n",
      "[CV 4/5] END ................C=1, kernel=linear;, score=0.833 total time=   0.0s\n",
      "[CV 5/5] END ................C=1, kernel=linear;, score=0.708 total time=   0.0s\n",
      "[CV 1/5] END ...............C=10, kernel=linear;, score=0.667 total time=   0.0s\n",
      "[CV 2/5] END ...............C=10, kernel=linear;, score=0.750 total time=   0.0s\n",
      "[CV 3/5] END ...............C=10, kernel=linear;, score=0.875 total time=   0.0s\n",
      "[CV 4/5] END ...............C=10, kernel=linear;, score=0.833 total time=   0.0s\n",
      "[CV 5/5] END ...............C=10, kernel=linear;, score=0.750 total time=   0.0s\n",
      "[CV 1/5] END ..............C=100, kernel=linear;, score=0.667 total time=   0.0s\n",
      "[CV 2/5] END ..............C=100, kernel=linear;, score=0.750 total time=   0.0s\n",
      "[CV 3/5] END ..............C=100, kernel=linear;, score=0.875 total time=   0.0s\n",
      "[CV 4/5] END ..............C=100, kernel=linear;, score=0.833 total time=   0.0s\n",
      "[CV 5/5] END ..............C=100, kernel=linear;, score=0.750 total time=   0.0s\n",
      "[CV 1/5] END .............C=1000, kernel=linear;, score=0.667 total time=   0.0s\n",
      "[CV 2/5] END .............C=1000, kernel=linear;, score=0.750 total time=   0.0s\n",
      "[CV 3/5] END .............C=1000, kernel=linear;, score=0.875 total time=   0.0s\n",
      "[CV 4/5] END .............C=1000, kernel=linear;, score=0.833 total time=   0.0s\n",
      "[CV 5/5] END .............C=1000, kernel=linear;, score=0.750 total time=   0.0s\n",
      "Best parameters:  {'C': 0.1, 'kernel': 'linear'}\n",
      "Fitting 5 folds for each of 5 candidates, totalling 25 fits\n",
      "[CV 1/5] END ..............C=0.1, kernel=linear;, score=0.708 total time=   0.0s\n",
      "[CV 2/5] END ..............C=0.1, kernel=linear;, score=0.750 total time=   0.0s\n",
      "[CV 3/5] END ..............C=0.1, kernel=linear;, score=0.875 total time=   0.0s\n",
      "[CV 4/5] END ..............C=0.1, kernel=linear;, score=0.833 total time=   0.0s\n",
      "[CV 5/5] END ..............C=0.1, kernel=linear;, score=0.708 total time=   0.0s\n",
      "[CV 1/5] END ................C=1, kernel=linear;, score=0.667 total time=   0.0s\n",
      "[CV 2/5] END ................C=1, kernel=linear;, score=0.750 total time=   0.0s\n",
      "[CV 3/5] END ................C=1, kernel=linear;, score=0.875 total time=   0.0s\n",
      "[CV 4/5] END ................C=1, kernel=linear;, score=0.833 total time=   0.0s\n",
      "[CV 5/5] END ................C=1, kernel=linear;, score=0.708 total time=   0.0s\n",
      "[CV 1/5] END ...............C=10, kernel=linear;, score=0.667 total time=   0.0s\n",
      "[CV 2/5] END ...............C=10, kernel=linear;, score=0.750 total time=   0.0s\n",
      "[CV 3/5] END ...............C=10, kernel=linear;, score=0.875 total time=   0.0s\n",
      "[CV 4/5] END ...............C=10, kernel=linear;, score=0.833 total time=   0.0s\n",
      "[CV 5/5] END ...............C=10, kernel=linear;, score=0.750 total time=   0.0s\n",
      "[CV 1/5] END ..............C=100, kernel=linear;, score=0.667 total time=   0.0s\n",
      "[CV 2/5] END ..............C=100, kernel=linear;, score=0.750 total time=   0.0s\n",
      "[CV 3/5] END ..............C=100, kernel=linear;, score=0.875 total time=   0.0s\n",
      "[CV 4/5] END ..............C=100, kernel=linear;, score=0.833 total time=   0.0s\n",
      "[CV 5/5] END ..............C=100, kernel=linear;, score=0.750 total time=   0.0s\n",
      "[CV 1/5] END .............C=1000, kernel=linear;, score=0.667 total time=   0.0s\n",
      "[CV 2/5] END .............C=1000, kernel=linear;, score=0.750 total time=   0.0s\n",
      "[CV 3/5] END .............C=1000, kernel=linear;, score=0.875 total time=   0.0s\n",
      "[CV 4/5] END .............C=1000, kernel=linear;, score=0.833 total time=   0.0s\n",
      "[CV 5/5] END .............C=1000, kernel=linear;, score=0.750 total time=   0.0s\n",
      "0.9\n",
      "accuracy:  0.9\n",
      "              precision    recall  f1-score   support\n",
      "\n",
      "           0       1.00      1.00      1.00        10\n",
      "           1       0.88      0.78      0.82         9\n",
      "           2       0.83      0.91      0.87        11\n",
      "\n",
      "    accuracy                           0.90        30\n",
      "   macro avg       0.90      0.90      0.90        30\n",
      "weighted avg       0.90      0.90      0.90        30\n",
      "\n"
     ]
    }
   ],
   "source": [
    "from sklearn.model_selection import GridSearchCV\n",
    "param_grid={\n",
    "    'C': [0.1,1,10,100,1000],\n",
    "    'kernel':['linear']\n",
    "}\n",
    "gridcv=GridSearchCV(svc,param_grid=param_grid,cv=5,verbose=3)\n",
    "gridcv.fit(X_train_scaled,y_train)\n",
    "\n",
    "print(\"Best parameters: \",gridcv.best_params_)\n",
    "gridcv.fit(X_train_scaled,y_train)\n",
    "y_pred1=gridcv.predict(X_test_scaled)\n",
    "print(accuracy_score(y_test,y_pred1))\n",
    "print(\"accuracy: \",accuracy_score(y_test,y_pred1))\n",
    "print(classification_report(y_test,y_pred1))"
   ]
  },
  {
   "cell_type": "code",
   "execution_count": null,
   "id": "074cc39a",
   "metadata": {},
   "outputs": [],
   "source": []
  }
 ],
 "metadata": {
  "kernelspec": {
   "display_name": "Python 3 (ipykernel)",
   "language": "python",
   "name": "python3"
  },
  "language_info": {
   "codemirror_mode": {
    "name": "ipython",
    "version": 3
   },
   "file_extension": ".py",
   "mimetype": "text/x-python",
   "name": "python",
   "nbconvert_exporter": "python",
   "pygments_lexer": "ipython3",
   "version": "3.11.4"
  }
 },
 "nbformat": 4,
 "nbformat_minor": 5
}
