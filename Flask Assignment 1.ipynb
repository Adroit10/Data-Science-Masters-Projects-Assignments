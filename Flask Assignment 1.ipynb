{
 "cells": [
  {
   "cell_type": "markdown",
   "id": "2d722e87",
   "metadata": {},
   "source": [
    "## Question 1"
   ]
  },
  {
   "cell_type": "markdown",
   "id": "e380db44",
   "metadata": {},
   "source": [
    "Flask is a micro web framework which is written in Python language. It is classified as a micro framework because it does not require particular tools or libraries. It has no datatbase abstraction layer, form validation, or any other components where pre-existing third party libraries provide common functions. Flask is lightweight and modular, making it an excellent choice for building web applications and APIs. It provides the essentials needed to get a web application up and running quickly, but it leaves many decisions to the developer, giving them the flexibility to choose the tools and libraries they prefer for various tasks.\n",
    "\n",
    "Flask, being a micro web framework, offers several advantages that make it a popular choice for developing web applications and APIs. \n",
    "\n",
    "\n",
    "1. Flask is designed to be simple and easy to use. It doesn't come with unnecessary components or dependencies, allowing developers to add only the features they need. This minimalistic approach makes Flask well-suited for small to medium-sized projects.\n",
    "\n",
    "2. Flask gives developers the freedom to choose their tools and libraries for different components of the application, such as database integration, authentication, and form handling. This flexibility allows developers to use the technologies that best fit their project requirements.\n",
    "\n",
    "3. While Flask itself is minimal, it supports extensions that can be easily integrated to add specific functionality. \n",
    "\n",
    "4.  Flask comes with a built-in development server, making it easy to test and debug applications during the development process.\n",
    "\n",
    "5. While Flask is often considered a good choice for small to medium-sized projects, it is also scalable.\n",
    "\n",
    "6. Flask is well-suited for building RESTful APIs. Its simplicity and support for HTTP methods make it easy to create web services following RESTful principles."
   ]
  },
  {
   "cell_type": "markdown",
   "id": "de0ad4d7",
   "metadata": {},
   "source": [
    "## Question 2"
   ]
  },
  {
   "cell_type": "code",
   "execution_count": 1,
   "id": "a9ee3713",
   "metadata": {},
   "outputs": [
    {
     "name": "stdout",
     "output_type": "stream",
     "text": [
      " * Serving Flask app '__main__'\n",
      " * Debug mode: off\n"
     ]
    },
    {
     "name": "stderr",
     "output_type": "stream",
     "text": [
      "WARNING: This is a development server. Do not use it in a production deployment. Use a production WSGI server instead.\n",
      " * Running on http://127.0.0.1:5000\n",
      "Press CTRL+C to quit\n"
     ]
    }
   ],
   "source": [
    "from flask import Flask\n",
    "app=Flask(__name__)\n",
    "\n",
    "@app.route('/')\n",
    "def hello_world():\n",
    "    return 'Hello World!!'\n",
    "\n",
    "if __name__=='__main__':\n",
    "    app.run()"
   ]
  },
  {
   "cell_type": "markdown",
   "id": "a4d4e4bc",
   "metadata": {},
   "source": [
    "<img src= \"https://github.com/Adroit10/Data-Science-Masters-Projects-Assignments/blob/main/Screenshot%202023-11-30%20001328.jpg\" \n",
    "width=\"500\" \n",
    "height=\"300\">"
   ]
  },
  {
   "cell_type": "markdown",
   "id": "40bb6605",
   "metadata": {},
   "source": [
    "## Question 3"
   ]
  },
  {
   "cell_type": "markdown",
   "id": "d8e7d6da",
   "metadata": {},
   "source": [
    "In Flask, app routing refers to the mechanism by which you define the mapping between URLs (Uniform Resource Locators) and the functions that should handle requests for those URLs. Routing in Flask is achieved using the @app.route() decorator. This decorator binds a function to a URL pattern so that when a request is made to that URL, the associated function is called to handle the request. In the above example the @app.route('/') decorator associates the hello_world() function with the root URL ('/'). So when we visit 'http://127.0.0.1:5000/' the hello_world() gets executed and Hello World!! is returned as a message. "
   ]
  },
  {
   "cell_type": "markdown",
   "id": "cfe1d3fa",
   "metadata": {},
   "source": [
    "## Question 4"
   ]
  },
  {
   "cell_type": "code",
   "execution_count": 4,
   "id": "e98f72f0",
   "metadata": {},
   "outputs": [
    {
     "name": "stdout",
     "output_type": "stream",
     "text": [
      " * Serving Flask app '__main__'\n",
      " * Debug mode: off\n"
     ]
    },
    {
     "name": "stderr",
     "output_type": "stream",
     "text": [
      "WARNING: This is a development server. Do not use it in a production deployment. Use a production WSGI server instead.\n",
      " * Running on http://127.0.0.1:5000\n",
      "Press CTRL+C to quit\n",
      "127.0.0.1 - - [30/Nov/2023 00:51:13] \"GET / HTTP/1.1\" 200 -\n",
      "127.0.0.1 - - [30/Nov/2023 00:52:40] \"GET /welcome HTTP/1.1\" 200 -\n",
      "127.0.0.1 - - [30/Nov/2023 00:53:09] \"GET / HTTP/1.1\" 200 -\n"
     ]
    }
   ],
   "source": [
    "from flask import Flask\n",
    "app=Flask(__name__)\n",
    "@app.route('/welcome')\n",
    "def Welcome_message():\n",
    "    return \"Welcome to ABC Corporation\"\n",
    "\n",
    "@app.route('/')\n",
    "def company_details():\n",
    "    return '''\n",
    "    Company Name : ABC Corporation\n",
    "    Location : India\n",
    "    Contact Detail ; 999-999-999\n",
    "    '''\n",
    "if __name__=='__main__':\n",
    "    app.run()"
   ]
  },
  {
   "cell_type": "markdown",
   "id": "53d273c7",
   "metadata": {},
   "source": [
    "<img src= \"https://github.com/Adroit10/Data-Science-Masters-Projects-Assignments/blob/main/welcome.jpg\">\n",
    "\n",
    "<img src= \"https://github.com/Adroit10/Data-Science-Masters-Projects-Assignments/blob/main/company_det.jpg\">"
   ]
  },
  {
   "cell_type": "markdown",
   "id": "1e152fce",
   "metadata": {},
   "source": [
    "## Question 5"
   ]
  },
  {
   "cell_type": "markdown",
   "id": "66c5a541",
   "metadata": {},
   "source": [
    "In Flask, the url_for function is used for URL building. The url_for function generates a URL for the specified endpoint (a function decorated with @app.route). This is particularly useful because it allows you to define URLs in your application using endpoint names rather than hardcoding the URLs. If the URL pattern of a route changes, you can still generate the correct URLs throughout your application by using url_for without modifying every occurrence manually."
   ]
  },
  {
   "cell_type": "code",
   "execution_count": 3,
   "id": "8eebc855",
   "metadata": {},
   "outputs": [
    {
     "name": "stdout",
     "output_type": "stream",
     "text": [
      "URL for welcome: /welcome\n",
      "URL for company_details: /\n"
     ]
    }
   ],
   "source": [
    "from flask import Flask, url_for\n",
    "\n",
    "app = Flask(__name__)\n",
    "\n",
    "@app.route('/welcome')\n",
    "def welcome():\n",
    "    return 'Welcome to ABC Corporation'\n",
    "\n",
    "@app.route('/')\n",
    "def company_details():\n",
    "    return '''\n",
    "    Company Name: ABC Corporation\n",
    "    Location: India\n",
    "    Contact Detail: 999-999-9999\n",
    "    '''\n",
    "\n",
    "if __name__ == '__main__':\n",
    "    with app.test_request_context():\n",
    "        # Using url_for to generate URLs\n",
    "        welcome_url = url_for('welcome')\n",
    "        company_details_url = url_for('company_details')\n",
    "\n",
    "        print(f'URL for welcome: {welcome_url}')\n",
    "        print(f'URL for company_details: {company_details_url}')\n"
   ]
  },
  {
   "cell_type": "code",
   "execution_count": null,
   "id": "ff96c8f1",
   "metadata": {},
   "outputs": [],
   "source": []
  }
 ],
 "metadata": {
  "kernelspec": {
   "display_name": "Python 3 (ipykernel)",
   "language": "python",
   "name": "python3"
  },
  "language_info": {
   "codemirror_mode": {
    "name": "ipython",
    "version": 3
   },
   "file_extension": ".py",
   "mimetype": "text/x-python",
   "name": "python",
   "nbconvert_exporter": "python",
   "pygments_lexer": "ipython3",
   "version": "3.11.4"
  }
 },
 "nbformat": 4,
 "nbformat_minor": 5
}
