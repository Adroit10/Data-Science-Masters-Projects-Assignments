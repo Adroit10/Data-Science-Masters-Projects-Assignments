{
 "cells": [
  {
   "cell_type": "markdown",
   "id": "a3050f83",
   "metadata": {},
   "source": [
    "## Question 1\n"
   ]
  },
  {
   "cell_type": "markdown",
   "id": "fa48507b",
   "metadata": {},
   "source": [
    "A class is a user-defined blueprint for creating objects.Classes prvides us a means of bundling data and functionality together.Each class instance can have a attribute attached to it for maintaining its state. A class is defined by the keyword 'class' . Example:"
   ]
  },
  {
   "cell_type": "code",
   "execution_count": 3,
   "id": "13e89176",
   "metadata": {},
   "outputs": [],
   "source": [
    "class Students:\n",
    "    pass"
   ]
  },
  {
   "cell_type": "markdown",
   "id": "8d5759f3",
   "metadata": {},
   "source": [
    "An object is an instance of a class. An object consists of state (which is repredsented by the attributes of the object), behaviour (represented by the methods of an object), identity ( gives a unique name to an object)."
   ]
  },
  {
   "cell_type": "code",
   "execution_count": 5,
   "id": "85a8af8e",
   "metadata": {},
   "outputs": [],
   "source": [
    "john=Students()  # here john is an object of the class Students"
   ]
  },
  {
   "cell_type": "markdown",
   "id": "e7253e90",
   "metadata": {},
   "source": [
    "## Question 2"
   ]
  },
  {
   "cell_type": "markdown",
   "id": "767e2183",
   "metadata": {},
   "source": [
    "The 4 pillars of Object oriented programming are:\n",
    "\n",
    "Abstraction:\n",
    "It is the concept of hiding complex actions adn displaying only the essential or necessary information to the outside world.\n",
    "\n",
    "Encapsulation:\n",
    "It is defined as wrapping up of data and information under a single unit. It binds the data and functions that manipulate it. It also leads to data abstraction or hiding\n",
    "\n",
    "Inheritance:\n",
    "It is the process in which two classes share a relationship with one another and object of one class acquire the properties and features of the other class. The class that inherits the properties is known as the child or sub class and the class whose features are inherited is known as the base, super or the parent class.\n",
    "\n",
    "Polymorphism:\n",
    "It is the ability to take more than one form. This feature provides a function or an operator with more than one definition. It is implemented by function overlaoding, funtion overriding.\n"
   ]
  },
  {
   "cell_type": "markdown",
   "id": "6aed3ba9",
   "metadata": {},
   "source": [
    "## Question 3"
   ]
  },
  {
   "cell_type": "markdown",
   "id": "e4b773b9",
   "metadata": {},
   "source": [
    "The __init__() in python works as a constructor in python. It is used to initialize the data members of the class when an object of the class is created. It runs as soon as tn object of a class is instantiated. Example :\n"
   ]
  },
  {
   "cell_type": "code",
   "execution_count": 6,
   "id": "4bef6a72",
   "metadata": {},
   "outputs": [],
   "source": [
    "class Students:\n",
    "    def __init__(self,name):\n",
    "        self.name=name\n",
    "    def introduction(self):\n",
    "        print(\"hello my name is {}\".format(self.name))"
   ]
  },
  {
   "cell_type": "code",
   "execution_count": 8,
   "id": "b513a6e8",
   "metadata": {},
   "outputs": [
    {
     "name": "stdout",
     "output_type": "stream",
     "text": [
      "hello my name is Jake\n"
     ]
    }
   ],
   "source": [
    "s1=Students(\"Jake\")\n",
    "s1.introduction()"
   ]
  },
  {
   "cell_type": "markdown",
   "id": "4aea79ab",
   "metadata": {},
   "source": [
    "## Question 4\n"
   ]
  },
  {
   "cell_type": "markdown",
   "id": "f0eb35eb",
   "metadata": {},
   "source": [
    "'self' represents  instance of a class by using self we can access the attributes and methods of the class in python. It is used to bind the attributes with the given arguments.\n"
   ]
  },
  {
   "cell_type": "markdown",
   "id": "d3858d09",
   "metadata": {},
   "source": [
    "## Question 5"
   ]
  },
  {
   "cell_type": "markdown",
   "id": "9c0734ab",
   "metadata": {},
   "source": [
    "Inheritance is the process in which two classes share a relationship with one another and object of one class acquire the properties and features of the other class. The class that inherits the properties is known as the child or sub class and the class whose features are inherited is known as the base, super or the parent class.\n",
    "Different types of inheritance are:\n",
    "\n",
    "\n",
    "Single Inheritance: when a derived class inherits properties from a single base class."
   ]
  },
  {
   "cell_type": "code",
   "execution_count": 10,
   "id": "37fd233c",
   "metadata": {},
   "outputs": [
    {
     "name": "stdout",
     "output_type": "stream",
     "text": [
      "this is the parent class\n",
      "this the child class\n"
     ]
    }
   ],
   "source": [
    "class Parent:\n",
    "    def func1(self):\n",
    "        print(\"this is the parent class\")\n",
    "\n",
    "class Child(Parent):\n",
    "    def func2(self):\n",
    "        print(\"this the child class\")\n",
    "        \n",
    "        \n",
    "        \n",
    "obj=Child()\n",
    "obj.func1()\n",
    "obj.func2()"
   ]
  },
  {
   "cell_type": "markdown",
   "id": "3317cc99",
   "metadata": {},
   "source": [
    "Multiple Inheritance:\n",
    "When a child class is derived from more than one base class."
   ]
  },
  {
   "cell_type": "code",
   "execution_count": 11,
   "id": "c30bc566",
   "metadata": {},
   "outputs": [
    {
     "name": "stdout",
     "output_type": "stream",
     "text": [
      "first base class\n",
      "second base class\n",
      "this is the child class\n"
     ]
    }
   ],
   "source": [
    "class Parent1:\n",
    "    def func1(self):\n",
    "        print(\"first base class\")\n",
    "class Parent2:\n",
    "    def func2(self):\n",
    "        print(\"second base class\")\n",
    "class Child(Parent1,Parent2):\n",
    "    def func(self):\n",
    "        print(\"this is the child class\")\n",
    "        \n",
    "        \n",
    "obj=Child()\n",
    "obj.func1()\n",
    "obj.func2()\n",
    "obj.func()"
   ]
  },
  {
   "cell_type": "markdown",
   "id": "2d6ba2f7",
   "metadata": {},
   "source": [
    "Multilevel Inheritance:  \n",
    "In this features of the base class and the derived class are further inherited into the new derived class."
   ]
  },
  {
   "cell_type": "code",
   "execution_count": 12,
   "id": "a104c68d",
   "metadata": {},
   "outputs": [
    {
     "name": "stdout",
     "output_type": "stream",
     "text": [
      "first base class\n",
      "second base class\n",
      "this is the child class\n"
     ]
    }
   ],
   "source": [
    "class Parent1:\n",
    "    def func1(self):\n",
    "        print(\"first base class\")\n",
    "class Parent2(Parent1):\n",
    "    def func2(self):\n",
    "        print(\"second base class\")\n",
    "class Child(Parent2):\n",
    "    def func(self):\n",
    "        print(\"this is the child class\")\n",
    "        \n",
    "        \n",
    "obj=Child()\n",
    "obj.func1()\n",
    "obj.func2()\n",
    "obj.func()"
   ]
  },
  {
   "cell_type": "code",
   "execution_count": null,
   "id": "c92b4a43",
   "metadata": {},
   "outputs": [],
   "source": []
  }
 ],
 "metadata": {
  "kernelspec": {
   "display_name": "Python 3 (ipykernel)",
   "language": "python",
   "name": "python3"
  },
  "language_info": {
   "codemirror_mode": {
    "name": "ipython",
    "version": 3
   },
   "file_extension": ".py",
   "mimetype": "text/x-python",
   "name": "python",
   "nbconvert_exporter": "python",
   "pygments_lexer": "ipython3",
   "version": "3.9.7"
  }
 },
 "nbformat": 4,
 "nbformat_minor": 5
}
