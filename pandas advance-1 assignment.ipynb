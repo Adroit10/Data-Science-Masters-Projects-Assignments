{
 "cells": [
  {
   "cell_type": "markdown",
   "id": "b381e5a7",
   "metadata": {},
   "source": [
    "## Question 1"
   ]
  },
  {
   "cell_type": "markdown",
   "id": "586e5c00",
   "metadata": {},
   "source": [
    "1. read_csv() : This function is used to read data from a CSV file into a pandas DataFrame "
   ]
  },
  {
   "cell_type": "code",
   "execution_count": 1,
   "id": "462071e4",
   "metadata": {},
   "outputs": [
    {
     "data": {
      "text/html": [
       "<div>\n",
       "<style scoped>\n",
       "    .dataframe tbody tr th:only-of-type {\n",
       "        vertical-align: middle;\n",
       "    }\n",
       "\n",
       "    .dataframe tbody tr th {\n",
       "        vertical-align: top;\n",
       "    }\n",
       "\n",
       "    .dataframe thead th {\n",
       "        text-align: right;\n",
       "    }\n",
       "</style>\n",
       "<table border=\"1\" class=\"dataframe\">\n",
       "  <thead>\n",
       "    <tr style=\"text-align: right;\">\n",
       "      <th></th>\n",
       "      <th>name</th>\n",
       "      <th>rating</th>\n",
       "      <th>genre</th>\n",
       "      <th>year</th>\n",
       "      <th>released</th>\n",
       "      <th>score</th>\n",
       "      <th>votes</th>\n",
       "      <th>director</th>\n",
       "      <th>writer</th>\n",
       "      <th>star</th>\n",
       "      <th>country</th>\n",
       "      <th>budget</th>\n",
       "      <th>gross</th>\n",
       "      <th>company</th>\n",
       "      <th>runtime</th>\n",
       "    </tr>\n",
       "  </thead>\n",
       "  <tbody>\n",
       "    <tr>\n",
       "      <th>0</th>\n",
       "      <td>The Shining</td>\n",
       "      <td>R</td>\n",
       "      <td>Drama</td>\n",
       "      <td>1980</td>\n",
       "      <td>June 13, 1980 (United States)</td>\n",
       "      <td>8.4</td>\n",
       "      <td>927000.0</td>\n",
       "      <td>Stanley Kubrick</td>\n",
       "      <td>Stephen King</td>\n",
       "      <td>Jack Nicholson</td>\n",
       "      <td>United Kingdom</td>\n",
       "      <td>19000000.0</td>\n",
       "      <td>46998772.0</td>\n",
       "      <td>Warner Bros.</td>\n",
       "      <td>146.0</td>\n",
       "    </tr>\n",
       "    <tr>\n",
       "      <th>1</th>\n",
       "      <td>The Blue Lagoon</td>\n",
       "      <td>R</td>\n",
       "      <td>Adventure</td>\n",
       "      <td>1980</td>\n",
       "      <td>July 2, 1980 (United States)</td>\n",
       "      <td>5.8</td>\n",
       "      <td>65000.0</td>\n",
       "      <td>Randal Kleiser</td>\n",
       "      <td>Henry De Vere Stacpoole</td>\n",
       "      <td>Brooke Shields</td>\n",
       "      <td>United States</td>\n",
       "      <td>4500000.0</td>\n",
       "      <td>58853106.0</td>\n",
       "      <td>Columbia Pictures</td>\n",
       "      <td>104.0</td>\n",
       "    </tr>\n",
       "    <tr>\n",
       "      <th>2</th>\n",
       "      <td>Star Wars: Episode V - The Empire Strikes Back</td>\n",
       "      <td>PG</td>\n",
       "      <td>Action</td>\n",
       "      <td>1980</td>\n",
       "      <td>June 20, 1980 (United States)</td>\n",
       "      <td>8.7</td>\n",
       "      <td>1200000.0</td>\n",
       "      <td>Irvin Kershner</td>\n",
       "      <td>Leigh Brackett</td>\n",
       "      <td>Mark Hamill</td>\n",
       "      <td>United States</td>\n",
       "      <td>18000000.0</td>\n",
       "      <td>538375067.0</td>\n",
       "      <td>Lucasfilm</td>\n",
       "      <td>124.0</td>\n",
       "    </tr>\n",
       "    <tr>\n",
       "      <th>3</th>\n",
       "      <td>Airplane!</td>\n",
       "      <td>PG</td>\n",
       "      <td>Comedy</td>\n",
       "      <td>1980</td>\n",
       "      <td>July 2, 1980 (United States)</td>\n",
       "      <td>7.7</td>\n",
       "      <td>221000.0</td>\n",
       "      <td>Jim Abrahams</td>\n",
       "      <td>Jim Abrahams</td>\n",
       "      <td>Robert Hays</td>\n",
       "      <td>United States</td>\n",
       "      <td>3500000.0</td>\n",
       "      <td>83453539.0</td>\n",
       "      <td>Paramount Pictures</td>\n",
       "      <td>88.0</td>\n",
       "    </tr>\n",
       "    <tr>\n",
       "      <th>4</th>\n",
       "      <td>Caddyshack</td>\n",
       "      <td>R</td>\n",
       "      <td>Comedy</td>\n",
       "      <td>1980</td>\n",
       "      <td>July 25, 1980 (United States)</td>\n",
       "      <td>7.3</td>\n",
       "      <td>108000.0</td>\n",
       "      <td>Harold Ramis</td>\n",
       "      <td>Brian Doyle-Murray</td>\n",
       "      <td>Chevy Chase</td>\n",
       "      <td>United States</td>\n",
       "      <td>6000000.0</td>\n",
       "      <td>39846344.0</td>\n",
       "      <td>Orion Pictures</td>\n",
       "      <td>98.0</td>\n",
       "    </tr>\n",
       "  </tbody>\n",
       "</table>\n",
       "</div>"
      ],
      "text/plain": [
       "                                             name rating      genre  year  \\\n",
       "0                                     The Shining      R      Drama  1980   \n",
       "1                                 The Blue Lagoon      R  Adventure  1980   \n",
       "2  Star Wars: Episode V - The Empire Strikes Back     PG     Action  1980   \n",
       "3                                       Airplane!     PG     Comedy  1980   \n",
       "4                                      Caddyshack      R     Comedy  1980   \n",
       "\n",
       "                        released  score      votes         director  \\\n",
       "0  June 13, 1980 (United States)    8.4   927000.0  Stanley Kubrick   \n",
       "1   July 2, 1980 (United States)    5.8    65000.0   Randal Kleiser   \n",
       "2  June 20, 1980 (United States)    8.7  1200000.0   Irvin Kershner   \n",
       "3   July 2, 1980 (United States)    7.7   221000.0     Jim Abrahams   \n",
       "4  July 25, 1980 (United States)    7.3   108000.0     Harold Ramis   \n",
       "\n",
       "                    writer            star         country      budget  \\\n",
       "0             Stephen King  Jack Nicholson  United Kingdom  19000000.0   \n",
       "1  Henry De Vere Stacpoole  Brooke Shields   United States   4500000.0   \n",
       "2           Leigh Brackett     Mark Hamill   United States  18000000.0   \n",
       "3             Jim Abrahams     Robert Hays   United States   3500000.0   \n",
       "4       Brian Doyle-Murray     Chevy Chase   United States   6000000.0   \n",
       "\n",
       "         gross             company  runtime  \n",
       "0   46998772.0        Warner Bros.    146.0  \n",
       "1   58853106.0   Columbia Pictures    104.0  \n",
       "2  538375067.0           Lucasfilm    124.0  \n",
       "3   83453539.0  Paramount Pictures     88.0  \n",
       "4   39846344.0      Orion Pictures     98.0  "
      ]
     },
     "execution_count": 1,
     "metadata": {},
     "output_type": "execute_result"
    }
   ],
   "source": [
    "import pandas as pd\n",
    "df=pd.read_csv('movies.csv')\n",
    "df.head()"
   ]
  },
  {
   "cell_type": "markdown",
   "id": "78c8712e",
   "metadata": {},
   "source": [
    "2. info() : This function is used to display a concise summary of the DataFrame including information about the data types, non null values and memory usage"
   ]
  },
  {
   "cell_type": "code",
   "execution_count": 2,
   "id": "73f6bea4",
   "metadata": {},
   "outputs": [
    {
     "name": "stdout",
     "output_type": "stream",
     "text": [
      "<class 'pandas.core.frame.DataFrame'>\n",
      "RangeIndex: 7668 entries, 0 to 7667\n",
      "Data columns (total 15 columns):\n",
      " #   Column    Non-Null Count  Dtype  \n",
      "---  ------    --------------  -----  \n",
      " 0   name      7668 non-null   object \n",
      " 1   rating    7591 non-null   object \n",
      " 2   genre     7668 non-null   object \n",
      " 3   year      7668 non-null   int64  \n",
      " 4   released  7666 non-null   object \n",
      " 5   score     7665 non-null   float64\n",
      " 6   votes     7665 non-null   float64\n",
      " 7   director  7668 non-null   object \n",
      " 8   writer    7665 non-null   object \n",
      " 9   star      7667 non-null   object \n",
      " 10  country   7665 non-null   object \n",
      " 11  budget    5497 non-null   float64\n",
      " 12  gross     7479 non-null   float64\n",
      " 13  company   7651 non-null   object \n",
      " 14  runtime   7664 non-null   float64\n",
      "dtypes: float64(5), int64(1), object(9)\n",
      "memory usage: 898.7+ KB\n"
     ]
    }
   ],
   "source": [
    "df.info()"
   ]
  },
  {
   "cell_type": "markdown",
   "id": "a0817219",
   "metadata": {},
   "source": [
    "3. describe(): This function generates descriptive statistics of the numerical columns present in the DataFrame, such as count, mean, standard deviation,  minimum and maximum value."
   ]
  },
  {
   "cell_type": "code",
   "execution_count": 3,
   "id": "ad1326ec",
   "metadata": {},
   "outputs": [
    {
     "data": {
      "text/html": [
       "<div>\n",
       "<style scoped>\n",
       "    .dataframe tbody tr th:only-of-type {\n",
       "        vertical-align: middle;\n",
       "    }\n",
       "\n",
       "    .dataframe tbody tr th {\n",
       "        vertical-align: top;\n",
       "    }\n",
       "\n",
       "    .dataframe thead th {\n",
       "        text-align: right;\n",
       "    }\n",
       "</style>\n",
       "<table border=\"1\" class=\"dataframe\">\n",
       "  <thead>\n",
       "    <tr style=\"text-align: right;\">\n",
       "      <th></th>\n",
       "      <th>year</th>\n",
       "      <th>score</th>\n",
       "      <th>votes</th>\n",
       "      <th>budget</th>\n",
       "      <th>gross</th>\n",
       "      <th>runtime</th>\n",
       "    </tr>\n",
       "  </thead>\n",
       "  <tbody>\n",
       "    <tr>\n",
       "      <th>count</th>\n",
       "      <td>7668.000000</td>\n",
       "      <td>7665.000000</td>\n",
       "      <td>7.665000e+03</td>\n",
       "      <td>5.497000e+03</td>\n",
       "      <td>7.479000e+03</td>\n",
       "      <td>7664.000000</td>\n",
       "    </tr>\n",
       "    <tr>\n",
       "      <th>mean</th>\n",
       "      <td>2000.405451</td>\n",
       "      <td>6.390411</td>\n",
       "      <td>8.810850e+04</td>\n",
       "      <td>3.558988e+07</td>\n",
       "      <td>7.850054e+07</td>\n",
       "      <td>107.261613</td>\n",
       "    </tr>\n",
       "    <tr>\n",
       "      <th>std</th>\n",
       "      <td>11.153508</td>\n",
       "      <td>0.968842</td>\n",
       "      <td>1.633238e+05</td>\n",
       "      <td>4.145730e+07</td>\n",
       "      <td>1.657251e+08</td>\n",
       "      <td>18.581247</td>\n",
       "    </tr>\n",
       "    <tr>\n",
       "      <th>min</th>\n",
       "      <td>1980.000000</td>\n",
       "      <td>1.900000</td>\n",
       "      <td>7.000000e+00</td>\n",
       "      <td>3.000000e+03</td>\n",
       "      <td>3.090000e+02</td>\n",
       "      <td>55.000000</td>\n",
       "    </tr>\n",
       "    <tr>\n",
       "      <th>25%</th>\n",
       "      <td>1991.000000</td>\n",
       "      <td>5.800000</td>\n",
       "      <td>9.100000e+03</td>\n",
       "      <td>1.000000e+07</td>\n",
       "      <td>4.532056e+06</td>\n",
       "      <td>95.000000</td>\n",
       "    </tr>\n",
       "    <tr>\n",
       "      <th>50%</th>\n",
       "      <td>2000.000000</td>\n",
       "      <td>6.500000</td>\n",
       "      <td>3.300000e+04</td>\n",
       "      <td>2.050000e+07</td>\n",
       "      <td>2.020576e+07</td>\n",
       "      <td>104.000000</td>\n",
       "    </tr>\n",
       "    <tr>\n",
       "      <th>75%</th>\n",
       "      <td>2010.000000</td>\n",
       "      <td>7.100000</td>\n",
       "      <td>9.300000e+04</td>\n",
       "      <td>4.500000e+07</td>\n",
       "      <td>7.601669e+07</td>\n",
       "      <td>116.000000</td>\n",
       "    </tr>\n",
       "    <tr>\n",
       "      <th>max</th>\n",
       "      <td>2020.000000</td>\n",
       "      <td>9.300000</td>\n",
       "      <td>2.400000e+06</td>\n",
       "      <td>3.560000e+08</td>\n",
       "      <td>2.847246e+09</td>\n",
       "      <td>366.000000</td>\n",
       "    </tr>\n",
       "  </tbody>\n",
       "</table>\n",
       "</div>"
      ],
      "text/plain": [
       "              year        score         votes        budget         gross  \\\n",
       "count  7668.000000  7665.000000  7.665000e+03  5.497000e+03  7.479000e+03   \n",
       "mean   2000.405451     6.390411  8.810850e+04  3.558988e+07  7.850054e+07   \n",
       "std      11.153508     0.968842  1.633238e+05  4.145730e+07  1.657251e+08   \n",
       "min    1980.000000     1.900000  7.000000e+00  3.000000e+03  3.090000e+02   \n",
       "25%    1991.000000     5.800000  9.100000e+03  1.000000e+07  4.532056e+06   \n",
       "50%    2000.000000     6.500000  3.300000e+04  2.050000e+07  2.020576e+07   \n",
       "75%    2010.000000     7.100000  9.300000e+04  4.500000e+07  7.601669e+07   \n",
       "max    2020.000000     9.300000  2.400000e+06  3.560000e+08  2.847246e+09   \n",
       "\n",
       "           runtime  \n",
       "count  7664.000000  \n",
       "mean    107.261613  \n",
       "std      18.581247  \n",
       "min      55.000000  \n",
       "25%      95.000000  \n",
       "50%     104.000000  \n",
       "75%     116.000000  \n",
       "max     366.000000  "
      ]
     },
     "execution_count": 3,
     "metadata": {},
     "output_type": "execute_result"
    }
   ],
   "source": [
    "df.describe()"
   ]
  },
  {
   "cell_type": "markdown",
   "id": "cde0797d",
   "metadata": {},
   "source": [
    "4. groupby(): This function is used for grouping rows based on some criteria and then applying a function to each group."
   ]
  },
  {
   "cell_type": "code",
   "execution_count": 4,
   "id": "f626f89c",
   "metadata": {},
   "outputs": [
    {
     "name": "stderr",
     "output_type": "stream",
     "text": [
      "C:\\Users\\HP\\AppData\\Local\\Temp\\ipykernel_18020\\4036599252.py:1: FutureWarning: The default value of numeric_only in DataFrameGroupBy.mean is deprecated. In a future version, numeric_only will default to False. Either specify numeric_only or select only columns which should be valid for the function.\n",
      "  grouped_data=df.groupby('genre').mean()\n"
     ]
    },
    {
     "data": {
      "text/html": [
       "<div>\n",
       "<style scoped>\n",
       "    .dataframe tbody tr th:only-of-type {\n",
       "        vertical-align: middle;\n",
       "    }\n",
       "\n",
       "    .dataframe tbody tr th {\n",
       "        vertical-align: top;\n",
       "    }\n",
       "\n",
       "    .dataframe thead th {\n",
       "        text-align: right;\n",
       "    }\n",
       "</style>\n",
       "<table border=\"1\" class=\"dataframe\">\n",
       "  <thead>\n",
       "    <tr style=\"text-align: right;\">\n",
       "      <th></th>\n",
       "      <th>year</th>\n",
       "      <th>score</th>\n",
       "      <th>votes</th>\n",
       "      <th>budget</th>\n",
       "      <th>gross</th>\n",
       "      <th>runtime</th>\n",
       "    </tr>\n",
       "    <tr>\n",
       "      <th>genre</th>\n",
       "      <th></th>\n",
       "      <th></th>\n",
       "      <th></th>\n",
       "      <th></th>\n",
       "      <th></th>\n",
       "      <th></th>\n",
       "    </tr>\n",
       "  </thead>\n",
       "  <tbody>\n",
       "    <tr>\n",
       "      <th>Action</th>\n",
       "      <td>2001.955425</td>\n",
       "      <td>6.202817</td>\n",
       "      <td>140575.814554</td>\n",
       "      <td>5.808460e+07</td>\n",
       "      <td>1.455086e+08</td>\n",
       "      <td>110.211268</td>\n",
       "    </tr>\n",
       "    <tr>\n",
       "      <th>Adventure</th>\n",
       "      <td>1999.548009</td>\n",
       "      <td>6.291569</td>\n",
       "      <td>101541.550351</td>\n",
       "      <td>4.570839e+07</td>\n",
       "      <td>1.093252e+08</td>\n",
       "      <td>107.978923</td>\n",
       "    </tr>\n",
       "    <tr>\n",
       "      <th>Animation</th>\n",
       "      <td>2005.109467</td>\n",
       "      <td>6.769231</td>\n",
       "      <td>127672.952663</td>\n",
       "      <td>7.578520e+07</td>\n",
       "      <td>2.392300e+08</td>\n",
       "      <td>92.204142</td>\n",
       "    </tr>\n",
       "    <tr>\n",
       "      <th>Biography</th>\n",
       "      <td>2003.860045</td>\n",
       "      <td>7.030926</td>\n",
       "      <td>90422.839729</td>\n",
       "      <td>2.531232e+07</td>\n",
       "      <td>4.787432e+07</td>\n",
       "      <td>119.880361</td>\n",
       "    </tr>\n",
       "    <tr>\n",
       "      <th>Comedy</th>\n",
       "      <td>1998.422717</td>\n",
       "      <td>6.193987</td>\n",
       "      <td>54283.183964</td>\n",
       "      <td>2.260780e+07</td>\n",
       "      <td>4.433187e+07</td>\n",
       "      <td>101.491759</td>\n",
       "    </tr>\n",
       "    <tr>\n",
       "      <th>Crime</th>\n",
       "      <td>1999.869328</td>\n",
       "      <td>6.671506</td>\n",
       "      <td>90930.219601</td>\n",
       "      <td>2.236357e+07</td>\n",
       "      <td>3.940120e+07</td>\n",
       "      <td>111.752727</td>\n",
       "    </tr>\n",
       "    <tr>\n",
       "      <th>Drama</th>\n",
       "      <td>2000.394598</td>\n",
       "      <td>6.693668</td>\n",
       "      <td>69803.542876</td>\n",
       "      <td>2.291461e+07</td>\n",
       "      <td>3.893096e+07</td>\n",
       "      <td>112.974934</td>\n",
       "    </tr>\n",
       "    <tr>\n",
       "      <th>Family</th>\n",
       "      <td>1994.454545</td>\n",
       "      <td>6.363636</td>\n",
       "      <td>68504.545455</td>\n",
       "      <td>5.112500e+07</td>\n",
       "      <td>1.961725e+08</td>\n",
       "      <td>99.909091</td>\n",
       "    </tr>\n",
       "    <tr>\n",
       "      <th>Fantasy</th>\n",
       "      <td>1996.045455</td>\n",
       "      <td>6.006818</td>\n",
       "      <td>58815.909091</td>\n",
       "      <td>1.688571e+07</td>\n",
       "      <td>3.870933e+07</td>\n",
       "      <td>99.363636</td>\n",
       "    </tr>\n",
       "    <tr>\n",
       "      <th>History</th>\n",
       "      <td>1983.000000</td>\n",
       "      <td>8.300000</td>\n",
       "      <td>79.000000</td>\n",
       "      <td>3.235620e+05</td>\n",
       "      <td>NaN</td>\n",
       "      <td>55.000000</td>\n",
       "    </tr>\n",
       "    <tr>\n",
       "      <th>Horror</th>\n",
       "      <td>2000.031056</td>\n",
       "      <td>5.750621</td>\n",
       "      <td>68084.850932</td>\n",
       "      <td>1.282516e+07</td>\n",
       "      <td>4.737241e+07</td>\n",
       "      <td>96.304348</td>\n",
       "    </tr>\n",
       "    <tr>\n",
       "      <th>Music</th>\n",
       "      <td>1981.000000</td>\n",
       "      <td>7.200000</td>\n",
       "      <td>12000.000000</td>\n",
       "      <td>NaN</td>\n",
       "      <td>1.100140e+05</td>\n",
       "      <td>117.000000</td>\n",
       "    </tr>\n",
       "    <tr>\n",
       "      <th>Musical</th>\n",
       "      <td>2019.000000</td>\n",
       "      <td>8.050000</td>\n",
       "      <td>481.000000</td>\n",
       "      <td>NaN</td>\n",
       "      <td>2.595346e+06</td>\n",
       "      <td>145.000000</td>\n",
       "    </tr>\n",
       "    <tr>\n",
       "      <th>Mystery</th>\n",
       "      <td>1999.100000</td>\n",
       "      <td>6.665000</td>\n",
       "      <td>230125.750000</td>\n",
       "      <td>3.187647e+07</td>\n",
       "      <td>1.011835e+08</td>\n",
       "      <td>115.750000</td>\n",
       "    </tr>\n",
       "    <tr>\n",
       "      <th>Romance</th>\n",
       "      <td>1996.100000</td>\n",
       "      <td>6.410000</td>\n",
       "      <td>35997.400000</td>\n",
       "      <td>2.404000e+07</td>\n",
       "      <td>2.354937e+07</td>\n",
       "      <td>106.600000</td>\n",
       "    </tr>\n",
       "    <tr>\n",
       "      <th>Sci-Fi</th>\n",
       "      <td>1994.800000</td>\n",
       "      <td>6.210000</td>\n",
       "      <td>88493.000000</td>\n",
       "      <td>1.973375e+07</td>\n",
       "      <td>3.256123e+07</td>\n",
       "      <td>100.300000</td>\n",
       "    </tr>\n",
       "    <tr>\n",
       "      <th>Sport</th>\n",
       "      <td>2019.000000</td>\n",
       "      <td>5.900000</td>\n",
       "      <td>691.000000</td>\n",
       "      <td>NaN</td>\n",
       "      <td>1.067629e+06</td>\n",
       "      <td>94.000000</td>\n",
       "    </tr>\n",
       "    <tr>\n",
       "      <th>Thriller</th>\n",
       "      <td>1993.875000</td>\n",
       "      <td>5.912500</td>\n",
       "      <td>19930.687500</td>\n",
       "      <td>1.051111e+07</td>\n",
       "      <td>2.693526e+07</td>\n",
       "      <td>98.625000</td>\n",
       "    </tr>\n",
       "    <tr>\n",
       "      <th>Western</th>\n",
       "      <td>1985.333333</td>\n",
       "      <td>5.666667</td>\n",
       "      <td>2066.333333</td>\n",
       "      <td>1.050000e+07</td>\n",
       "      <td>1.067530e+07</td>\n",
       "      <td>97.333333</td>\n",
       "    </tr>\n",
       "  </tbody>\n",
       "</table>\n",
       "</div>"
      ],
      "text/plain": [
       "                  year     score          votes        budget         gross  \\\n",
       "genre                                                                         \n",
       "Action     2001.955425  6.202817  140575.814554  5.808460e+07  1.455086e+08   \n",
       "Adventure  1999.548009  6.291569  101541.550351  4.570839e+07  1.093252e+08   \n",
       "Animation  2005.109467  6.769231  127672.952663  7.578520e+07  2.392300e+08   \n",
       "Biography  2003.860045  7.030926   90422.839729  2.531232e+07  4.787432e+07   \n",
       "Comedy     1998.422717  6.193987   54283.183964  2.260780e+07  4.433187e+07   \n",
       "Crime      1999.869328  6.671506   90930.219601  2.236357e+07  3.940120e+07   \n",
       "Drama      2000.394598  6.693668   69803.542876  2.291461e+07  3.893096e+07   \n",
       "Family     1994.454545  6.363636   68504.545455  5.112500e+07  1.961725e+08   \n",
       "Fantasy    1996.045455  6.006818   58815.909091  1.688571e+07  3.870933e+07   \n",
       "History    1983.000000  8.300000      79.000000  3.235620e+05           NaN   \n",
       "Horror     2000.031056  5.750621   68084.850932  1.282516e+07  4.737241e+07   \n",
       "Music      1981.000000  7.200000   12000.000000           NaN  1.100140e+05   \n",
       "Musical    2019.000000  8.050000     481.000000           NaN  2.595346e+06   \n",
       "Mystery    1999.100000  6.665000  230125.750000  3.187647e+07  1.011835e+08   \n",
       "Romance    1996.100000  6.410000   35997.400000  2.404000e+07  2.354937e+07   \n",
       "Sci-Fi     1994.800000  6.210000   88493.000000  1.973375e+07  3.256123e+07   \n",
       "Sport      2019.000000  5.900000     691.000000           NaN  1.067629e+06   \n",
       "Thriller   1993.875000  5.912500   19930.687500  1.051111e+07  2.693526e+07   \n",
       "Western    1985.333333  5.666667    2066.333333  1.050000e+07  1.067530e+07   \n",
       "\n",
       "              runtime  \n",
       "genre                  \n",
       "Action     110.211268  \n",
       "Adventure  107.978923  \n",
       "Animation   92.204142  \n",
       "Biography  119.880361  \n",
       "Comedy     101.491759  \n",
       "Crime      111.752727  \n",
       "Drama      112.974934  \n",
       "Family      99.909091  \n",
       "Fantasy     99.363636  \n",
       "History     55.000000  \n",
       "Horror      96.304348  \n",
       "Music      117.000000  \n",
       "Musical    145.000000  \n",
       "Mystery    115.750000  \n",
       "Romance    106.600000  \n",
       "Sci-Fi     100.300000  \n",
       "Sport       94.000000  \n",
       "Thriller    98.625000  \n",
       "Western     97.333333  "
      ]
     },
     "execution_count": 4,
     "metadata": {},
     "output_type": "execute_result"
    }
   ],
   "source": [
    "grouped_data=df.groupby('genre').mean()\n",
    "grouped_data"
   ]
  },
  {
   "cell_type": "markdown",
   "id": "06ccfd81",
   "metadata": {},
   "source": [
    "5. plot() : Pandas provides plotting functions that use Matplotlib under the hood. You can use plot() to create simple visualizations directly from a DataFrame."
   ]
  },
  {
   "cell_type": "code",
   "execution_count": 5,
   "id": "8d0601c2",
   "metadata": {},
   "outputs": [
    {
     "data": {
      "text/plain": [
       "<Axes: title={'center': 'gross analysis'}, xlabel='budget', ylabel='gross'>"
      ]
     },
     "execution_count": 5,
     "metadata": {},
     "output_type": "execute_result"
    },
    {
     "data": {
      "image/png": "[encoded data removed]",
      "text/plain": [
       "<Figure size 640x480 with 1 Axes>"
      ]
     },
     "metadata": {},
     "output_type": "display_data"
    }
   ],
   "source": [
    "df.plot(x='budget',y='gross',kind='scatter',title='gross analysis')"
   ]
  },
  {
   "cell_type": "markdown",
   "id": "ecc6e565",
   "metadata": {},
   "source": [
    "## Question 2"
   ]
  },
  {
   "cell_type": "code",
   "execution_count": 6,
   "id": "d0dc96e4",
   "metadata": {},
   "outputs": [
    {
     "name": "stdout",
     "output_type": "stream",
     "text": [
      "    A   B   C\n",
      "1  10  40  70\n",
      "3  20  50  80\n",
      "5  30  60  90\n"
     ]
    }
   ],
   "source": [
    "import pandas as pd\n",
    "def resetIndex(df):\n",
    "    new_index=pd.RangeIndex(start=1,stop=2*len(df),step=2)\n",
    "    df_reset=df.set_index(new_index)\n",
    "    return df_reset\n",
    "\n",
    "df=pd.DataFrame({\n",
    "    'A':[10,20,30],\n",
    "    'B':[40,50,60],\n",
    "    'C':[70,80,90]\n",
    "})\n",
    "\n",
    "new_df=resetIndex(df)\n",
    "print(new_df)"
   ]
  },
  {
   "cell_type": "markdown",
   "id": "61c86040",
   "metadata": {},
   "source": [
    "## Question 3"
   ]
  },
  {
   "cell_type": "code",
   "execution_count": 7,
   "id": "5c2c9fdf",
   "metadata": {},
   "outputs": [
    {
     "name": "stdout",
     "output_type": "stream",
     "text": [
      "Sum of the first three values, which is  60\n"
     ]
    }
   ],
   "source": [
    "import pandas as pd\n",
    "def sum_rowVals(df):\n",
    "    sum_val=0\n",
    "    for index,row in df.head(3).iterrows():\n",
    "        sum_val+=row['Values']\n",
    "    print('Sum of the first three values, which is ',sum_val)\n",
    "df=pd.DataFrame({'Values':[10,20,30,40,50]})\n",
    "sum_rowVals(df)"
   ]
  },
  {
   "cell_type": "markdown",
   "id": "eca9e6ec",
   "metadata": {},
   "source": [
    "## Question 4"
   ]
  },
  {
   "cell_type": "code",
   "execution_count": 8,
   "id": "fbd8e41d",
   "metadata": {},
   "outputs": [
    {
     "data": {
      "text/html": [
       "<div>\n",
       "<style scoped>\n",
       "    .dataframe tbody tr th:only-of-type {\n",
       "        vertical-align: middle;\n",
       "    }\n",
       "\n",
       "    .dataframe tbody tr th {\n",
       "        vertical-align: top;\n",
       "    }\n",
       "\n",
       "    .dataframe thead th {\n",
       "        text-align: right;\n",
       "    }\n",
       "</style>\n",
       "<table border=\"1\" class=\"dataframe\">\n",
       "  <thead>\n",
       "    <tr style=\"text-align: right;\">\n",
       "      <th></th>\n",
       "      <th>Text</th>\n",
       "      <th>Word_Count</th>\n",
       "    </tr>\n",
       "  </thead>\n",
       "  <tbody>\n",
       "    <tr>\n",
       "      <th>0</th>\n",
       "      <td>This is a sample text</td>\n",
       "      <td>5</td>\n",
       "    </tr>\n",
       "    <tr>\n",
       "      <th>1</th>\n",
       "      <td>Another text example</td>\n",
       "      <td>3</td>\n",
       "    </tr>\n",
       "    <tr>\n",
       "      <th>2</th>\n",
       "      <td>new text</td>\n",
       "      <td>2</td>\n",
       "    </tr>\n",
       "  </tbody>\n",
       "</table>\n",
       "</div>"
      ],
      "text/plain": [
       "                    Text  Word_Count\n",
       "0  This is a sample text           5\n",
       "1   Another text example           3\n",
       "2               new text           2"
      ]
     },
     "execution_count": 8,
     "metadata": {},
     "output_type": "execute_result"
    }
   ],
   "source": [
    "import pandas as pd\n",
    "def count_Words(df):\n",
    "    df['Word_Count']=df['Text'].apply(lambda x:len(str(x).split()))\n",
    "df=pd.DataFrame({'Text':['This is a sample text','Another text example','new text']})\n",
    "count_Words(df)\n",
    "df.head()"
   ]
  },
  {
   "cell_type": "markdown",
   "id": "2fbe7608",
   "metadata": {},
   "source": [
    "## Question 5"
   ]
  },
  {
   "cell_type": "markdown",
   "id": "7ecbf131",
   "metadata": {},
   "source": [
    "DataFrame.size returns the total number of elements in the DataFrame, that is the product of the number of rows and columns. It represents the total number of cells in the data."
   ]
  },
  {
   "cell_type": "code",
   "execution_count": 9,
   "id": "39ce6d6d",
   "metadata": {},
   "outputs": [
    {
     "name": "stdout",
     "output_type": "stream",
     "text": [
      "9\n"
     ]
    }
   ],
   "source": [
    "import pandas as pd\n",
    "df=pd.DataFrame({\n",
    "    'A':[10,20,30],\n",
    "    'B':[40,50,60],\n",
    "    'C':[70,80,90]\n",
    "})\n",
    "print(df.size)"
   ]
  },
  {
   "cell_type": "markdown",
   "id": "81213777",
   "metadata": {},
   "source": [
    "DataFrame.shape returns a tuple consisting of the number of rows and the columns or representing the dimensions of the DataFrame. "
   ]
  },
  {
   "cell_type": "code",
   "execution_count": 10,
   "id": "64987882",
   "metadata": {},
   "outputs": [
    {
     "name": "stdout",
     "output_type": "stream",
     "text": [
      "(3, 3)\n"
     ]
    }
   ],
   "source": [
    "import pandas as pd\n",
    "df=pd.DataFrame({\n",
    "    'A':[10,20,30],\n",
    "    'B':[40,50,60],\n",
    "    'C':[70,80,90]\n",
    "})\n",
    "print(df.shape)"
   ]
  },
  {
   "cell_type": "markdown",
   "id": "b257be0e",
   "metadata": {},
   "source": [
    "## Question 6"
   ]
  },
  {
   "cell_type": "markdown",
   "id": "90653a52",
   "metadata": {},
   "source": [
    "To read data from Excel files into a pandas DataFrame we make use of the pd.read_excel() which is a part of the Pandas liabrary in Python."
   ]
  },
  {
   "cell_type": "code",
   "execution_count": 11,
   "id": "11651eb6",
   "metadata": {},
   "outputs": [
    {
     "data": {
      "text/html": [
       "<div>\n",
       "<style scoped>\n",
       "    .dataframe tbody tr th:only-of-type {\n",
       "        vertical-align: middle;\n",
       "    }\n",
       "\n",
       "    .dataframe tbody tr th {\n",
       "        vertical-align: top;\n",
       "    }\n",
       "\n",
       "    .dataframe thead th {\n",
       "        text-align: right;\n",
       "    }\n",
       "</style>\n",
       "<table border=\"1\" class=\"dataframe\">\n",
       "  <thead>\n",
       "    <tr style=\"text-align: right;\">\n",
       "      <th></th>\n",
       "      <th>Airline</th>\n",
       "      <th>Date_of_Journey</th>\n",
       "      <th>Source</th>\n",
       "      <th>Destination</th>\n",
       "      <th>Route</th>\n",
       "      <th>Dep_Time</th>\n",
       "      <th>Arrival_Time</th>\n",
       "      <th>Duration</th>\n",
       "      <th>Total_Stops</th>\n",
       "      <th>Additional_Info</th>\n",
       "      <th>Price</th>\n",
       "    </tr>\n",
       "  </thead>\n",
       "  <tbody>\n",
       "    <tr>\n",
       "      <th>0</th>\n",
       "      <td>IndiGo</td>\n",
       "      <td>24/03/2019</td>\n",
       "      <td>Banglore</td>\n",
       "      <td>New Delhi</td>\n",
       "      <td>BLR → DEL</td>\n",
       "      <td>22:20</td>\n",
       "      <td>01:10 22 Mar</td>\n",
       "      <td>2h 50m</td>\n",
       "      <td>non-stop</td>\n",
       "      <td>No info</td>\n",
       "      <td>3897</td>\n",
       "    </tr>\n",
       "    <tr>\n",
       "      <th>1</th>\n",
       "      <td>Air India</td>\n",
       "      <td>1/05/2019</td>\n",
       "      <td>Kolkata</td>\n",
       "      <td>Banglore</td>\n",
       "      <td>CCU → IXR → BBI → BLR</td>\n",
       "      <td>05:50</td>\n",
       "      <td>13:15</td>\n",
       "      <td>7h 25m</td>\n",
       "      <td>2 stops</td>\n",
       "      <td>No info</td>\n",
       "      <td>7662</td>\n",
       "    </tr>\n",
       "    <tr>\n",
       "      <th>2</th>\n",
       "      <td>Jet Airways</td>\n",
       "      <td>9/06/2019</td>\n",
       "      <td>Delhi</td>\n",
       "      <td>Cochin</td>\n",
       "      <td>DEL → LKO → BOM → COK</td>\n",
       "      <td>09:25</td>\n",
       "      <td>04:25 10 Jun</td>\n",
       "      <td>19h</td>\n",
       "      <td>2 stops</td>\n",
       "      <td>No info</td>\n",
       "      <td>13882</td>\n",
       "    </tr>\n",
       "    <tr>\n",
       "      <th>3</th>\n",
       "      <td>IndiGo</td>\n",
       "      <td>12/05/2019</td>\n",
       "      <td>Kolkata</td>\n",
       "      <td>Banglore</td>\n",
       "      <td>CCU → NAG → BLR</td>\n",
       "      <td>18:05</td>\n",
       "      <td>23:30</td>\n",
       "      <td>5h 25m</td>\n",
       "      <td>1 stop</td>\n",
       "      <td>No info</td>\n",
       "      <td>6218</td>\n",
       "    </tr>\n",
       "    <tr>\n",
       "      <th>4</th>\n",
       "      <td>IndiGo</td>\n",
       "      <td>01/03/2019</td>\n",
       "      <td>Banglore</td>\n",
       "      <td>New Delhi</td>\n",
       "      <td>BLR → NAG → DEL</td>\n",
       "      <td>16:50</td>\n",
       "      <td>21:35</td>\n",
       "      <td>4h 45m</td>\n",
       "      <td>1 stop</td>\n",
       "      <td>No info</td>\n",
       "      <td>13302</td>\n",
       "    </tr>\n",
       "  </tbody>\n",
       "</table>\n",
       "</div>"
      ],
      "text/plain": [
       "       Airline Date_of_Journey    Source Destination                  Route  \\\n",
       "0       IndiGo      24/03/2019  Banglore   New Delhi              BLR → DEL   \n",
       "1    Air India       1/05/2019   Kolkata    Banglore  CCU → IXR → BBI → BLR   \n",
       "2  Jet Airways       9/06/2019     Delhi      Cochin  DEL → LKO → BOM → COK   \n",
       "3       IndiGo      12/05/2019   Kolkata    Banglore        CCU → NAG → BLR   \n",
       "4       IndiGo      01/03/2019  Banglore   New Delhi        BLR → NAG → DEL   \n",
       "\n",
       "  Dep_Time  Arrival_Time Duration Total_Stops Additional_Info  Price  \n",
       "0    22:20  01:10 22 Mar   2h 50m    non-stop         No info   3897  \n",
       "1    05:50         13:15   7h 25m     2 stops         No info   7662  \n",
       "2    09:25  04:25 10 Jun      19h     2 stops         No info  13882  \n",
       "3    18:05         23:30   5h 25m      1 stop         No info   6218  \n",
       "4    16:50         21:35   4h 45m      1 stop         No info  13302  "
      ]
     },
     "execution_count": 11,
     "metadata": {},
     "output_type": "execute_result"
    }
   ],
   "source": [
    "import pandas as pd\n",
    "df=pd.read_excel('flight_price.xlsx')\n",
    "df.head()"
   ]
  },
  {
   "cell_type": "markdown",
   "id": "d74f5130",
   "metadata": {},
   "source": [
    "## Question 7"
   ]
  },
  {
   "cell_type": "code",
   "execution_count": 12,
   "id": "459609d8",
   "metadata": {},
   "outputs": [
    {
     "data": {
      "text/html": [
       "<div>\n",
       "<style scoped>\n",
       "    .dataframe tbody tr th:only-of-type {\n",
       "        vertical-align: middle;\n",
       "    }\n",
       "\n",
       "    .dataframe tbody tr th {\n",
       "        vertical-align: top;\n",
       "    }\n",
       "\n",
       "    .dataframe thead th {\n",
       "        text-align: right;\n",
       "    }\n",
       "</style>\n",
       "<table border=\"1\" class=\"dataframe\">\n",
       "  <thead>\n",
       "    <tr style=\"text-align: right;\">\n",
       "      <th></th>\n",
       "      <th>Email</th>\n",
       "      <th>Username</th>\n",
       "    </tr>\n",
       "  </thead>\n",
       "  <tbody>\n",
       "    <tr>\n",
       "      <th>0</th>\n",
       "      <td>tripathidevansh7@gmail.com</td>\n",
       "      <td>tripathidevansh7</td>\n",
       "    </tr>\n",
       "    <tr>\n",
       "      <th>1</th>\n",
       "      <td>john.doe@gmail.com</td>\n",
       "      <td>john.doe</td>\n",
       "    </tr>\n",
       "  </tbody>\n",
       "</table>\n",
       "</div>"
      ],
      "text/plain": [
       "                        Email          Username\n",
       "0  tripathidevansh7@gmail.com  tripathidevansh7\n",
       "1          john.doe@gmail.com          john.doe"
      ]
     },
     "execution_count": 12,
     "metadata": {},
     "output_type": "execute_result"
    }
   ],
   "source": [
    "import pandas as pd\n",
    "def Username_extraction(df):\n",
    "    df['Username']=df['Email'].apply(lambda x: str(x.split('@')[0]))\n",
    "df=pd.DataFrame({'Email':['tripathidevansh7@gmail.com','john.doe@gmail.com']})\n",
    "Username_extraction(df)\n",
    "df.head()"
   ]
  },
  {
   "cell_type": "markdown",
   "id": "5415fa3c",
   "metadata": {},
   "source": [
    "## Question 8"
   ]
  },
  {
   "cell_type": "code",
   "execution_count": 13,
   "id": "02dcfd08",
   "metadata": {},
   "outputs": [
    {
     "name": "stdout",
     "output_type": "stream",
     "text": [
      "   A  B  C\n",
      "1  8  2  7\n",
      "2  6  9  4\n",
      "4  9  1  2\n"
     ]
    }
   ],
   "source": [
    "import pandas as pd\n",
    "def Selected_rows(df):\n",
    "    selection=df[(df['A']>5) & (df['B']<10)]\n",
    "    return selection\n",
    "\n",
    "df=pd.DataFrame({'A':[3,8,6,2,9],\n",
    "                'B':[5,2,9,3,1],\n",
    "                 'C':[1,7,4,5,2]\n",
    "                })\n",
    "selected=Selected_rows(df)\n",
    "print(selected)\n",
    "    "
   ]
  },
  {
   "cell_type": "markdown",
   "id": "8b4345b6",
   "metadata": {},
   "source": [
    "## Question 9"
   ]
  },
  {
   "cell_type": "code",
   "execution_count": 14,
   "id": "090a5604",
   "metadata": {},
   "outputs": [
    {
     "name": "stdout",
     "output_type": "stream",
     "text": [
      "Mean of the Values 30.0\n",
      "Median of the Values 30.0\n",
      "standard deviation of the Values 15.811388300841896\n"
     ]
    }
   ],
   "source": [
    "import pandas as pd\n",
    "\n",
    "def Statistical_vals(df):\n",
    "    mean=df['Values'].mean()\n",
    "    median=df['Values'].median()\n",
    "    std=df['Values'].std()\n",
    "    return mean,median,std\n",
    "df=pd.DataFrame({'Values':[10,20,30,40,50]})\n",
    "mean,median,std=Statistical_vals(df)\n",
    "print('Mean of the Values',mean)\n",
    "print('Median of the Values',median)\n",
    "print('standard deviation of the Values',std)"
   ]
  },
  {
   "cell_type": "markdown",
   "id": "fff8e44d",
   "metadata": {},
   "source": [
    "## Question 10"
   ]
  },
  {
   "cell_type": "code",
   "execution_count": 24,
   "id": "3136f2a0",
   "metadata": {},
   "outputs": [
    {
     "name": "stdout",
     "output_type": "stream",
     "text": [
      "         Date  Sales  MovingAverage\n",
      "0  2023-01-01     10           10.0\n",
      "1  2023-01-02     15           12.5\n",
      "2  2023-01-03     20           15.0\n",
      "3  2023-01-04     25           17.5\n",
      "4  2023-01-05     30           20.0\n",
      "5  2023-01-06     35           22.5\n",
      "6  2023-01-07     40           25.0\n",
      "7  2023-01-08     45           30.0\n",
      "8  2023-01-09     50           35.0\n",
      "9  2023-01-10     55           40.0\n",
      "10 2023-01-11     60           45.0\n",
      "11 2023-01-12     65           50.0\n",
      "12 2023-01-13     70           55.0\n",
      "13 2023-01-14     75           60.0\n",
      "14 2023-01-15     80           65.0\n",
      "15 2023-01-16     85           70.0\n",
      "16 2023-01-17     90           75.0\n",
      "17 2023-01-18     95           80.0\n",
      "18 2023-01-19    100           85.0\n",
      "19 2023-01-20    105           90.0\n"
     ]
    }
   ],
   "source": [
    "import pandas as pd\n",
    "def Moving_avgCalc(df):\n",
    "    df['MovingAverage']=df['Sales'].rolling(window=7,min_periods=1).mean()\n",
    "    \n",
    "df=pd.DataFrame({\n",
    "    'Date':pd.date_range(start='2023-01-01',periods=20),\n",
    "    'Sales':[10,15,20,25,30,35,40,45,50,55,60,65,70,75,80,85,90,95,100,105]\n",
    "})\n",
    "Moving_avgCalc(df)\n",
    "print(df)"
   ]
  },
  {
   "cell_type": "markdown",
   "id": "e5144aa7",
   "metadata": {},
   "source": [
    "## Question 11"
   ]
  },
  {
   "cell_type": "code",
   "execution_count": 25,
   "id": "64316e9c",
   "metadata": {},
   "outputs": [
    {
     "name": "stdout",
     "output_type": "stream",
     "text": [
      "        Date    Weekday\n",
      "0 2023-01-01     Sunday\n",
      "1 2023-01-02     Monday\n",
      "2 2023-01-03    Tuesday\n",
      "3 2023-01-04  Wednesday\n",
      "4 2023-01-05   Thursday\n",
      "5 2023-01-06     Friday\n",
      "6 2023-01-07   Saturday\n"
     ]
    }
   ],
   "source": [
    "import pandas as pd\n",
    "\n",
    "def WeekDay_col(df):\n",
    "    df['Weekday']=df['Date'].dt.day_name()\n",
    "    \n",
    "df=pd.DataFrame({\n",
    "    'Date':pd.date_range(start='2023-01-01',periods=7)\n",
    "})\n",
    "\n",
    "WeekDay_col(df)\n",
    "print(df)"
   ]
  },
  {
   "cell_type": "markdown",
   "id": "037563d0",
   "metadata": {},
   "source": [
    "## Question 12"
   ]
  },
  {
   "cell_type": "code",
   "execution_count": 26,
   "id": "fca9d8b7",
   "metadata": {},
   "outputs": [
    {
     "name": "stdout",
     "output_type": "stream",
     "text": [
      "         Date\n",
      "0  2023-01-01\n",
      "1  2023-01-02\n",
      "2  2023-01-03\n",
      "3  2023-01-04\n",
      "4  2023-01-05\n",
      "5  2023-01-06\n",
      "6  2023-01-07\n",
      "7  2023-01-08\n",
      "8  2023-01-09\n",
      "9  2023-01-10\n",
      "10 2023-01-11\n",
      "11 2023-01-12\n",
      "12 2023-01-13\n",
      "13 2023-01-14\n",
      "14 2023-01-15\n",
      "15 2023-01-16\n",
      "16 2023-01-17\n",
      "17 2023-01-18\n",
      "18 2023-01-19\n",
      "19 2023-01-20\n",
      "20 2023-01-21\n",
      "21 2023-01-22\n",
      "22 2023-01-23\n",
      "23 2023-01-24\n",
      "24 2023-01-25\n",
      "25 2023-01-26\n",
      "26 2023-01-27\n",
      "27 2023-01-28\n",
      "28 2023-01-29\n",
      "29 2023-01-30\n",
      "30 2023-01-31\n"
     ]
    }
   ],
   "source": [
    "import pandas as pd\n",
    "df = pd.DataFrame({\n",
    "    'Date': pd.date_range(start='2023-01-01', periods=50)\n",
    "})\n",
    "\n",
    "def selected_timestamps(df):\n",
    "    start_date=pd.to_datetime('2023-01-01')\n",
    "    end_date=pd.to_datetime('2023-01-31')\n",
    "    \n",
    "    selected=df[(df['Date']>=start_date)&(df['Date']<=end_date)]\n",
    "    return selected\n",
    "new_df=selected_timestamps(df)\n",
    "print(new_df)"
   ]
  },
  {
   "cell_type": "markdown",
   "id": "83c65a95",
   "metadata": {},
   "source": [
    "## Question 13"
   ]
  },
  {
   "cell_type": "markdown",
   "id": "a446bb3f",
   "metadata": {},
   "source": [
    "The first and foremost library to be imported to use the basic functions of Pandas is the Pandas library itself. We can import the Pandas library by using the statement 'import pandas as pd' where pd is an alias for using pandas. This import statement makes all the functions and classes provided by Pandas available under the pd namespace. Once imported, you can use Pandas functions to create and manipulate DataFrames, read and write data, perform data analysis, and more."
   ]
  },
  {
   "cell_type": "code",
   "execution_count": null,
   "id": "481ab23c",
   "metadata": {},
   "outputs": [],
   "source": []
  }
 ],
 "metadata": {
  "kernelspec": {
   "display_name": "Python 3 (ipykernel)",
   "language": "python",
   "name": "python3"
  },
  "language_info": {
   "codemirror_mode": {
    "name": "ipython",
    "version": 3
   },
   "file_extension": ".py",
   "mimetype": "text/x-python",
   "name": "python",
   "nbconvert_exporter": "python",
   "pygments_lexer": "ipython3",
   "version": "3.11.4"
  }
 },
 "nbformat": 4,
 "nbformat_minor": 5
}
