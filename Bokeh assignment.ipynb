{
 "cells": [
  {
   "cell_type": "markdown",
   "id": "de753d6a",
   "metadata": {},
   "source": [
    "## Question 1"
   ]
  },
  {
   "cell_type": "markdown",
   "id": "1f664f15",
   "metadata": {},
   "source": [
    "Creating a Bokeh plot involves using the Bokeh library in Python. Bokeh is a versatile and interactive data visualization library that can generate interactive plots for web applications or standalone HTML documents."
   ]
  },
  {
   "cell_type": "code",
   "execution_count": 1,
   "id": "8f94f1e0",
   "metadata": {},
   "outputs": [],
   "source": [
    "from bokeh.plotting import figure,show\n",
    "from bokeh.io import output_file\n",
    "\n",
    "x_values=[1,2,3,4,5]\n",
    "y_values=[2,4,5,8,10]\n",
    "plot=figure(title=\"bokeh line plot\")\n",
    "plot.line(x_values,y_values,line_width=2,line_color='blue')\n",
    "output_file(\"bokeh_plot.html\")\n",
    "show(plot)"
   ]
  },
  {
   "cell_type": "markdown",
   "id": "aa2888bd",
   "metadata": {},
   "source": [
    "## Question 2"
   ]
  },
  {
   "cell_type": "markdown",
   "id": "13de061f",
   "metadata": {},
   "source": [
    "In Bokeh, glyphs are the visual markers or shapes that represent data on a plot. Glyphs can include points, lines, patches, rectangles, circles, and more. They define how the data is rendered visually in the plot. To add glyphs to a Bokeh plot, you use the corresponding glyph functions provided by Bokeh, such as circle(), line(), square(), etc."
   ]
  },
  {
   "cell_type": "code",
   "execution_count": 2,
   "id": "099ad49e",
   "metadata": {},
   "outputs": [],
   "source": [
    "from bokeh.plotting import figure,show\n",
    "from bokeh.io import output_file\n",
    "x_values = [1, 2, 3, 4, 5]\n",
    "y_values = [2, 4, 5, 8, 10]\n",
    "plot=figure(title=\"Bokeh plot with glyphs\")\n",
    "plot.circle(x_values,y_values,size=10,color='blue')\n",
    "plot.line(x_values,y_values,line_color=\"green\")\n",
    "plot.square(x_values,y_values,size=8,color='red')\n",
    "output_file(\"bokey_glyphs.html\")\n",
    "show(plot)"
   ]
  },
  {
   "cell_type": "markdown",
   "id": "45365b05",
   "metadata": {},
   "source": [
    "## Question 3"
   ]
  },
  {
   "cell_type": "markdown",
   "id": "3f4934bf",
   "metadata": {},
   "source": [
    "In Bokeh, you can customize the appearance of a plot by adjusting various attributes of its components, including axes, title, and legend. \n",
    "\n",
    "\n",
    "Customizing Axes:\n",
    "\n",
    "You can customize the appearance of the axes by modifying properties such as labels, ticks, and grid lines.\n",
    "\n",
    "Customizing Title:\n",
    "\n",
    "You can customize the title of the plot by modifying the title attribute.\n",
    "\n",
    "\n",
    "Customizing Legend:\n",
    "\n",
    "You can customize the legend by modifying attributes such as location, background color, and text color."
   ]
  },
  {
   "cell_type": "markdown",
   "id": "ea350f84",
   "metadata": {},
   "source": [
    "## Question 4"
   ]
  },
  {
   "cell_type": "markdown",
   "id": "d6341582",
   "metadata": {},
   "source": [
    "A Bokeh server is a Python script that allows you to create interactive web applications with dynamic and real-time updating plots. Unlike static HTML plots, which are generated once and then displayed, Bokeh server applications run on a server and can dynamically update and respond to user interactions or external events. This enables the creation of interactive data dashboards, streaming applications, and more.\n",
    "\n",
    "Create a Python script that defines your Bokeh application. This script typically includes the creation of Bokeh plots and the logic for handling user interactions or data updates.\n",
    "Open a terminal and navigate to the directory containing your Bokeh server script. \n",
    "Open a web browser and navigate to the address provided by the Bokeh server. You should see your interactive plot. Depending on your application logic, users can interact with the plot by clicking, hovering, or using other widgets. The Bokeh server will handle these interactions and update the plot dynamically."
   ]
  },
  {
   "cell_type": "markdown",
   "id": "7d37fb55",
   "metadata": {},
   "source": [
    "## Question 5"
   ]
  },
  {
   "cell_type": "markdown",
   "id": "3d2a671f",
   "metadata": {},
   "source": [
    "###### Flask\n",
    "Create an HTML template index.html in the templates folder. This template includes placeholders {{ script | safe }} and {{ div | safe }} for the Bokeh script and plot components. Create a Flask app script (app.py) that defines a Flask app and a route (/) that renders the HTML template. In the route, create a Bokeh plot, embed it using components, and pass the script and div components to the template. Run the Flask app using python app.py.\n",
    "\n",
    "###### Django\n",
    "Create a Django project and app using django-admin startproject and python manage.py startapp. Modify the views.py file in the app folder (your_app) to include a view function (index) that creates a Bokeh plot and embeds it using components. Inside the app folder (your_app), create a templates folder. Create an HTML template (index.html) inside the templates folder, similar to the Flask example. Configure the urls.py file in the app folder to include a URL pattern for the index view. Modify the urls.py file in the project folder (your_project) to include the URLs from the app. Run the Django development server using python manage.py runserver."
   ]
  },
  {
   "cell_type": "code",
   "execution_count": null,
   "id": "7b79b81f",
   "metadata": {},
   "outputs": [],
   "source": []
  }
 ],
 "metadata": {
  "kernelspec": {
   "display_name": "Python 3 (ipykernel)",
   "language": "python",
   "name": "python3"
  },
  "language_info": {
   "codemirror_mode": {
    "name": "ipython",
    "version": 3
   },
   "file_extension": ".py",
   "mimetype": "text/x-python",
   "name": "python",
   "nbconvert_exporter": "python",
   "pygments_lexer": "ipython3",
   "version": "3.11.4"
  }
 },
 "nbformat": 4,
 "nbformat_minor": 5
}
