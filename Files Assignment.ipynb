{
 "cells": [
  {
   "cell_type": "markdown",
   "id": "afd74f89",
   "metadata": {},
   "source": [
    "## Question 1"
   ]
  },
  {
   "cell_type": "markdown",
   "id": "3d34ac19",
   "metadata": {},
   "source": [
    "The open() function in python is used for opening files and return it as a file object. There are various modes of opening a file in python which include:\n",
    "  1. 'r' : Read:(default value) This mode is used for reading the contents of a file. Returns error if the file does not exist.\n",
    "  2. 'a' : Append: This mode is used to open a file forappending contents inside the file or it creates a new file if it does not exist.\n",
    "  3. 'w' : Write: This mode is used for opening a file folr writing purpose and it creates a file if it does not exist.\n",
    "  4. 'x' : exclusive create: creates a specified file and return an error if the file exists.\n",
    "  5. 't' : it is used  for opening a file in text mode (this is the default mode).\n",
    "  6. 'b' : it is used foropening a file in binary mode.\n",
    "  7. '+' : opens a file for updating (reading and writing)\n",
    "  "
   ]
  },
  {
   "cell_type": "markdown",
   "id": "fe78e0f6",
   "metadata": {},
   "source": [
    "## Question 2"
   ]
  },
  {
   "cell_type": "markdown",
   "id": "2d1b4d22",
   "metadata": {},
   "source": [
    "The clos() in python is used to close an already opened file. The file that is created or is open for performing some operations must always be closed so that the changes that has been to the files can be reflected which wont be done until the file is closed."
   ]
  },
  {
   "cell_type": "markdown",
   "id": "fe36e47b",
   "metadata": {},
   "source": [
    "## Question 3"
   ]
  },
  {
   "cell_type": "code",
   "execution_count": 1,
   "id": "3f29e5ce",
   "metadata": {},
   "outputs": [],
   "source": [
    "file=open(\"testfile.txt\",\"w\")\n",
    "file.write(\"I want to become a Data Scientist\")\n",
    "file.close()\n"
   ]
  },
  {
   "cell_type": "markdown",
   "id": "21139b20",
   "metadata": {},
   "source": [
    "## Question 4"
   ]
  },
  {
   "cell_type": "markdown",
   "id": "95909d55",
   "metadata": {},
   "source": [
    "The read() in python is used for reading the entire content of the file and return it as a string\n"
   ]
  },
  {
   "cell_type": "code",
   "execution_count": 2,
   "id": "74f89bb5",
   "metadata": {},
   "outputs": [
    {
     "name": "stdout",
     "output_type": "stream",
     "text": [
      "I want to become a Data Scientist\n"
     ]
    }
   ],
   "source": [
    "with open(\"testfile.txt\",'r') as file:\n",
    "    content=file.read()\n",
    "    print(content)"
   ]
  },
  {
   "cell_type": "markdown",
   "id": "64a246dc",
   "metadata": {},
   "source": [
    "The readLine() function is used to read a single line in the file and return it as a string. It is useful for reading a file line by line thus makes the processing of large files that do not fit in the memory."
   ]
  },
  {
   "cell_type": "code",
   "execution_count": 3,
   "id": "638c9ee0",
   "metadata": {},
   "outputs": [],
   "source": [
    "file=open('testfile2.txt','w')\n",
    "file.write('I am a student of PW Skills\\n I want to become a data scientist ')\n",
    "file.close()"
   ]
  },
  {
   "cell_type": "code",
   "execution_count": 4,
   "id": "06827d6e",
   "metadata": {},
   "outputs": [
    {
     "name": "stdout",
     "output_type": "stream",
     "text": [
      "I am a student of PW Skills\n",
      "\n"
     ]
    }
   ],
   "source": [
    "with open('testfile2.txt','r') as file:\n",
    "    line=file.readline()\n",
    "    print(line)"
   ]
  },
  {
   "cell_type": "markdown",
   "id": "0d88984d",
   "metadata": {},
   "source": [
    "The readLines() function in python is used to read the entire content of the file and returns the strings as a list of strings, where each element of the list is a string or line."
   ]
  },
  {
   "cell_type": "code",
   "execution_count": 5,
   "id": "d9bfcf4c",
   "metadata": {},
   "outputs": [
    {
     "name": "stdout",
     "output_type": "stream",
     "text": [
      "['I am a student of PW Skills\\n', ' I want to become a data scientist ']\n"
     ]
    }
   ],
   "source": [
    "with open('testfile2.txt','r') as file:\n",
    "    lines=file.readlines()\n",
    "    print(lines)"
   ]
  },
  {
   "cell_type": "markdown",
   "id": "5b5948af",
   "metadata": {},
   "source": [
    "## Question 5"
   ]
  },
  {
   "cell_type": "markdown",
   "id": "19ad10cc",
   "metadata": {},
   "source": [
    "The with statement is used aloong with open for the purpose of opening a file. If we use open() function alon ethen it is necessary for us to close the file that is opened by using the close() function, but when the open() is used along with the 'with' statement then there is no need for us to provide the close() function as it automaticaaly closes the file for us and reflects the changes made in the file and it uses 2 inbuilt functions _ _enter()_ _ and _ _exit()_ _."
   ]
  },
  {
   "cell_type": "markdown",
   "id": "e639423e",
   "metadata": {},
   "source": [
    "## Question 6"
   ]
  },
  {
   "cell_type": "markdown",
   "id": "0485f13b",
   "metadata": {},
   "source": [
    "The write() function in python accepts a string as an argument and writes this string to the text file. Whereas, the writelines() method accepts an iterable which can be a string or a list of strings as an argument and writes these strings to the text file."
   ]
  },
  {
   "cell_type": "code",
   "execution_count": 6,
   "id": "e09d2517",
   "metadata": {},
   "outputs": [],
   "source": [
    "first_string = \"Hello\"\n",
    "second_string = \"World!\"\n",
    "third_string = \"I am \"\n",
    "fourth_string = \"learning\"\n",
    "fifth_string = \"Python\"\n",
    "\n",
    "full_string = [first_string, second_string, third_string, fourth_string, fifth_string]\n",
    "\n",
    "new_file = open(\"demowrite.txt\", 'w')\n",
    "new_file.writelines(full_string)\n",
    "new_file.close()"
   ]
  },
  {
   "cell_type": "code",
   "execution_count": 7,
   "id": "1c017bb0",
   "metadata": {},
   "outputs": [],
   "source": [
    "first_string = \"Hello\"\n",
    "second_string = \"World!\"\n",
    "third_string = \"I am \"\n",
    "fourth_string = \"learning\"\n",
    "fifth_string = \"Python\"\n",
    "\n",
    "full_string = [first_string, second_string, third_string, fourth_string, fifth_string]\n",
    "\n",
    "new_file = open(\"demowrite.txt\", 'w')\n",
    "new_file.write(third_string)\n",
    "new_file.close()"
   ]
  },
  {
   "cell_type": "code",
   "execution_count": null,
   "id": "5b3ac758",
   "metadata": {},
   "outputs": [],
   "source": []
  }
 ],
 "metadata": {
  "kernelspec": {
   "display_name": "Python 3 (ipykernel)",
   "language": "python",
   "name": "python3"
  },
  "language_info": {
   "codemirror_mode": {
    "name": "ipython",
    "version": 3
   },
   "file_extension": ".py",
   "mimetype": "text/x-python",
   "name": "python",
   "nbconvert_exporter": "python",
   "pygments_lexer": "ipython3",
   "version": "3.9.7"
  }
 },
 "nbformat": 4,
 "nbformat_minor": 5
}
