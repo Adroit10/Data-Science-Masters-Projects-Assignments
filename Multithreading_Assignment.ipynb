{
 "cells": [
  {
   "cell_type": "markdown",
   "id": "42d62fb4",
   "metadata": {},
   "source": [
    "## Question 1\n",
    "Multithreading is a process of running multiple threads simultaneously within a single process to improve the performance of a program by using multiple CPU cores. Threads can be used to simplify the structure of a complex process and helps run the process concurrently.\n",
    "\n",
    "The threading module is used to handle threads in Python."
   ]
  },
  {
   "cell_type": "markdown",
   "id": "46962bf4",
   "metadata": {},
   "source": [
    "## Question 2\n",
    "The threading module provides more powerful and high level support for threads unlike the thread module and gives some extra functionality.\n",
    "\n",
    "activeCount()-- it returns the number of active thread objects\n",
    "\n",
    "currentThread()--it is used to return the current thread object which corresponds to the caller's thread of control\n",
    "\n",
    "enumerate()-- the function returns a list of all the threads that are currently active "
   ]
  },
  {
   "cell_type": "markdown",
   "id": "bde4f790",
   "metadata": {},
   "source": [
    "## Question 3\n",
    "\n",
    "run()-- the run method is the entry point of the tread.\n",
    "\n",
    "start()-- this method is used to start a thread by calling the run method.\n",
    "\n",
    "join()-- it waits for the thread to terminate.\n",
    "\n",
    "isAlive()-- this method checks if the thread is still executing."
   ]
  },
  {
   "cell_type": "markdown",
   "id": "35a4cdba",
   "metadata": {},
   "source": [
    "## Question 4"
   ]
  },
  {
   "cell_type": "code",
   "execution_count": 5,
   "id": "d375df25",
   "metadata": {},
   "outputs": [],
   "source": [
    "import threading\n",
    "def square(x):\n",
    "    print(\"square of %d is %d\"%(x,x**2))\n",
    "def cube(x):\n",
    "    print(\"cube of %d is %d\"%(x,x**3))"
   ]
  },
  {
   "cell_type": "code",
   "execution_count": 7,
   "id": "dc7fe716",
   "metadata": {},
   "outputs": [],
   "source": [
    "thread1=[threading.Thread(target=square,args=(i,)) for i in range(10)]\n",
    "thread2=[threading.Thread(target=cube,args=(i,)) for i in range(10)]"
   ]
  },
  {
   "cell_type": "code",
   "execution_count": 8,
   "id": "2c7091da",
   "metadata": {},
   "outputs": [
    {
     "name": "stdout",
     "output_type": "stream",
     "text": [
      "square of 0 is 0\n",
      "square of 1 is 1\n",
      "square of 2 is 4\n",
      "square of 3 is 9\n",
      "square of 4 is 16\n",
      "square of 5 is 25\n",
      "square of 6 is 36\n",
      "square of 7 is 49\n",
      "square of 8 is 64\n",
      "square of 9 is 81\n"
     ]
    }
   ],
   "source": [
    "for t1 in thread1:\n",
    "    t1.start()"
   ]
  },
  {
   "cell_type": "code",
   "execution_count": 9,
   "id": "729f3e2b",
   "metadata": {},
   "outputs": [
    {
     "name": "stdout",
     "output_type": "stream",
     "text": [
      "cube of 0 is 0\n",
      "cube of 1 is 1\n",
      "cube of 2 is 8\n",
      "cube of 3 is 27\n",
      "cube of 4 is 64\n",
      "cube of 5 is 125\n",
      "cube of 6 is 216\n",
      "cube of 7 is 343\n",
      "cube of 8 is 512\n",
      "cube of 9 is 729\n"
     ]
    }
   ],
   "source": [
    "for t2 in thread2:\n",
    "    t2.start()"
   ]
  },
  {
   "cell_type": "markdown",
   "id": "99199af5",
   "metadata": {},
   "source": [
    "## Question 5\n",
    "\n",
    "### Advantages\n",
    "1. Improved performance and concurrancy\n",
    "2. Simplified coding of remote procedure calls\n",
    "3. simultaneous access to multipke applications\n",
    "4. reduced number of required servers\n",
    "\n",
    "### Disadvantages\n",
    "1. difficulty of debugging\n",
    "2. difficulty of managing concurrency\n",
    "3. difficulty of porting existing code"
   ]
  },
  {
   "cell_type": "markdown",
   "id": "529d9289",
   "metadata": {},
   "source": [
    "## Question 6\n",
    "\n",
    "\n",
    "Deadlock-- Deadlock is a condition in multithreading when two threads are blocked or hung forever because they are waiting for each other. A process with two or more threads can deadlock under the following conditions:\n",
    "\n",
    "1. Threads that are already holding locks request new locks.\n",
    "\n",
    "2. The requests for new locks are made concurrently.\n",
    "\n",
    "3. Two or more threads form a circular chain in which each thread waits for a lock which is held by the next thread in the chain.\n",
    "\n",
    "\n",
    "race-- a race condition occurs when two threads try to access the same shared variable. The first thread reads the value of the shared variable then the second thread reads he value of the same shared variable and then they both try to change the value of the shared variable and race to see which thread writes the value to the variable last. The last value stored overwrites the value stored by the previous thread."
   ]
  },
  {
   "cell_type": "code",
   "execution_count": null,
   "id": "4855940d",
   "metadata": {},
   "outputs": [],
   "source": []
  }
 ],
 "metadata": {
  "kernelspec": {
   "display_name": "Python 3 (ipykernel)",
   "language": "python",
   "name": "python3"
  },
  "language_info": {
   "codemirror_mode": {
    "name": "ipython",
    "version": 3
   },
   "file_extension": ".py",
   "mimetype": "text/x-python",
   "name": "python",
   "nbconvert_exporter": "python",
   "pygments_lexer": "ipython3",
   "version": "3.9.7"
  }
 },
 "nbformat": 4,
 "nbformat_minor": 5
}
