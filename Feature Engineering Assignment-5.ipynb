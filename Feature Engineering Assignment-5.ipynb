{
 "cells": [
  {
   "cell_type": "markdown",
   "id": "8ad71230",
   "metadata": {},
   "source": [
    "## Question 1"
   ]
  },
  {
   "cell_type": "markdown",
   "id": "909777d4",
   "metadata": {},
   "source": [
    "Ordinal encoding and label encoding are related concepts, but they have distinct characteristics and applications. \n",
    "\n",
    "Ordinal Encoding:\n",
    "\n",
    "Ordinal encoding is used for categorical variables with a meaningful order or hierarchy among the categories. It assigns numerical labels to categories in a way that reflects their ordinal relationship.\n",
    "Consider an \"Education Level\" variable with categories High School, Bachelor's, Master's, and Ph.D. Ordinal encoding might assign labels like 1, 2, 3, and 4, respectively, reflecting the increasing level of education.\n",
    "\n",
    "Label Encoding:\n",
    "\n",
    "Label encoding is a more general term and can be applied to both nominal and ordinal categorical variables. It involves assigning a unique numerical label to each category, regardless of any inherent order. Can be applied to both ordinal and nominal categorical variables. It's a more general technique but might not be suitable when there's a meaningful order among categories.\n",
    "\n",
    "For example if the task is predicting job satisfaction based on education level, and you don't assume a specific order, you might choose label encoding"
   ]
  },
  {
   "cell_type": "markdown",
   "id": "bbd2bd20",
   "metadata": {},
   "source": [
    "## Question 2"
   ]
  },
  {
   "cell_type": "markdown",
   "id": "458a85d3",
   "metadata": {},
   "source": [
    "Target Guided Ordinal Encoding is a technique used for encoding categorical variables based on the relationship between the categories and the target variable in a supervised learning setting. The goal is to capture the ordinal relationship between the categories of a feature and the target variable, making it particularly useful when the target variable is ordinal in nature.\n",
    "\n",
    "For example predicting customer satisfaction levels Low, Medium, High based on various features. The target guided ordinal encoding captures the ordinal relationship between the satisfaction levels and the features, which might help the model understand the impact of each feature on customer satisfaction."
   ]
  },
  {
   "cell_type": "markdown",
   "id": "51ff4081",
   "metadata": {},
   "source": [
    "## Question 3"
   ]
  },
  {
   "cell_type": "markdown",
   "id": "06c8c126",
   "metadata": {},
   "source": [
    "Covariance is a statistical measure that describes the extent to which two variables change together. In other words, it quantifies the degree to which two variables tend to move in relation to each other. Covariance can be positive, indicating that as one variable increases, the other variable also tends to increase, or negative, indicating an inverse relationship. A covariance value of zero suggests no linear relationship between the variables.\n",
    "\n",
    "Covariance provides information about the direction of the relationship between two variables. A positive covariance indicates a positive relationship, while a negative covariance indicates a negative relationship. The magnitude (absolute value) of covariance indicates the strength of the relationship between variables. Larger absolute covariance values suggest a stronger linear relationship.\n",
    "\n",
    "Let's assume we have two features X and Y then ,\n",
    "\n",
    "Cov(X,Y) = ∑ (Xi-X(mean))(Yi-Y(mean))/(n-1)\n",
    "\n",
    "Where Xi and Yi are individual points and n is the number of data points.\n"
   ]
  },
  {
   "cell_type": "markdown",
   "id": "17e3ad20",
   "metadata": {},
   "source": [
    "## Question 4"
   ]
  },
  {
   "cell_type": "code",
   "execution_count": 1,
   "id": "555afdf1",
   "metadata": {},
   "outputs": [
    {
     "name": "stdout",
     "output_type": "stream",
     "text": [
      "Encoded DataFrame\n",
      "\n"
     ]
    },
    {
     "data": {
      "text/html": [
       "<div>\n",
       "<style scoped>\n",
       "    .dataframe tbody tr th:only-of-type {\n",
       "        vertical-align: middle;\n",
       "    }\n",
       "\n",
       "    .dataframe tbody tr th {\n",
       "        vertical-align: top;\n",
       "    }\n",
       "\n",
       "    .dataframe thead th {\n",
       "        text-align: right;\n",
       "    }\n",
       "</style>\n",
       "<table border=\"1\" class=\"dataframe\">\n",
       "  <thead>\n",
       "    <tr style=\"text-align: right;\">\n",
       "      <th></th>\n",
       "      <th>Color</th>\n",
       "      <th>Size</th>\n",
       "      <th>Material</th>\n",
       "      <th>Color_encoded</th>\n",
       "      <th>Size_encoded</th>\n",
       "      <th>Material_encoded</th>\n",
       "    </tr>\n",
       "  </thead>\n",
       "  <tbody>\n",
       "    <tr>\n",
       "      <th>0</th>\n",
       "      <td>red</td>\n",
       "      <td>small</td>\n",
       "      <td>wood</td>\n",
       "      <td>2</td>\n",
       "      <td>2</td>\n",
       "      <td>2</td>\n",
       "    </tr>\n",
       "    <tr>\n",
       "      <th>1</th>\n",
       "      <td>green</td>\n",
       "      <td>medium</td>\n",
       "      <td>metal</td>\n",
       "      <td>1</td>\n",
       "      <td>1</td>\n",
       "      <td>0</td>\n",
       "    </tr>\n",
       "    <tr>\n",
       "      <th>2</th>\n",
       "      <td>blue</td>\n",
       "      <td>large</td>\n",
       "      <td>plastic</td>\n",
       "      <td>0</td>\n",
       "      <td>0</td>\n",
       "      <td>1</td>\n",
       "    </tr>\n",
       "  </tbody>\n",
       "</table>\n",
       "</div>"
      ],
      "text/plain": [
       "   Color    Size Material  Color_encoded  Size_encoded  Material_encoded\n",
       "0    red   small     wood              2             2                 2\n",
       "1  green  medium    metal              1             1                 0\n",
       "2   blue   large  plastic              0             0                 1"
      ]
     },
     "execution_count": 1,
     "metadata": {},
     "output_type": "execute_result"
    }
   ],
   "source": [
    "from sklearn.preprocessing import LabelEncoder\n",
    "import pandas as pd\n",
    "\n",
    "data={\n",
    "    'Color':['red','green','blue'],\n",
    "    'Size':['small','medium','large'],\n",
    "    'Material':['wood','metal','plastic']\n",
    "}\n",
    "df=pd.DataFrame(data)\n",
    "\n",
    "encoder=LabelEncoder()\n",
    "\n",
    "df['Color_encoded']=encoder.fit_transform(df['Color'])\n",
    "df['Size_encoded']=encoder.fit_transform(df['Size'])\n",
    "df['Material_encoded']=encoder.fit_transform(df['Material'])\n",
    "\n",
    "print(\"Encoded DataFrame\\n\")\n",
    "df.head()"
   ]
  },
  {
   "cell_type": "markdown",
   "id": "b08c3a6b",
   "metadata": {},
   "source": [
    "## Question 5"
   ]
  },
  {
   "cell_type": "markdown",
   "id": "49be5015",
   "metadata": {},
   "source": [
    "Let's assume you have a DataFrame df with columns 'Age', 'Income', and 'Education_Level'. "
   ]
  },
  {
   "cell_type": "code",
   "execution_count": 2,
   "id": "6587a85b",
   "metadata": {},
   "outputs": [
    {
     "name": "stdout",
     "output_type": "stream",
     "text": [
      "[[6.250e+01 1.125e+05 1.000e+01]\n",
      " [1.125e+05 2.550e+08 2.625e+04]\n",
      " [1.000e+01 2.625e+04 5.000e+00]]\n"
     ]
    }
   ],
   "source": [
    "import pandas as pd\n",
    "import numpy as np\n",
    "data={\n",
    "    'Age':[25,30,35,40,45],\n",
    "    'Income':[50000,60000,75000,90000,80000],\n",
    "    'Education_Level':[12,16,14,18,15]\n",
    "}\n",
    "\n",
    "df=pd.DataFrame(data)\n",
    "cov_matrix=np.cov(df,rowvar=False)\n",
    "print(cov_matrix)"
   ]
  },
  {
   "cell_type": "markdown",
   "id": "01cc6280",
   "metadata": {},
   "source": [
    "## Question 6"
   ]
  },
  {
   "cell_type": "markdown",
   "id": "043af654",
   "metadata": {},
   "source": [
    "We have a dataset containing several categorical variables, including \"Gender\" (Male/Female), \"Education Level\" (High School/Bachelor's/Master's/PhD), and \"Employment Status (Unemployed/Part-Time/Full-Time). \n",
    "\n",
    "1. Gender : There are only two unique categories in the feature gender therefore we can use binary encoding in which 1 can be assigned to \"Female\"  and 0 can be assigned to \"Male\".\n",
    "\n",
    "2. Education Level : The sub categories present are High School/Bachelor's/Master's/PhD thus these categories can be ordinally encoded.\n",
    "\n",
    "3. Employemment Status : There are three sub-categories defined within this category namely Unemployed/Part-Time/Full-Time therefore we can use nominal or one-hot encoding for this particular feature."
   ]
  },
  {
   "cell_type": "markdown",
   "id": "37fcc34a",
   "metadata": {},
   "source": [
    "## Question 7"
   ]
  },
  {
   "cell_type": "code",
   "execution_count": 3,
   "id": "bf1fd145",
   "metadata": {},
   "outputs": [
    {
     "name": "stderr",
     "output_type": "stream",
     "text": [
      "C:\\Users\\HP\\anaconda3\\Lib\\site-packages\\sklearn\\preprocessing\\_encoders.py:975: FutureWarning: `sparse` was renamed to `sparse_output` in version 1.2 and will be removed in 1.4. `sparse_output` is ignored unless you leave `sparse` to its default value.\n",
      "  warnings.warn(\n"
     ]
    },
    {
     "data": {
      "text/html": [
       "<div>\n",
       "<style scoped>\n",
       "    .dataframe tbody tr th:only-of-type {\n",
       "        vertical-align: middle;\n",
       "    }\n",
       "\n",
       "    .dataframe tbody tr th {\n",
       "        vertical-align: top;\n",
       "    }\n",
       "\n",
       "    .dataframe thead th {\n",
       "        text-align: right;\n",
       "    }\n",
       "</style>\n",
       "<table border=\"1\" class=\"dataframe\">\n",
       "  <thead>\n",
       "    <tr style=\"text-align: right;\">\n",
       "      <th></th>\n",
       "      <th>Temperature</th>\n",
       "      <th>Humidity</th>\n",
       "      <th>Weather Condition_Rainy</th>\n",
       "      <th>Weather Condition_Sunny</th>\n",
       "      <th>Wind Direction_North</th>\n",
       "      <th>Wind Direction_South</th>\n",
       "      <th>Wind Direction_West</th>\n",
       "    </tr>\n",
       "  </thead>\n",
       "  <tbody>\n",
       "    <tr>\n",
       "      <th>Temperature</th>\n",
       "      <td>9.20</td>\n",
       "      <td>21.25</td>\n",
       "      <td>-1.05</td>\n",
       "      <td>0.15</td>\n",
       "      <td>-0.35</td>\n",
       "      <td>0.95</td>\n",
       "      <td>0.45</td>\n",
       "    </tr>\n",
       "    <tr>\n",
       "      <th>Humidity</th>\n",
       "      <td>21.25</td>\n",
       "      <td>62.50</td>\n",
       "      <td>-2.50</td>\n",
       "      <td>1.25</td>\n",
       "      <td>-1.25</td>\n",
       "      <td>1.25</td>\n",
       "      <td>2.50</td>\n",
       "    </tr>\n",
       "    <tr>\n",
       "      <th>Weather Condition_Rainy</th>\n",
       "      <td>-1.05</td>\n",
       "      <td>-2.50</td>\n",
       "      <td>0.20</td>\n",
       "      <td>-0.10</td>\n",
       "      <td>-0.10</td>\n",
       "      <td>-0.05</td>\n",
       "      <td>-0.05</td>\n",
       "    </tr>\n",
       "    <tr>\n",
       "      <th>Weather Condition_Sunny</th>\n",
       "      <td>0.15</td>\n",
       "      <td>1.25</td>\n",
       "      <td>-0.10</td>\n",
       "      <td>0.30</td>\n",
       "      <td>0.05</td>\n",
       "      <td>-0.10</td>\n",
       "      <td>0.15</td>\n",
       "    </tr>\n",
       "    <tr>\n",
       "      <th>Wind Direction_North</th>\n",
       "      <td>-0.35</td>\n",
       "      <td>-1.25</td>\n",
       "      <td>-0.10</td>\n",
       "      <td>0.05</td>\n",
       "      <td>0.30</td>\n",
       "      <td>-0.10</td>\n",
       "      <td>-0.10</td>\n",
       "    </tr>\n",
       "    <tr>\n",
       "      <th>Wind Direction_South</th>\n",
       "      <td>0.95</td>\n",
       "      <td>1.25</td>\n",
       "      <td>-0.05</td>\n",
       "      <td>-0.10</td>\n",
       "      <td>-0.10</td>\n",
       "      <td>0.20</td>\n",
       "      <td>-0.05</td>\n",
       "    </tr>\n",
       "    <tr>\n",
       "      <th>Wind Direction_West</th>\n",
       "      <td>0.45</td>\n",
       "      <td>2.50</td>\n",
       "      <td>-0.05</td>\n",
       "      <td>0.15</td>\n",
       "      <td>-0.10</td>\n",
       "      <td>-0.05</td>\n",
       "      <td>0.20</td>\n",
       "    </tr>\n",
       "  </tbody>\n",
       "</table>\n",
       "</div>"
      ],
      "text/plain": [
       "                         Temperature  Humidity  Weather Condition_Rainy  \\\n",
       "Temperature                     9.20     21.25                    -1.05   \n",
       "Humidity                       21.25     62.50                    -2.50   \n",
       "Weather Condition_Rainy        -1.05     -2.50                     0.20   \n",
       "Weather Condition_Sunny         0.15      1.25                    -0.10   \n",
       "Wind Direction_North           -0.35     -1.25                    -0.10   \n",
       "Wind Direction_South            0.95      1.25                    -0.05   \n",
       "Wind Direction_West             0.45      2.50                    -0.05   \n",
       "\n",
       "                         Weather Condition_Sunny  Wind Direction_North  \\\n",
       "Temperature                                 0.15                 -0.35   \n",
       "Humidity                                    1.25                 -1.25   \n",
       "Weather Condition_Rainy                    -0.10                 -0.10   \n",
       "Weather Condition_Sunny                     0.30                  0.05   \n",
       "Wind Direction_North                        0.05                  0.30   \n",
       "Wind Direction_South                       -0.10                 -0.10   \n",
       "Wind Direction_West                         0.15                 -0.10   \n",
       "\n",
       "                         Wind Direction_South  Wind Direction_West  \n",
       "Temperature                              0.95                 0.45  \n",
       "Humidity                                 1.25                 2.50  \n",
       "Weather Condition_Rainy                 -0.05                -0.05  \n",
       "Weather Condition_Sunny                 -0.10                 0.15  \n",
       "Wind Direction_North                    -0.10                -0.10  \n",
       "Wind Direction_South                     0.20                -0.05  \n",
       "Wind Direction_West                     -0.05                 0.20  "
      ]
     },
     "execution_count": 3,
     "metadata": {},
     "output_type": "execute_result"
    }
   ],
   "source": [
    "import pandas as pd\n",
    "from sklearn.preprocessing import OneHotEncoder\n",
    "data={\n",
    "    'Temperature':[25,30,22,28,26],\n",
    "    'Humidity':[60,70,55,75,65],\n",
    "    'Weather Condition':['Sunny','Cloudy','Rainy','Sunny','Cloudy'],\n",
    "    'Wind Direction':['North','South','East','West','North']\n",
    "}\n",
    "\n",
    "df=pd.DataFrame(data)\n",
    "encoder=OneHotEncoder(sparse=False,drop='first')\n",
    "encoded_categories=encoder.fit_transform(df[['Weather Condition','Wind Direction']])\n",
    "df_encoded=pd.concat([df[['Temperature','Humidity']],pd.DataFrame(encoded_categories,columns=encoder.get_feature_names_out(['Weather Condition','Wind Direction']))],axis=1)\n",
    "df_encoded.cov()"
   ]
  },
  {
   "cell_type": "code",
   "execution_count": null,
   "id": "38b0ee8e",
   "metadata": {},
   "outputs": [],
   "source": []
  }
 ],
 "metadata": {
  "kernelspec": {
   "display_name": "Python 3 (ipykernel)",
   "language": "python",
   "name": "python3"
  },
  "language_info": {
   "codemirror_mode": {
    "name": "ipython",
    "version": 3
   },
   "file_extension": ".py",
   "mimetype": "text/x-python",
   "name": "python",
   "nbconvert_exporter": "python",
   "pygments_lexer": "ipython3",
   "version": "3.11.4"
  }
 },
 "nbformat": 4,
 "nbformat_minor": 5
}
