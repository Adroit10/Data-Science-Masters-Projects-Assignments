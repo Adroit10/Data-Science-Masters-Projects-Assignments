{
 "cells": [
  {
   "cell_type": "markdown",
   "id": "eeaaf26a",
   "metadata": {},
   "source": [
    "## Question 1"
   ]
  },
  {
   "cell_type": "markdown",
   "id": "c25049b2",
   "metadata": {},
   "source": [
    "A database is a structured collection of data that is organized and stored in a way that allows for efficient retrieval, updating, and management of that data. Databases are used in various applications and systems to store and organize information.\n",
    "There are two main types of databases: SQL (Structured Query Language) databases and NoSQL databases. The primary difference between them lies in the way they store and retrieve data, as well as their underlying data models.\n",
    "\n",
    "SQL databases are relational databases, which means they use a table-based structure to organize data. Data is stored in rows and columns, and relationships between different tables are established using keys. SQL databases are suitable for applications where the data structure is well-defined and unlikely to change frequently. Examples include financial systems, customer relationship management (CRM) systems, and e-commerce platforms.\n",
    "\n",
    "\n",
    "NoSQL databases use various data models, such as document-oriented, key-value pairs, wide-column stores, or graph databases. They are designed to be more flexible and scalable than traditional SQL databases.NoSQL databases are schema-less, meaning you can insert data without first defining its structure. This flexibility is beneficial when dealing with evolving or dynamic data. NoSQL databases are suitable for applications with rapidly changing or unpredictable data requirements. They are commonly used in big data applications, real-time web applications, and scenarios where the schema may evolve over time."
   ]
  },
  {
   "cell_type": "markdown",
   "id": "c30a8328",
   "metadata": {},
   "source": [
    "## Question 2"
   ]
  },
  {
   "cell_type": "markdown",
   "id": "3ae68cb2",
   "metadata": {},
   "source": [
    "DDL stands for Data Definition Language and is a subset of the Structured Query Language (SQL) used for defining and managing the structure of the relational database. DDL consists of statements that allow you to perform tasks such as creating, altering, and deleting database objects like tables, indexes, and views. The amin purpose of DDL is to define the structure that will hold the data and the relationship between them. \n",
    "\n",
    "1. CREATE : Used to create new databases, table, index, or other database objects.\n",
    "\n",
    "CREATE TABLE employees( \n",
    "employee_id INT PRIMARY KEY,\n",
    "first_name VARCHAR(50) NOT NULL,\n",
    "last_name VARCHAR(50),\n",
    "employee_age INT NOT NULL);\n",
    "\n",
    "\n",
    "2. DROP : Used to delete an existing database object, such as table or an index. But we must cautious while using this statement as this permanently deletes the object.\n",
    "\n",
    "DROP TABLE employees;\n",
    "\n",
    "3. ALTER : Used to modify the already existing database object, such as adding, deleting or modifying columns in a table.\n",
    "\n",
    "ALTER TABLE employees\n",
    "ADD COLUMN email VARCHAR(100);\n",
    "\n",
    "\n",
    "4. TRUNCATE : Used to remove all the records from a table, but unlike the DROP statement it retains the structure of the table for future uses.\n",
    "\n",
    "TRUNCATE TABLE employees;\n",
    "\n"
   ]
  },
  {
   "cell_type": "markdown",
   "id": "51d7cb46",
   "metadata": {},
   "source": [
    "## Question 3"
   ]
  },
  {
   "cell_type": "markdown",
   "id": "10b3290e",
   "metadata": {},
   "source": [
    "DML stands for Data Manipulation Language is a subset of the SQL(structures Query Language) used for manipulating data stored in a relational database. DML focuses on the manipulation and retrieval of data within that structure.\n",
    "\n",
    "\n",
    "1. INSERT : Used for adding new rows of data to a table. \n",
    "\n",
    "INSERT INTO employees (employee_id,first_name,last_name, employee_age)\n",
    "VALUES( 1, 'Michael', 'Scott',58)\n",
    "\n",
    "2. UPDATE : Used to modify existing data in a table based on specified conditions.\n",
    "\n",
    "UPDATE employees\n",
    "SET salary = salary*0.5\n",
    "WHERE first_name = 'Toby';\n",
    "\n",
    "3. DELETE : Used to remove rows from a table based on specified conditions.\n",
    "\n",
    "DELETE FROM employees\n",
    "WHERE employee_id =2;\n"
   ]
  },
  {
   "cell_type": "markdown",
   "id": "f7c0edaa",
   "metadata": {},
   "source": [
    "## Question 4"
   ]
  },
  {
   "cell_type": "markdown",
   "id": "f5e35c8e",
   "metadata": {},
   "source": [
    "Data Query Language (DQL) is a subset of the SQL (structured Query Language) focused specifically on querying data from a relational database.  DQL is primarily associated with the SELECT statement, which is used to retrieve data from one or more tables in a database.\n",
    "\n",
    "SELECT first_name, last_name \n",
    "FROM employees\n",
    "WHERE depertment_id = 3;\n"
   ]
  },
  {
   "cell_type": "markdown",
   "id": "ce0d1802",
   "metadata": {},
   "source": [
    "## Question 5\n"
   ]
  },
  {
   "cell_type": "markdown",
   "id": "5fa2ae49",
   "metadata": {},
   "source": [
    "A primary key is a field or combination of fields in a relational database table that uniquely identifies each record in that table. The primary key serves as a unique identifier for a row and ensures the integrity of the data by preventing duplicate and null values in the key columns.A primary key is typically indexed, which allows for fast data retrieval based on the primary key values.\n",
    "\n",
    "CREATE TABLE students(\n",
    "student_id INT PRIMARY KEY,\n",
    "first_name VARCHAR(50),\n",
    "last_name VARCHAR(50),\n",
    "joining_date DATE);\n",
    "\n",
    "\n",
    "\n",
    "A foreign key is a field in a relational database table that is used to establish a link between two tables. It creates a relationship between the data in two tables by referencing the primary key of one table from another table. The table containing the foreign key is called the referencing or child table, and the table with the matching primary key is called the referenced or parent table.\n",
    "While primary keys cannot contain null values, foreign keys may allow nulls, indicating that a particular record in the referencing table has no corresponding record in the referenced table.\n",
    "\n",
    "\n",
    "CREATE TABLE enrollments(\n",
    "enrollment_id INT PRIMARY KEY,\n",
    "student_id INT ,\n",
    "course_id INT,\n",
    "enrollment_date DATE,\n",
    "FOREIGN KEY (student_id) REFERENCES students(student_id),\n",
    "FOREIGN KEY (course_id) REFERENCES courses(course_id)\n",
    ");\n",
    "\n"
   ]
  },
  {
   "cell_type": "markdown",
   "id": "bf583c70",
   "metadata": {},
   "source": [
    "## QUESTION 6"
   ]
  },
  {
   "cell_type": "markdown",
   "id": "f95f1166",
   "metadata": {},
   "source": [
    "To connect Python to MySQL, you can use the mysql-connector library. "
   ]
  },
  {
   "cell_type": "code",
   "execution_count": 1,
   "id": "2746600e",
   "metadata": {},
   "outputs": [
    {
     "name": "stdout",
     "output_type": "stream",
     "text": [
      "Collecting mysql-connector-python\n",
      "  Obtaining dependency information for mysql-connector-python from https://files.pythonhosted.org/packages/a7/84/b63f11124f808b6f1e3389072bc36cc907929d7574e85f94bf8f18117fe4/mysql_connector_python-8.2.0-cp311-cp311-win_amd64.whl.metadata\n",
      "  Downloading mysql_connector_python-8.2.0-cp311-cp311-win_amd64.whl.metadata (2.1 kB)\n",
      "Collecting protobuf<=4.21.12,>=4.21.1 (from mysql-connector-python)\n",
      "  Downloading protobuf-4.21.12-cp310-abi3-win_amd64.whl (527 kB)\n",
      "     ---------------------------------------- 0.0/527.0 kB ? eta -:--:--\n",
      "     ---------- --------------------------- 143.4/527.0 kB 2.8 MB/s eta 0:00:01\n",
      "     ------------------------------- ------ 440.3/527.0 kB 4.6 MB/s eta 0:00:01\n",
      "     -------------------------------------- 527.0/527.0 kB 4.7 MB/s eta 0:00:00\n",
      "Downloading mysql_connector_python-8.2.0-cp311-cp311-win_amd64.whl (14.2 MB)\n",
      "   ---------------------------------------- 0.0/14.2 MB ? eta -:--:--\n",
      "    --------------------------------------- 0.3/14.2 MB 10.2 MB/s eta 0:00:02\n",
      "   -- ------------------------------------- 0.7/14.2 MB 9.3 MB/s eta 0:00:02\n",
      "   --- ------------------------------------ 1.3/14.2 MB 10.1 MB/s eta 0:00:02\n",
      "   ---- ----------------------------------- 1.5/14.2 MB 8.9 MB/s eta 0:00:02\n",
      "   ----- ---------------------------------- 2.0/14.2 MB 9.2 MB/s eta 0:00:02\n",
      "   ------ --------------------------------- 2.4/14.2 MB 8.9 MB/s eta 0:00:02\n",
      "   ------- -------------------------------- 2.8/14.2 MB 9.3 MB/s eta 0:00:02\n",
      "   -------- ------------------------------- 3.1/14.2 MB 9.0 MB/s eta 0:00:02\n",
      "   --------- ------------------------------ 3.3/14.2 MB 8.5 MB/s eta 0:00:02\n",
      "   --------- ------------------------------ 3.4/14.2 MB 8.3 MB/s eta 0:00:02\n",
      "   --------- ------------------------------ 3.4/14.2 MB 8.3 MB/s eta 0:00:02\n",
      "   ---------- ----------------------------- 3.9/14.2 MB 7.5 MB/s eta 0:00:02\n",
      "   ------------ --------------------------- 4.3/14.2 MB 7.4 MB/s eta 0:00:02\n",
      "   ------------ --------------------------- 4.5/14.2 MB 7.3 MB/s eta 0:00:02\n",
      "   ------------ --------------------------- 4.6/14.2 MB 7.0 MB/s eta 0:00:02\n",
      "   ------------- -------------------------- 4.9/14.2 MB 6.8 MB/s eta 0:00:02\n",
      "   -------------- ------------------------- 5.0/14.2 MB 6.6 MB/s eta 0:00:02\n",
      "   -------------- ------------------------- 5.1/14.2 MB 6.3 MB/s eta 0:00:02\n",
      "   -------------- ------------------------- 5.1/14.2 MB 6.2 MB/s eta 0:00:02\n",
      "   -------------- ------------------------- 5.2/14.2 MB 5.7 MB/s eta 0:00:02\n",
      "   --------------- ------------------------ 5.6/14.2 MB 5.9 MB/s eta 0:00:02\n",
      "   ----------------- ---------------------- 6.1/14.2 MB 6.0 MB/s eta 0:00:02\n",
      "   ------------------ --------------------- 6.6/14.2 MB 6.2 MB/s eta 0:00:02\n",
      "   ------------------- -------------------- 7.0/14.2 MB 6.3 MB/s eta 0:00:02\n",
      "   -------------------- ------------------- 7.4/14.2 MB 6.5 MB/s eta 0:00:02\n",
      "   --------------------- ------------------ 7.5/14.2 MB 6.4 MB/s eta 0:00:02\n",
      "   --------------------- ------------------ 7.6/14.2 MB 6.2 MB/s eta 0:00:02\n",
      "   --------------------- ------------------ 7.7/14.2 MB 6.2 MB/s eta 0:00:02\n",
      "   ---------------------- ----------------- 8.0/14.2 MB 6.1 MB/s eta 0:00:02\n",
      "   ----------------------- ---------------- 8.5/14.2 MB 6.2 MB/s eta 0:00:01\n",
      "   ------------------------- -------------- 9.0/14.2 MB 6.4 MB/s eta 0:00:01\n",
      "   -------------------------- ------------- 9.5/14.2 MB 6.5 MB/s eta 0:00:01\n",
      "   --------------------------- ------------ 9.9/14.2 MB 6.6 MB/s eta 0:00:01\n",
      "   ----------------------------- ---------- 10.5/14.2 MB 6.7 MB/s eta 0:00:01\n",
      "   ------------------------------ --------- 10.9/14.2 MB 6.7 MB/s eta 0:00:01\n",
      "   ------------------------------- -------- 11.3/14.2 MB 6.7 MB/s eta 0:00:01\n",
      "   -------------------------------- ------- 11.7/14.2 MB 6.7 MB/s eta 0:00:01\n",
      "   --------------------------------- ------ 12.1/14.2 MB 6.7 MB/s eta 0:00:01\n",
      "   ----------------------------------- ---- 12.5/14.2 MB 6.7 MB/s eta 0:00:01\n",
      "   ------------------------------------ --- 12.9/14.2 MB 6.7 MB/s eta 0:00:01\n",
      "   ------------------------------------- -- 13.3/14.2 MB 6.7 MB/s eta 0:00:01\n",
      "   -------------------------------------- - 13.5/14.2 MB 6.7 MB/s eta 0:00:01\n",
      "   ---------------------------------------  14.0/14.2 MB 7.1 MB/s eta 0:00:01\n",
      "   ---------------------------------------  14.2/14.2 MB 7.1 MB/s eta 0:00:01\n",
      "   ---------------------------------------  14.2/14.2 MB 7.1 MB/s eta 0:00:01\n",
      "   ---------------------------------------- 14.2/14.2 MB 6.7 MB/s eta 0:00:00\n",
      "Installing collected packages: protobuf, mysql-connector-python\n",
      "Successfully installed mysql-connector-python-8.2.0 protobuf-4.21.12\n"
     ]
    }
   ],
   "source": [
    "!pip install mysql-connector-python"
   ]
  },
  {
   "cell_type": "code",
   "execution_count": 2,
   "id": "84a76024",
   "metadata": {},
   "outputs": [
    {
     "name": "stdout",
     "output_type": "stream",
     "text": [
      "Error: 2005 (HY000): Unknown MySQL server host 'host_name' (11001)\n"
     ]
    }
   ],
   "source": [
    "import mysql.connector\n",
    "host=\"host_name\"\n",
    "user=\"user_name\"\n",
    "password=\"password_set\"\n",
    "database=\"database_name\"\n",
    "\n",
    "try:\n",
    "    connection=mysql.connector.connect(\n",
    "    host=host,\n",
    "    user=user,\n",
    "    password=password,\n",
    "    database=database)\n",
    "    \n",
    "    if connection.is_connected():\n",
    "        print(\"Connected to MySQL\")\n",
    "except mysql.connector.Error as e:\n",
    "    print(f\"Error: {e}\")\n",
    "    \n",
    "finally:\n",
    "    if 'connection' in locals() and connection.is_connected():\n",
    "        connection.close()\n",
    "        print(\"Connection closed\")\n"
   ]
  },
  {
   "cell_type": "markdown",
   "id": "7e2bb639",
   "metadata": {},
   "source": [
    "In Python database programming, when you connect to a database, you often use a cursor to interact with it. A cursor is an object that acts as a pointer or placeholder, allowing you to execute SQL queries and fetch results from the database.\n",
    "\n",
    "The cursor() method is used to create a cursor object associated with the database connection. The cursor is used to manage the context of a database session, including transaction management.You can create multiple cursors from a single database connection.\n",
    "\n",
    "cursor=connection.cursor()\n",
    "\n",
    "\n",
    "\n",
    "The execute() method is used to execute a SQL query or command using the cursor. It takes a SQL query as a parameter and sends it to the database for execution. After executing a query, you can use other methods of the cursor to fetch results or perform additional operations.\n",
    "\n",
    "\n",
    "query=\"SELECT * FROM eployees;\"\n",
    "cursor.execute(query)\n",
    "\n",
    "After executing the query, you can use other cursor methods, such as fetchall(), fetchone(), or fetchmany(), to retrieve the results.\n",
    "\n",
    "\n",
    "rows = cursor.fetchall()  \n",
    "for row in rows:\n",
    "   print(row)\n",
    "    \n",
    "cursor.close()"
   ]
  },
  {
   "cell_type": "markdown",
   "id": "5c200bd2",
   "metadata": {},
   "source": [
    "## Question 7 "
   ]
  },
  {
   "cell_type": "markdown",
   "id": "d3283630",
   "metadata": {},
   "source": [
    "In a SQL query, the order of execution of clauses generally follows a specific sequence. The clauses are typically processed in the following order:\n",
    "\n",
    "1. SELECT : First statement to be executed, specifies the columns to be retreived from the database.\n",
    "\n",
    "2. FROM : Comes after the SELECt clause and it specifies which table or view is to be used for data retreival.\n",
    "\n",
    "3. WHERE : Executed after FROM and filetrs out the rows based on a specific condition.\n",
    "\n",
    "4. GrOUP BY : It groups the rows based on the specified columns.\n",
    "\n",
    "5. HAVING : It filters the grouped rows based on the specified conditions.\n",
    "\n",
    "6. ORDER BY : It sorts the result set based on the specified columns and sorting orders.\n",
    "\n",
    "\n",
    "SELECT column1, column2\n",
    "FROM table_name\n",
    "WHERE condition\n",
    "GROUP BY column1\n",
    "HAVING aggregate_condition\n",
    "ORDER BY column1 ASC, column2 DESC;"
   ]
  },
  {
   "cell_type": "code",
   "execution_count": null,
   "id": "00104c4b",
   "metadata": {},
   "outputs": [],
   "source": []
  }
 ],
 "metadata": {
  "kernelspec": {
   "display_name": "Python 3 (ipykernel)",
   "language": "python",
   "name": "python3"
  },
  "language_info": {
   "codemirror_mode": {
    "name": "ipython",
    "version": 3
   },
   "file_extension": ".py",
   "mimetype": "text/x-python",
   "name": "python",
   "nbconvert_exporter": "python",
   "pygments_lexer": "ipython3",
   "version": "3.11.4"
  }
 },
 "nbformat": 4,
 "nbformat_minor": 5
}
