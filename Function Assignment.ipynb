{
 "cells": [
  {
   "cell_type": "markdown",
   "id": "64220b68",
   "metadata": {},
   "source": [
    "## Question 1\n",
    "'''The def keyword is used to define a function'''"
   ]
  },
  {
   "cell_type": "code",
   "execution_count": 6,
   "id": "d9a186aa",
   "metadata": {},
   "outputs": [],
   "source": [
    "def oddlis():\n",
    "    odd_list=[]\n",
    "    for i in range(1,25):\n",
    "        if i%2!=0:\n",
    "            odd_list.append(i)\n",
    "    return odd_list"
   ]
  },
  {
   "cell_type": "code",
   "execution_count": 7,
   "id": "99448ea6",
   "metadata": {},
   "outputs": [
    {
     "data": {
      "text/plain": [
       "[1, 3, 5, 7, 9, 11, 13, 15, 17, 19, 21, 23]"
      ]
     },
     "execution_count": 7,
     "metadata": {},
     "output_type": "execute_result"
    }
   ],
   "source": [
    "oddlis()"
   ]
  },
  {
   "cell_type": "markdown",
   "id": "e7cd35b7",
   "metadata": {},
   "source": [
    "## Question 2\n",
    "  \n",
    "*args and * *kwargs allow us to pass multiple arguments or keyword arguments to a function. They come in handy when the number of arguments to be passed are determined only at runtime "
   ]
  },
  {
   "cell_type": "code",
   "execution_count": 9,
   "id": "bc33b59a",
   "metadata": {},
   "outputs": [],
   "source": [
    "def func(*args): # any number of arguments can be passed  *-static (args is not a keyword)\n",
    "    return args"
   ]
  },
  {
   "cell_type": "code",
   "execution_count": 10,
   "id": "da224a11",
   "metadata": {},
   "outputs": [
    {
     "data": {
      "text/plain": [
       "('dev', [1, 2, 3, 4], (1, 2, 3, 4))"
      ]
     },
     "execution_count": 10,
     "metadata": {},
     "output_type": "execute_result"
    }
   ],
   "source": [
    "func(\"dev\",[1,2,3,4],(1,2,3,4))"
   ]
  },
  {
   "cell_type": "code",
   "execution_count": 11,
   "id": "11717328",
   "metadata": {},
   "outputs": [],
   "source": [
    "def test(**kwargs): # double static keyword argument takes n values and returns key val pairs\n",
    "    return kwargs"
   ]
  },
  {
   "cell_type": "code",
   "execution_count": 13,
   "id": "02c16501",
   "metadata": {},
   "outputs": [
    {
     "data": {
      "text/plain": [
       "{'a': 34, 'b': 23, 'c': [1, 2, 4], 'd': ('devansh', 'tripathi')}"
      ]
     },
     "execution_count": 13,
     "metadata": {},
     "output_type": "execute_result"
    }
   ],
   "source": [
    "test(a= 34, b= 23, c= [1, 2, 4], d= ('devansh', 'tripathi'))"
   ]
  },
  {
   "cell_type": "markdown",
   "id": "93d076f2",
   "metadata": {},
   "source": [
    "## Question 3\n",
    "\n",
    "Objects that help us to iterate over iterable objects like lists, tuples, sets, and dicts. The iterator object is initialized by using the iter() method and the next() method is used for iteration"
   ]
  },
  {
   "cell_type": "code",
   "execution_count": 2,
   "id": "f4689f19",
   "metadata": {},
   "outputs": [
    {
     "name": "stdout",
     "output_type": "stream",
     "text": [
      "2\n",
      "4\n",
      "6\n",
      "8\n",
      "10\n"
     ]
    }
   ],
   "source": [
    "lis=[2,4,6,8,10,12,14,16,18,20]\n",
    "num_iter=iter(lis)\n",
    "print(next(num_iter))\n",
    "print(next(num_iter))\n",
    "print(next(num_iter))\n",
    "print(next(num_iter))\n",
    "print(next(num_iter))\n"
   ]
  },
  {
   "cell_type": "markdown",
   "id": "56b829bd",
   "metadata": {},
   "source": [
    "## Question 4\n",
    "A generator function is used to generate elements by the 'yield' keyword one by one unlike other functions which generates the output after final calculations. The generator function returns a generator object which are used using the next method or a for loop."
   ]
  },
  {
   "cell_type": "code",
   "execution_count": 6,
   "id": "e1145d35",
   "metadata": {},
   "outputs": [],
   "source": [
    "#example -- fobonacci series\n",
    "def fib(n):\n",
    "    a,b=0,1\n",
    "    for i in range(n):\n",
    "        yield a\n",
    "        a,b=b,a+b"
   ]
  },
  {
   "cell_type": "code",
   "execution_count": 7,
   "id": "58d59421",
   "metadata": {},
   "outputs": [
    {
     "data": {
      "text/plain": [
       "<generator object fib at 0x0000020EDB772270>"
      ]
     },
     "execution_count": 7,
     "metadata": {},
     "output_type": "execute_result"
    }
   ],
   "source": [
    "fib(10)  "
   ]
  },
  {
   "cell_type": "code",
   "execution_count": 8,
   "id": "e9c40817",
   "metadata": {},
   "outputs": [
    {
     "name": "stdout",
     "output_type": "stream",
     "text": [
      "0 1 1 2 3 5 8 13 21 34 "
     ]
    }
   ],
   "source": [
    "for i in fib(10):\n",
    "    print(i,end=\" \")"
   ]
  },
  {
   "cell_type": "markdown",
   "id": "04427755",
   "metadata": {},
   "source": [
    "## Question 5\n"
   ]
  },
  {
   "cell_type": "code",
   "execution_count": 27,
   "id": "f3006a8e",
   "metadata": {},
   "outputs": [],
   "source": [
    "# prime numbers less than 1000\n",
    "def prime():\n",
    "    for i in range(2,1000):\n",
    "        count=0\n",
    "        for j in range(2,i):\n",
    "            if i%j==0:\n",
    "                count+=1\n",
    "        if count==0:\n",
    "            yield i"
   ]
  },
  {
   "cell_type": "code",
   "execution_count": 28,
   "id": "5752d16c",
   "metadata": {},
   "outputs": [],
   "source": [
    "x=prime()"
   ]
  },
  {
   "cell_type": "code",
   "execution_count": 29,
   "id": "8dd987f2",
   "metadata": {},
   "outputs": [
    {
     "name": "stdout",
     "output_type": "stream",
     "text": [
      "2 3 5 7 11 13 17 19 23 29 31 37 41 43 47 53 59 61 67 71 "
     ]
    }
   ],
   "source": [
    "for i in range(0,20):\n",
    "    print(next(x),end=\" \")"
   ]
  },
  {
   "cell_type": "code",
   "execution_count": null,
   "id": "e501fff8",
   "metadata": {},
   "outputs": [],
   "source": []
  },
  {
   "cell_type": "code",
   "execution_count": null,
   "id": "c89db48a",
   "metadata": {},
   "outputs": [],
   "source": []
  },
  {
   "cell_type": "code",
   "execution_count": null,
   "id": "df7c3a91",
   "metadata": {},
   "outputs": [],
   "source": []
  }
 ],
 "metadata": {
  "kernelspec": {
   "display_name": "Python 3 (ipykernel)",
   "language": "python",
   "name": "python3"
  },
  "language_info": {
   "codemirror_mode": {
    "name": "ipython",
    "version": 3
   },
   "file_extension": ".py",
   "mimetype": "text/x-python",
   "name": "python",
   "nbconvert_exporter": "python",
   "pygments_lexer": "ipython3",
   "version": "3.9.7"
  }
 },
 "nbformat": 4,
 "nbformat_minor": 5
}
