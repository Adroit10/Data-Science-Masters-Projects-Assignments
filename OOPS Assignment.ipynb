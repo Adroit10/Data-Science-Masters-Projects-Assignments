{
 "cells": [
  {
   "cell_type": "markdown",
   "id": "93698289",
   "metadata": {},
   "source": [
    "## Question 1\n"
   ]
  },
  {
   "cell_type": "code",
   "execution_count": 34,
   "id": "bd7a8c74",
   "metadata": {},
   "outputs": [],
   "source": [
    "class vehicle:\n",
    "    def __init__(self,name_of_vehicle,max_speed,average_of_vehicle):\n",
    "        self.name_of_vehicle=name_of_vehicle\n",
    "        self.max_speed=max_speed\n",
    "        self.average_of_vehicle=average_of_vehicle"
   ]
  },
  {
   "cell_type": "markdown",
   "id": "c7a2b2d7",
   "metadata": {},
   "source": [
    "## Question 2"
   ]
  },
  {
   "cell_type": "code",
   "execution_count": 44,
   "id": "4f916d4f",
   "metadata": {},
   "outputs": [],
   "source": [
    "class car(vehicle):\n",
    "    def seating_capacity(self,capacity):\n",
    "        return (self.name_of_vehicle,capacity)\n",
    "    "
   ]
  },
  {
   "cell_type": "code",
   "execution_count": 45,
   "id": "679eecb0",
   "metadata": {},
   "outputs": [],
   "source": [
    "obj=car(\"merc\",\"240\",\"80\")"
   ]
  },
  {
   "cell_type": "code",
   "execution_count": 46,
   "id": "ce6c335f",
   "metadata": {},
   "outputs": [
    {
     "data": {
      "text/plain": [
       "('merc', 4)"
      ]
     },
     "execution_count": 46,
     "metadata": {},
     "output_type": "execute_result"
    }
   ],
   "source": [
    "obj.seating_capacity(4)"
   ]
  },
  {
   "cell_type": "markdown",
   "id": "1c52504d",
   "metadata": {},
   "source": [
    "## Question 3\n",
    "When a class is derived from more than one base class then it is called multiple inheritance. The derived classs contains the featues of all the base classes"
   ]
  },
  {
   "cell_type": "code",
   "execution_count": 22,
   "id": "e9bff506",
   "metadata": {},
   "outputs": [],
   "source": [
    "#example\n",
    "class base1:\n",
    "    def message1(self):\n",
    "        print(\"this is my base class 1\")"
   ]
  },
  {
   "cell_type": "code",
   "execution_count": 23,
   "id": "b8165d2a",
   "metadata": {},
   "outputs": [],
   "source": [
    "class base2:\n",
    "    def message2(self):\n",
    "        print(\"this is my base class 2\")"
   ]
  },
  {
   "cell_type": "code",
   "execution_count": 24,
   "id": "1c07c9d1",
   "metadata": {},
   "outputs": [],
   "source": [
    "class child(base1,base2):\n",
    "    pass"
   ]
  },
  {
   "cell_type": "code",
   "execution_count": 25,
   "id": "cfbdb1d2",
   "metadata": {},
   "outputs": [],
   "source": [
    "obj_child=child()"
   ]
  },
  {
   "cell_type": "code",
   "execution_count": 26,
   "id": "58b3aed8",
   "metadata": {},
   "outputs": [
    {
     "name": "stdout",
     "output_type": "stream",
     "text": [
      "this is my base class 1\n"
     ]
    }
   ],
   "source": [
    "obj_child.message1()"
   ]
  },
  {
   "cell_type": "code",
   "execution_count": 27,
   "id": "6efe73c1",
   "metadata": {},
   "outputs": [
    {
     "name": "stdout",
     "output_type": "stream",
     "text": [
      "this is my base class 2\n"
     ]
    }
   ],
   "source": [
    "obj_child.message2()"
   ]
  },
  {
   "cell_type": "markdown",
   "id": "7fc533f5",
   "metadata": {},
   "source": [
    "## Question 4\n",
    "Getters are methods that help to access private attributes from a class and setters helps us to set a value to the private attributes of the class"
   ]
  },
  {
   "cell_type": "code",
   "execution_count": 47,
   "id": "802a8a34",
   "metadata": {},
   "outputs": [],
   "source": [
    "class example:\n",
    "    def __init__(self,var):\n",
    "        self.__var=var  # private attribute __var\n",
    "    def get_var(self):  # getter method returns private attribute\n",
    "        return self.__var\n",
    "    def set_var(self,var):  # setter method sets the value of private attribute\n",
    "        self.__var=var"
   ]
  },
  {
   "cell_type": "code",
   "execution_count": 48,
   "id": "9e33bd68",
   "metadata": {},
   "outputs": [],
   "source": [
    "obj=example(7)"
   ]
  },
  {
   "cell_type": "code",
   "execution_count": 49,
   "id": "ffd11d99",
   "metadata": {},
   "outputs": [
    {
     "name": "stdout",
     "output_type": "stream",
     "text": [
      "7\n"
     ]
    }
   ],
   "source": [
    "print(obj.get_var())"
   ]
  },
  {
   "cell_type": "code",
   "execution_count": 50,
   "id": "53353dc0",
   "metadata": {},
   "outputs": [],
   "source": [
    "obj.set_var(10)"
   ]
  },
  {
   "cell_type": "code",
   "execution_count": 52,
   "id": "4422181d",
   "metadata": {},
   "outputs": [
    {
     "name": "stdout",
     "output_type": "stream",
     "text": [
      "10\n"
     ]
    }
   ],
   "source": [
    "print(obj.get_var())"
   ]
  },
  {
   "cell_type": "markdown",
   "id": "6e5391d0",
   "metadata": {},
   "source": [
    "## Question 5\n",
    "Method overriding is when a child class or a sub class has a method of the same name, signature, return type as that in the base class. The method in the sub class is said to override the parent/base class."
   ]
  },
  {
   "cell_type": "code",
   "execution_count": 53,
   "id": "c532710b",
   "metadata": {},
   "outputs": [],
   "source": [
    "class Class1:\n",
    "    def m(self):\n",
    "        print(\"In class 1\")\n",
    "        \n",
    "class Class2(Class1):\n",
    "    def m(self):  # method has overriden the previous method\n",
    "        print(\"In class 2\")"
   ]
  },
  {
   "cell_type": "code",
   "execution_count": 54,
   "id": "5c5443c2",
   "metadata": {},
   "outputs": [],
   "source": [
    "obj=Class2()"
   ]
  },
  {
   "cell_type": "code",
   "execution_count": 55,
   "id": "5632a225",
   "metadata": {},
   "outputs": [
    {
     "name": "stdout",
     "output_type": "stream",
     "text": [
      "In class 2\n"
     ]
    }
   ],
   "source": [
    "obj.m()"
   ]
  },
  {
   "cell_type": "code",
   "execution_count": 56,
   "id": "0f7a2411",
   "metadata": {},
   "outputs": [],
   "source": [
    "# if object of the base class is created then the method of that class will get executed\n",
    "obj2=Class1()"
   ]
  },
  {
   "cell_type": "code",
   "execution_count": 57,
   "id": "8475d284",
   "metadata": {},
   "outputs": [
    {
     "name": "stdout",
     "output_type": "stream",
     "text": [
      "In class 1\n"
     ]
    }
   ],
   "source": [
    "obj2.m()"
   ]
  },
  {
   "cell_type": "code",
   "execution_count": null,
   "id": "4a3e2e34",
   "metadata": {},
   "outputs": [],
   "source": []
  }
 ],
 "metadata": {
  "kernelspec": {
   "display_name": "Python 3 (ipykernel)",
   "language": "python",
   "name": "python3"
  },
  "language_info": {
   "codemirror_mode": {
    "name": "ipython",
    "version": 3
   },
   "file_extension": ".py",
   "mimetype": "text/x-python",
   "name": "python",
   "nbconvert_exporter": "python",
   "pygments_lexer": "ipython3",
   "version": "3.9.7"
  }
 },
 "nbformat": 4,
 "nbformat_minor": 5
}
