{
 "cells": [
  {
   "cell_type": "markdown",
   "id": "7cd25e50",
   "metadata": {},
   "source": [
    "## Question1"
   ]
  },
  {
   "cell_type": "markdown",
   "id": "653f0dc8",
   "metadata": {},
   "source": [
    "An exception is an event, which occurs during the execution of a program that disrupts the normal flow of the program's instructions.Even if a statement or expression is syntactically correct, it may cause an error when an attempt is made to execute it. Errors detected during execution are called exceptions and are not unconditionally fatal. Different types of exception that are encountered in python are SyntaxError, TypeError,NameError, IndexError etc.\n",
    "\n",
    "Syntax errors, also known as parsing errors are the types of exception that we encounter if we make a syntactical mistake in our code."
   ]
  },
  {
   "cell_type": "markdown",
   "id": "df1e7abc",
   "metadata": {},
   "source": [
    "## Question 2"
   ]
  },
  {
   "cell_type": "markdown",
   "id": "a5dcfe06",
   "metadata": {},
   "source": [
    "When we do not handle an exception it may lead to unwanted termination of our program and the block of code past the exception won't get executed.\n",
    "\n",
    "In the given example there is a syntax error in the while statement therefore an error message gets displayed and the print statement does not execute.\n"
   ]
  },
  {
   "cell_type": "code",
   "execution_count": 1,
   "id": "9ca0bce8",
   "metadata": {},
   "outputs": [
    {
     "ename": "IndentationError",
     "evalue": "expected an indented block after 'while' statement on line 1 (13318159.py, line 2)",
     "output_type": "error",
     "traceback": [
      "\u001b[1;36m  Cell \u001b[1;32mIn[1], line 2\u001b[1;36m\u001b[0m\n\u001b[1;33m    print('Hello World')\u001b[0m\n\u001b[1;37m    ^\u001b[0m\n\u001b[1;31mIndentationError\u001b[0m\u001b[1;31m:\u001b[0m expected an indented block after 'while' statement on line 1\n"
     ]
    }
   ],
   "source": [
    "while True:\n",
    "print('Hello World')"
   ]
  },
  {
   "cell_type": "markdown",
   "id": "de12755f",
   "metadata": {},
   "source": [
    "## Question 3"
   ]
  },
  {
   "cell_type": "markdown",
   "id": "493611c0",
   "metadata": {},
   "source": [
    "The try and except statements are used to handle an exception in python programming language. The code snippet which might generate an error is written inside the try block and the error which occurs is handled by the except block."
   ]
  },
  {
   "cell_type": "code",
   "execution_count": 3,
   "id": "7a1c4a70",
   "metadata": {},
   "outputs": [
    {
     "name": "stdout",
     "output_type": "stream",
     "text": [
      "The error is:  name 'x' is not defined\n"
     ]
    }
   ],
   "source": [
    "try:\n",
    "    result = x // y\n",
    "    print(\"Yeah ! Your answer is :\", result)\n",
    "except Exception as e:\n",
    "    print(\"The error is: \",e)\n"
   ]
  },
  {
   "cell_type": "markdown",
   "id": "48867b58",
   "metadata": {},
   "source": [
    "## Question 4"
   ]
  },
  {
   "cell_type": "markdown",
   "id": "081765a9",
   "metadata": {},
   "source": [
    "try else block processes the code that is inside the try block and if there are no errors in my code block then the statements under the else block get executed."
   ]
  },
  {
   "cell_type": "code",
   "execution_count": 4,
   "id": "9bc91925",
   "metadata": {},
   "outputs": [
    {
     "name": "stdout",
     "output_type": "stream",
     "text": [
      "Hello\n",
      "Nothing went wrong\n"
     ]
    }
   ],
   "source": [
    "try:\n",
    "  print(\"Hello\")\n",
    "except:\n",
    "  print(\"Something went wrong\")\n",
    "else:\n",
    "  print(\"Nothing went wrong\")"
   ]
  },
  {
   "cell_type": "markdown",
   "id": "e0b8f31d",
   "metadata": {},
   "source": [
    "Python provides a keyword finally, which is always executed after the try and except blocks. The final block always executes after the normal termination of the try block or after the try block terminates due to some exceptions."
   ]
  },
  {
   "cell_type": "code",
   "execution_count": 5,
   "id": "fe19b711",
   "metadata": {},
   "outputs": [
    {
     "name": "stdout",
     "output_type": "stream",
     "text": [
      "trying to divide by zero\n",
      "This is always executed\n"
     ]
    }
   ],
   "source": [
    "try:\n",
    "    div = 10//0 \n",
    "    print(div)\n",
    "except ZeroDivisionError:   \n",
    "    print(\"trying to divide by zero\")  \n",
    "finally:\n",
    "    print('This is always executed') "
   ]
  },
  {
   "cell_type": "markdown",
   "id": "911e9499",
   "metadata": {},
   "source": [
    "In Python you can choose to throw an exception if a condition occurs.\n",
    "To throw (or raise) an exception, we use the raise keyword."
   ]
  },
  {
   "cell_type": "code",
   "execution_count": 6,
   "id": "ef13c957",
   "metadata": {},
   "outputs": [
    {
     "ename": "Exception",
     "evalue": "Negative number received",
     "output_type": "error",
     "traceback": [
      "\u001b[1;31m---------------------------------------------------------------------------\u001b[0m",
      "\u001b[1;31mException\u001b[0m                                 Traceback (most recent call last)",
      "Cell \u001b[1;32mIn[6], line 3\u001b[0m\n\u001b[0;32m      1\u001b[0m x \u001b[38;5;241m=\u001b[39m \u001b[38;5;241m-\u001b[39m\u001b[38;5;241m1\u001b[39m\n\u001b[0;32m      2\u001b[0m \u001b[38;5;28;01mif\u001b[39;00m x \u001b[38;5;241m<\u001b[39m \u001b[38;5;241m0\u001b[39m:\n\u001b[1;32m----> 3\u001b[0m   \u001b[38;5;28;01mraise\u001b[39;00m \u001b[38;5;167;01mException\u001b[39;00m(\u001b[38;5;124m\"\u001b[39m\u001b[38;5;124mNegative number received\u001b[39m\u001b[38;5;124m\"\u001b[39m)\n",
      "\u001b[1;31mException\u001b[0m: Negative number received"
     ]
    }
   ],
   "source": [
    "x = -1\n",
    "if x < 0:\n",
    "  raise Exception(\"Negative number received\")"
   ]
  },
  {
   "cell_type": "markdown",
   "id": "9fad10bb",
   "metadata": {},
   "source": [
    "## Question 5"
   ]
  },
  {
   "cell_type": "markdown",
   "id": "d4ae1d15",
   "metadata": {},
   "source": [
    "In Python, we can define custom exceptions by creating a new class that is derived from the built-in Exception class. Custom exceptions can be used to handle a variety of errors and situations in Python. They can also be used to create your own custom error handling logic. "
   ]
  },
  {
   "cell_type": "code",
   "execution_count": 9,
   "id": "6ff8a4bc",
   "metadata": {},
   "outputs": [
    {
     "ename": "CustomError",
     "evalue": "Example of Custom Exceptions in Python",
     "output_type": "error",
     "traceback": [
      "\u001b[1;31m---------------------------------------------------------------------------\u001b[0m",
      "\u001b[1;31mCustomError\u001b[0m                               Traceback (most recent call last)",
      "Cell \u001b[1;32mIn[9], line 4\u001b[0m\n\u001b[0;32m      1\u001b[0m \u001b[38;5;28;01mclass\u001b[39;00m \u001b[38;5;21;01mCustomError\u001b[39;00m(\u001b[38;5;167;01mException\u001b[39;00m):\n\u001b[0;32m      2\u001b[0m     \u001b[38;5;28;01mpass\u001b[39;00m\n\u001b[1;32m----> 4\u001b[0m \u001b[38;5;28;01mraise\u001b[39;00m CustomError(\u001b[38;5;124m\"\u001b[39m\u001b[38;5;124mExample of Custom Exceptions in Python\u001b[39m\u001b[38;5;124m\"\u001b[39m)\n",
      "\u001b[1;31mCustomError\u001b[0m: Example of Custom Exceptions in Python"
     ]
    }
   ],
   "source": [
    "class CustomError(Exception):\n",
    "    pass\n",
    "\n",
    "raise CustomError(\"Example of Custom Exceptions in Python\")"
   ]
  },
  {
   "cell_type": "markdown",
   "id": "813b9f7a",
   "metadata": {},
   "source": [
    "## Question 6"
   ]
  },
  {
   "cell_type": "code",
   "execution_count": 8,
   "id": "b354fb10",
   "metadata": {},
   "outputs": [
    {
     "name": "stdout",
     "output_type": "stream",
     "text": [
      "Enter your age: 5\n",
      "Invalid age: 5\n"
     ]
    }
   ],
   "source": [
    "class InvalidAgeException(Exception):\n",
    "    def __init__(self, age):\n",
    "        self.age = age\n",
    "\n",
    "    def __str__(self):\n",
    "        return f\"Invalid age: {self.age}\"\n",
    "    \n",
    "try:\n",
    "    age = int(input(\"Enter your age: \"))\n",
    "    if age < 18:\n",
    "        raise InvalidAgeException(age)\n",
    "except InvalidAgeException as e:\n",
    "    print(e)"
   ]
  },
  {
   "cell_type": "code",
   "execution_count": null,
   "id": "2f0c9e0f",
   "metadata": {},
   "outputs": [],
   "source": []
  }
 ],
 "metadata": {
  "kernelspec": {
   "display_name": "Python 3 (ipykernel)",
   "language": "python",
   "name": "python3"
  },
  "language_info": {
   "codemirror_mode": {
    "name": "ipython",
    "version": 3
   },
   "file_extension": ".py",
   "mimetype": "text/x-python",
   "name": "python",
   "nbconvert_exporter": "python",
   "pygments_lexer": "ipython3",
   "version": "3.11.4"
  }
 },
 "nbformat": 4,
 "nbformat_minor": 5
}
