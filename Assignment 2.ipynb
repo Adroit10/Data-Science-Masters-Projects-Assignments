{
 "cells": [
  {
   "cell_type": "code",
   "execution_count": 6,
   "id": "c7172bff",
   "metadata": {},
   "outputs": [
    {
     "name": "stdout",
     "output_type": "stream",
     "text": [
      "enter the marks obtained in form of percentage 97\n",
      "Grade - A\n"
     ]
    }
   ],
   "source": [
    "# Question 1\n",
    "perc=int(input(\"enter the marks obtained in form of rounded off percentage \"))\n",
    "if perc>90:\n",
    "    print(\"Grade - A\")\n",
    "elif perc>80 and perc<=90:\n",
    "    print(\"Grade - B\")\n",
    "elif perc>=60 and perc<=80:\n",
    "    print(\"Grade - C\")\n",
    "else:\n",
    "    print(\"Grade - D\")"
   ]
  },
  {
   "cell_type": "code",
   "execution_count": 10,
   "id": "6d5c0eab",
   "metadata": {},
   "outputs": [
    {
     "name": "stdout",
     "output_type": "stream",
     "text": [
      "enter the cost price of the bike 45000\n",
      "2250.0 is the tax that is to be paid\n"
     ]
    }
   ],
   "source": [
    "# Question 2\n",
    "cost_price=int(input(\"enter the cost price of the bike \"))\n",
    "if cost_price>100000:\n",
    "    print(\"{} is the tax that is to be paid\".format(cost_price*0.15))\n",
    "elif cost_price>50000 and cost_price<=100000:\n",
    "    print(\"{} is the tax that is to be paid\".format(cost_price*0.10))\n",
    "else:\n",
    "     print(\"{} is the tax that is to be paid\".format(cost_price*0.05))"
   ]
  },
  {
   "cell_type": "code",
   "execution_count": 11,
   "id": "d3df5ae9",
   "metadata": {},
   "outputs": [
    {
     "name": "stdout",
     "output_type": "stream",
     "text": [
      "enter a city name Delhi\n",
      "Red Fort is a monument in Delhi\n"
     ]
    }
   ],
   "source": [
    "# Question 3\n",
    "city=input(\"enter a city name \")\n",
    "if city==\"Delhi\":\n",
    "    print(\"Red Fort is a monument in {}\".format(city))\n",
    "elif city==\"Agra\":\n",
    "    print(\"Taj Mahal is a monument in {}\".format(city))\n",
    "elif city==\"Jaipur\":\n",
    "    print(\"Jal Mahal is a monument in {}\".format(city))"
   ]
  },
  {
   "cell_type": "code",
   "execution_count": 17,
   "id": "81e69143",
   "metadata": {},
   "outputs": [
    {
     "name": "stdout",
     "output_type": "stream",
     "text": [
      "enter a number 15\n",
      "15 is divisible by 3 1 times before being less than or equal to 10\n"
     ]
    }
   ],
   "source": [
    "# Question 4\n",
    "num=int(input(\"enter a number \"))\n",
    "temp=num\n",
    "count=0;\n",
    "while(num>=10):\n",
    "    num=num/3\n",
    "    count+=1\n",
    "print(\"{} is divisible by 3 {} times before being less than or equal to 10\".format(temp,count))\n",
    "    "
   ]
  },
  {
   "cell_type": "markdown",
   "id": "ba64cf0b",
   "metadata": {},
   "source": [
    "## Question 5\n",
    "'''\n",
    "While Loops are used to execute a block of code repeatedly until a given condition is met\n",
    "while loops come in handy when we do not know how many times the block is going to be executed. Example of a while loop is given below:\n",
    "'''\n"
   ]
  },
  {
   "cell_type": "code",
   "execution_count": 22,
   "id": "8bf3f57a",
   "metadata": {},
   "outputs": [
    {
     "name": "stdout",
     "output_type": "stream",
     "text": [
      "0 2 4 6 8 10 12 14 16 18 20 "
     ]
    }
   ],
   "source": [
    "# example\n",
    "i=0\n",
    "while i<=20:\n",
    "    if i%2==0:\n",
    "        print(i,end=\" \")\n",
    "    i+=1"
   ]
  },
  {
   "cell_type": "code",
   "execution_count": null,
   "id": "5896eaef",
   "metadata": {},
   "outputs": [],
   "source": []
  },
  {
   "cell_type": "code",
   "execution_count": 28,
   "id": "653c1b54",
   "metadata": {},
   "outputs": [
    {
     "name": "stdout",
     "output_type": "stream",
     "text": [
      "* \n",
      "** \n",
      "*** \n",
      "**** \n",
      "***** \n"
     ]
    }
   ],
   "source": [
    "# Question 6\n",
    "# first pattern\n",
    "i=1\n",
    "while i<=5:\n",
    "    j=1\n",
    "    while j<=i:\n",
    "        print(\"*\",end=\"\")\n",
    "        j+=1\n",
    "    print(\" \")\n",
    "    i+=1"
   ]
  },
  {
   "cell_type": "code",
   "execution_count": 41,
   "id": "7b9fd3c0",
   "metadata": {},
   "outputs": [
    {
     "name": "stdout",
     "output_type": "stream",
     "text": [
      "    *\r\n",
      "   **\r\n",
      "  ***\r\n",
      " ****\r\n",
      "*****\r\n"
     ]
    }
   ],
   "source": [
    "# second pattern\n",
    "i,k=1,4\n",
    "while i<=5:\n",
    "    l,j=1,1\n",
    "    while j<=k:\n",
    "        print(end=\" \")\n",
    "        j+=1\n",
    "    k-=1\n",
    "    while l<=i:\n",
    "        print(\"*\",end=\"\")\n",
    "        l+=1\n",
    "    print(\"\\r\")\n",
    "    i+=1\n"
   ]
  },
  {
   "cell_type": "code",
   "execution_count": 42,
   "id": "19209178",
   "metadata": {},
   "outputs": [
    {
     "name": "stdout",
     "output_type": "stream",
     "text": [
      "    * \r\n",
      "   * * \r\n",
      "  * * * \r\n",
      " * * * * \r\n",
      "* * * * * \r\n"
     ]
    }
   ],
   "source": [
    "# third pattern\n",
    "i,k=1,4\n",
    "while i<=5:\n",
    "    l,j=1,1\n",
    "    while j<=k:\n",
    "        print(end=\" \")\n",
    "        j+=1\n",
    "    k-=1\n",
    "    while l<=i:\n",
    "        print(\"*\",end=\" \")\n",
    "        l+=1\n",
    "    print(\"\\r\")\n",
    "    i+=1"
   ]
  },
  {
   "cell_type": "code",
   "execution_count": 43,
   "id": "b8817ac7",
   "metadata": {},
   "outputs": [
    {
     "name": "stdout",
     "output_type": "stream",
     "text": [
      "10 9 8 7 6 5 4 3 2 1 "
     ]
    }
   ],
   "source": [
    "# Question 7\n",
    "i=10\n",
    "while i>=1:\n",
    "    print(i,end=\" \")\n",
    "    i-=1"
   ]
  },
  {
   "cell_type": "code",
   "execution_count": null,
   "id": "dfda52bd",
   "metadata": {},
   "outputs": [],
   "source": []
  }
 ],
 "metadata": {
  "kernelspec": {
   "display_name": "Python 3 (ipykernel)",
   "language": "python",
   "name": "python3"
  },
  "language_info": {
   "codemirror_mode": {
    "name": "ipython",
    "version": 3
   },
   "file_extension": ".py",
   "mimetype": "text/x-python",
   "name": "python",
   "nbconvert_exporter": "python",
   "pygments_lexer": "ipython3",
   "version": "3.9.7"
  }
 },
 "nbformat": 4,
 "nbformat_minor": 5
}
