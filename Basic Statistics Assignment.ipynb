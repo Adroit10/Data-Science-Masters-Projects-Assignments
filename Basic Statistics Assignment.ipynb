{
 "cells": [
  {
   "cell_type": "markdown",
   "id": "2afcd212",
   "metadata": {},
   "source": [
    "## Question 1"
   ]
  },
  {
   "cell_type": "markdown",
   "id": "036f3372",
   "metadata": {},
   "source": [
    "Statistics is the science which is concerned with developing and studying methods for collection, analysis, interpretation, presentation, and organization of the data."
   ]
  },
  {
   "cell_type": "markdown",
   "id": "8739f87c",
   "metadata": {},
   "source": [
    "## Question 2"
   ]
  },
  {
   "cell_type": "markdown",
   "id": "9987a85f",
   "metadata": {},
   "source": [
    "There are two main types of statistics:\n",
    "  1. Descriptive Statistics: In this type of statistics, the data is summarised  through the given observations.Descriptive statistics is a way to organise, represent and describe a collection of data using tables, graphs, and summary measures. For example, the collection of people in a city using the internet or using Television. It includes measure of central tendancy, dispersion, frequency, and position.\n",
    "  \n",
    "  \n",
    "  2. Inferential Statistics: This type of statistics is used to interpret the meaning of Descriptive statistics. That means once the data has been collected, analysed and summarised then we use these stats to describe the meaning of the collected data. Or we can say, it is used to draw conclusions from the data that depends on random variations such as observational errors, sampling variation, etc. For example, deriving estimates from hypothetical research."
   ]
  },
  {
   "cell_type": "markdown",
   "id": "10dfde75",
   "metadata": {},
   "source": [
    "## Question 3"
   ]
  },
  {
   "cell_type": "markdown",
   "id": "c541ee8b",
   "metadata": {},
   "source": [
    "Data can be broadly divided into two main categories:\n",
    "    Quantitative \n",
    "    Qualitative\n",
    "    \n",
    " Quantitative data tells us about the quantities of things or the things we can measure. And, so they are expressed in terms of numbers. It is also known as numerical data and includes statistical data analysis. Examples: height, water, distance, and so on. It is further classified into Discrete and continous data.\n",
    " \n",
    " Qualitative data on the other hand  referred to as categorical data. They are an observed phenomenon and cannot be measured with numbers. Examples: a race, age group, gender, origin, and so on. Even if they contain a numerical value, they hold no meaning. Qualitative data can be subdivided into nominal, ordinal, interval scale, and ratio scale data. "
   ]
  },
  {
   "cell_type": "markdown",
   "id": "c02fe657",
   "metadata": {},
   "source": [
    "## Question 4"
   ]
  },
  {
   "cell_type": "markdown",
   "id": "6800762c",
   "metadata": {},
   "source": [
    "1. Grading in exam: A+, A, B+, B, C+, C, D, E : is an example of qualitative data.\n",
    "2. Colour of mangoes: yellow, green, orange, red : example of qualitative data\n",
    "3. Height data of a class: [178.9, 179, 179.5, 176, 177.2, 178.3, 175.8,...]: example of quantitative data\n",
    "4. Number of mangoes exported by a farm: [500, 600, 478, 672, ...]: example of quantitative data"
   ]
  },
  {
   "cell_type": "markdown",
   "id": "8d2b16c9",
   "metadata": {},
   "source": [
    "## Question 5"
   ]
  },
  {
   "cell_type": "markdown",
   "id": "53412a37",
   "metadata": {},
   "source": [
    "Levels of measurement, also called scales of measurement, tell you how precisely variables are recorded. The different levels of measurement of data are:\n",
    "   1. Nominal data: Nominal data is a type of data that represents discrete units which is why it cannot be ordered and measured. They are used to label variables without providing any quantitative value. Also, they have no meaningful zero.Some examples of nominal data include\n",
    "              Gender ( Male, Female)\n",
    "              Hair color ( Black, Brown, Gray, etc)\n",
    "              Nationality (Indian, American, Chinese, etc)\n",
    "              \n",
    "              \n",
    "   2. ordinal data: Ordinal values represent discrete as well as ordered units. Unlike nominal, here the ordering matters. However, there is no consistency in the relative distance between the adjacent categories. And, similar to nominal data, ordinal data also don't have a meaningful zero. Examples of ordinal data:\n",
    "           Opinion (agree, mostly agree, neutral, mostly disagree, disagree)\n",
    "           Socioeconomic status (low income, middle income, high income)\n",
    "      \n",
    "      \n",
    "   3. Interval data: It represents ordered data that is measured along a numerical scale with equal distances between the adjacent units. These equal distances are also referred to as intervals. So a variable contains interval data if it has ordered numeric values with the exact differences known between them. Interval data can be continuous or discrete.Examples of Interval data:\n",
    "           IQ test’s intelligence scale\n",
    "           Time if measured using a 12-hour clock\n",
    "      You can compare the data with interval data and add/subtract the values but cannot multiply or divide as it doesn't have a meaningful zero.\n",
    "      \n",
    "   4. Ratio data: Like Interval data, ratio data are also ordered with the same difference between the individual units. However, they also have a meaningful zero so they cannot take negative values.Examples of ratio data:\n",
    "           Temperature on a Kelvin scale (0 degrees represent total absence of thermal energy)\n",
    "           Height ( zero is the starting point)\n",
    "      Now with real zero points, we can also multiply and divide the numbers. Besides, you can sort the values as well. "
   ]
  },
  {
   "cell_type": "markdown",
   "id": "9a02a59f",
   "metadata": {},
   "source": [
    "## Question 6"
   ]
  },
  {
   "cell_type": "markdown",
   "id": "060765c0",
   "metadata": {},
   "source": [
    "It is important to understand the level of measurement of variables in research, because the level of measurement determines the type of statistical analysis that can be conducted, and, therefore, the type of conclusions that can be drawn from the research. Example: if we have qualitative data for which we cannot describe the proper order we categorise this type of data as nominal data and can use suitable visualization like pie chart or bar chart and to transform the data to numeric values for using it in our model we use One Hot encoding technique."
   ]
  },
  {
   "cell_type": "markdown",
   "id": "4e8c16a8",
   "metadata": {},
   "source": [
    "## Question 7"
   ]
  },
  {
   "cell_type": "markdown",
   "id": "092942a5",
   "metadata": {},
   "source": [
    " Nominal data is a type of data that represents discrete units which is why it cannot be ordered and measured. They are used to label variables without providing any quantitative value. Also, they have no meaningful zero.\n",
    " \n",
    " Ordinal data represents discrete as well as ordered units. Unlike nominal, here the ordering matters. However, there is no consistency in the relative distance between the adjacent categories. And, similar to nominal data, ordinal data also don't have a meaningful zero."
   ]
  },
  {
   "cell_type": "markdown",
   "id": "660a1d2a",
   "metadata": {},
   "source": [
    "## Question 8"
   ]
  },
  {
   "cell_type": "markdown",
   "id": "175b7173",
   "metadata": {},
   "source": [
    "Histogram is a type of plot that can be used to display data in terms of range"
   ]
  },
  {
   "cell_type": "markdown",
   "id": "ee7cefaf",
   "metadata": {},
   "source": [
    "## Question 9"
   ]
  },
  {
   "cell_type": "markdown",
   "id": "8913e538",
   "metadata": {},
   "source": [
    " 1. Descriptive Statistics: In this type of statistics, the data is summarised  through the given observations.Descriptive statistics is a way to organise, represent and describe a collection of data using tables, graphs, and summary measures. For example, the collection of people in a city using the internet or using Television. It includes measure of central tendancy, dispersion, frequency, and position.\n",
    "  \n",
    "  \n",
    "  2. Inferential Statistics: This type of statistics is used to interpret the meaning of Descriptive statistics. That means once the data has been collected, analysed and summarised then we use these stats to describe the meaning of the collected data. Or we can say, it is used to draw conclusions from the data that depends on random variations such as observational errors, sampling variation, etc. For example, deriving estimates from hypothetical research."
   ]
  },
  {
   "cell_type": "markdown",
   "id": "495eb00e",
   "metadata": {},
   "source": [
    "## Question 10"
   ]
  },
  {
   "cell_type": "markdown",
   "id": "7e91ccdc",
   "metadata": {},
   "source": [
    "Central tendency and variation are two measures used in statistics to summarize data. Measure of central tendency shows where the center or middle of the data set is located, whereas measure of variation shows the dispersion among data values.\n",
    "\n",
    "Measure of central tendancy:\n",
    "\n",
    "Mean: average of data values.\n",
    "\n",
    "Median: middle value or the average of middle two values in a data set when the numbers are arranged in an order.\n",
    "\n",
    "Mode: Value that occurs with the greatest frequency.\n",
    "\n",
    "\n",
    "Measure of Variation:\n",
    "\n",
    "Standard deviation: measure of how much data values are deviated away from mean. \n",
    "\n",
    "variance: square of the standard deviation\n",
    "\n",
    "Range: difference between the maximum and minimum values in the dataset."
   ]
  },
  {
   "cell_type": "code",
   "execution_count": null,
   "id": "0e2f90c4",
   "metadata": {},
   "outputs": [],
   "source": []
  }
 ],
 "metadata": {
  "kernelspec": {
   "display_name": "Python 3 (ipykernel)",
   "language": "python",
   "name": "python3"
  },
  "language_info": {
   "codemirror_mode": {
    "name": "ipython",
    "version": 3
   },
   "file_extension": ".py",
   "mimetype": "text/x-python",
   "name": "python",
   "nbconvert_exporter": "python",
   "pygments_lexer": "ipython3",
   "version": "3.9.7"
  }
 },
 "nbformat": 4,
 "nbformat_minor": 5
}
